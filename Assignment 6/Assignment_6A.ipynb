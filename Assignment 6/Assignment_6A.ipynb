{
  "nbformat": 4,
  "nbformat_minor": 0,
  "metadata": {
    "colab": {
      "name": "Assignment 6A.ipynb",
      "provenance": [],
      "collapsed_sections": [],
      "machine_shape": "hm",
      "include_colab_link": true
    },
    "kernelspec": {
      "name": "python3",
      "display_name": "Python 3"
    },
    "accelerator": "GPU"
  },
  "cells": [
    {
      "cell_type": "markdown",
      "metadata": {
        "id": "view-in-github",
        "colab_type": "text"
      },
      "source": [
        "<a href=\"https://colab.research.google.com/github/Venu2791/Deep-Vision/blob/master/Assignment%206/Assignment_6A.ipynb\" target=\"_parent\"><img src=\"https://colab.research.google.com/assets/colab-badge.svg\" alt=\"Open In Colab\"/></a>"
      ]
    },
    {
      "cell_type": "markdown",
      "metadata": {
        "id": "3TnQkPapcJqK",
        "colab_type": "text"
      },
      "source": [
        "##Problem Statement:\n",
        "\n",
        "Run the first network for 100 epochs and achieve a base accuracy.\n",
        "\n",
        "Build a better architecure without using any special convolution techniques and beat the base accuracy. \n"
      ]
    },
    {
      "cell_type": "code",
      "metadata": {
        "id": "KkwXnw9OfHZl",
        "colab_type": "code",
        "outputId": "4959f0ed-b379-4ffb-b8ad-e6ed827341c9",
        "colab": {
          "base_uri": "https://localhost:8080/",
          "height": 34
        }
      },
      "source": [
        "from keras import backend as K\n",
        "import time\n",
        "import matplotlib.pyplot as plt\n",
        "import numpy as np\n",
        "% matplotlib inline\n",
        "np.random.seed(2017) \n",
        "from keras.models import Sequential\n",
        "from keras.layers.convolutional import Convolution2D, MaxPooling2D\n",
        "from keras.layers import Activation, Flatten, Dense, Dropout,GlobalAveragePooling2D\n",
        "from keras.layers.normalization import BatchNormalization\n",
        "from keras.utils import np_utils\n",
        "!pip install -q utils "
      ],
      "execution_count": 0,
      "outputs": [
        {
          "output_type": "stream",
          "text": [
            "Using TensorFlow backend.\n"
          ],
          "name": "stderr"
        }
      ]
    },
    {
      "cell_type": "markdown",
      "metadata": {
        "id": "PHtYoDQ059-f",
        "colab_type": "text"
      },
      "source": [
        "##Loading dataset\n",
        "\n",
        "Cifar10 has 10 different classes. Train data : 50000 and Test data : 10000.\n",
        "Image Resolution :32X32\n",
        "\n"
      ]
    },
    {
      "cell_type": "code",
      "metadata": {
        "id": "NHpnoCHZfO8g",
        "colab_type": "code",
        "outputId": "e47a50f3-8793-4178-9b78-4f8dc252cea2",
        "colab": {
          "base_uri": "https://localhost:8080/",
          "height": 51
        }
      },
      "source": [
        "from keras.datasets import cifar10\n",
        "(train_features, train_labels), (test_features, test_labels) = cifar10.load_data()\n",
        "num_train, img_channels, img_rows, img_cols =  train_features.shape\n",
        "num_test, _, _, _ =  test_features.shape\n",
        "num_classes = len(np.unique(train_labels))"
      ],
      "execution_count": 0,
      "outputs": [
        {
          "output_type": "stream",
          "text": [
            "Downloading data from https://www.cs.toronto.edu/~kriz/cifar-10-python.tar.gz\n",
            "170500096/170498071 [==============================] - 2s 0us/step\n"
          ],
          "name": "stdout"
        }
      ]
    },
    {
      "cell_type": "markdown",
      "metadata": {
        "id": "z0DC7jZtdmoP",
        "colab_type": "text"
      },
      "source": [
        "Plot each class from CIFAR 10.\n",
        "1. Create a list for classes in CIFAR10 dataset.\n",
        "2. Create the subplot figure.\n",
        "2. Iterate over each class and Pick a random image for each class from the train dataset.\n",
        "3. Subplot all the classes of CIFAR10 with the appropriate label."
      ]
    },
    {
      "cell_type": "code",
      "metadata": {
        "id": "14HyBUXdfS6G",
        "colab_type": "code",
        "outputId": "5895e297-a773-46b1-a08f-97c07c176f23",
        "colab": {
          "base_uri": "https://localhost:8080/",
          "height": 213
        }
      },
      "source": [
        "class_names = ['airplane','automobile','bird','cat','deer',\n",
        "               'dog','frog','horse','ship','truck']\n",
        "fig = plt.figure(figsize=(8,3))\n",
        "for i in range(num_classes):\n",
        "    ax = fig.add_subplot(2, 5, 1 + i, xticks=[], yticks=[])\n",
        "    idx = np.where(train_labels[:]==i)[0]\n",
        "    features_idx = train_features[idx,::]\n",
        "    img_num = np.random.randint(features_idx.shape[0])\n",
        "    im = features_idx[img_num]\n",
        "    ax.set_title(class_names[i])\n",
        "    plt.imshow(im)\n",
        "plt.show()"
      ],
      "execution_count": 0,
      "outputs": [
        {
          "output_type": "display_data",
          "data": {
            "image/png": "[encoded data removed]",
            "text/plain": [
              "<Figure size 576x216 with 10 Axes>"
            ]
          },
          "metadata": {
            "tags": []
          }
        }
      ]
    },
    {
      "cell_type": "markdown",
      "metadata": {
        "id": "pvfE_wID7P-W",
        "colab_type": "text"
      },
      "source": [
        "The below code is to plot the comparison of loss and accuracy betweeen train and test dataset taking model.fit as argument."
      ]
    },
    {
      "cell_type": "code",
      "metadata": {
        "id": "bmfsk76-fadV",
        "colab_type": "code",
        "colab": {}
      },
      "source": [
        "def plot_model_history(model_history):\n",
        "    fig, axs = plt.subplots(1,2,figsize=(15,5))\n",
        "    # summarize history for accuracy\n",
        "    axs[0].plot(range(1,len(model_history.history['acc'])+1),model_history.history['acc'])\n",
        "    axs[0].plot(range(1,len(model_history.history['val_acc'])+1),model_history.history['val_acc'])\n",
        "    axs[0].set_title('Model Accuracy')\n",
        "    axs[0].set_ylabel('Accuracy')\n",
        "    axs[0].set_xlabel('Epoch')\n",
        "    axs[0].set_xticks(np.arange(1,len(model_history.history['acc'])+1),len(model_history.history['acc'])/10)\n",
        "    axs[0].legend(['train', 'val'], loc='best')\n",
        "    # summarize history for loss\n",
        "    axs[1].plot(range(1,len(model_history.history['loss'])+1),model_history.history['loss'])\n",
        "    axs[1].plot(range(1,len(model_history.history['val_loss'])+1),model_history.history['val_loss'])\n",
        "    axs[1].set_title('Model Loss')\n",
        "    axs[1].set_ylabel('Loss')\n",
        "    axs[1].set_xlabel('Epoch')\n",
        "    axs[1].set_xticks(np.arange(1,len(model_history.history['loss'])+1),len(model_history.history['loss'])/10)\n",
        "    axs[1].legend(['train', 'val'], loc='best')\n",
        "    plt.show()"
      ],
      "execution_count": 0,
      "outputs": []
    },
    {
      "cell_type": "markdown",
      "metadata": {
        "id": "PtQQ1wgOHE5b",
        "colab_type": "text"
      },
      "source": [
        "##Test Accuracy:\n",
        "With the trained model, we do the predictions for the test dataset using predict function. We then compute the accuracy.\n",
        "\n",
        "Accuracy= # of correct predictions/number of samples."
      ]
    },
    {
      "cell_type": "code",
      "metadata": {
        "id": "YJMT4rjgfdZz",
        "colab_type": "code",
        "colab": {}
      },
      "source": [
        "def accuracy(test_x, test_y, model):\n",
        "    result = model.predict(test_x)\n",
        "    predicted_class = np.argmax(result, axis=1)\n",
        "    true_class = np.argmax(test_y, axis=1)\n",
        "    num_correct = np.sum(predicted_class == true_class) \n",
        "    accuracy = float(num_correct)/result.shape[0]\n",
        "    return (accuracy * 100)"
      ],
      "execution_count": 0,
      "outputs": []
    },
    {
      "cell_type": "markdown",
      "metadata": {
        "id": "MaLxyPZhIyOK",
        "colab_type": "text"
      },
      "source": [
        "##Preprocessing data\n",
        "\n",
        "1. Convert the image matrices to float and standardize (Dividing by 255) both train and test data. \n",
        "2. One-hot coding the train and test labels.\n"
      ]
    },
    {
      "cell_type": "code",
      "metadata": {
        "id": "T5c5nDvxm6zR",
        "colab_type": "code",
        "colab": {}
      },
      "source": [
        "train_features = train_features.astype('float32')/255\n",
        "test_features = test_features.astype('float32')/255\n",
        "# convert class labels to binary class labels\n",
        "train_labels = np_utils.to_categorical(train_labels, num_classes)\n",
        "test_labels = np_utils.to_categorical(test_labels, num_classes)"
      ],
      "execution_count": 0,
      "outputs": []
    },
    {
      "cell_type": "markdown",
      "metadata": {
        "id": "WYMTojYoJj27",
        "colab_type": "text"
      },
      "source": [
        "##Base Model\n",
        "\n",
        "Base model consists of 6 convolutions layers, 2 pooling layer and 2 layers. Run this mode for 100 epochs and fix the base accuracy.\n"
      ]
    },
    {
      "cell_type": "code",
      "metadata": {
        "id": "cSOb2lkJfhVq",
        "colab_type": "code",
        "outputId": "e3b5e5da-b1a3-4d36-e9d0-a8f7f85024e4",
        "colab": {
          "base_uri": "https://localhost:8080/",
          "height": 530
        }
      },
      "source": [
        "# Define the model\n",
        "model = Sequential()\n",
        "model.add(Convolution2D(48, 3, 3, border_mode='same', input_shape=(32, 32, 3)))\n",
        "model.add(Activation('relu'))\n",
        "model.add(Convolution2D(48, 3, 3))\n",
        "model.add(Activation('relu'))\n",
        "model.add(MaxPooling2D(pool_size=(2, 2)))\n",
        "model.add(Dropout(0.25))\n",
        "model.add(Convolution2D(96, 3, 3, border_mode='same'))\n",
        "model.add(Activation('relu'))\n",
        "model.add(Convolution2D(96, 3, 3))\n",
        "model.add(Activation('relu'))\n",
        "model.add(MaxPooling2D(pool_size=(2, 2)))\n",
        "model.add(Dropout(0.25))\n",
        "model.add(Convolution2D(192, 3, 3, border_mode='same'))\n",
        "model.add(Activation('relu'))\n",
        "model.add(Convolution2D(192, 3, 3))\n",
        "model.add(Activation('relu'))\n",
        "model.add(MaxPooling2D(pool_size=(2, 2)))\n",
        "model.add(Dropout(0.25))\n",
        "model.add(Flatten())\n",
        "model.add(Dense(512))\n",
        "model.add(Activation('relu'))\n",
        "model.add(Dropout(0.5))\n",
        "model.add(Dense(256))\n",
        "model.add(Activation('relu'))\n",
        "model.add(Dropout(0.5))\n",
        "model.add(Dense(num_classes, activation='softmax'))\n",
        "# Compile the model\n",
        "model.compile(optimizer='adam', loss='categorical_crossentropy', metrics=['accuracy'])\n"
      ],
      "execution_count": 0,
      "outputs": [
        {
          "output_type": "stream",
          "text": [
            "WARNING:tensorflow:From /usr/local/lib/python3.6/dist-packages/keras/backend/tensorflow_backend.py:66: The name tf.get_default_graph is deprecated. Please use tf.compat.v1.get_default_graph instead.\n",
            "\n",
            "WARNING:tensorflow:From /usr/local/lib/python3.6/dist-packages/keras/backend/tensorflow_backend.py:541: The name tf.placeholder is deprecated. Please use tf.compat.v1.placeholder instead.\n",
            "\n",
            "WARNING:tensorflow:From /usr/local/lib/python3.6/dist-packages/keras/backend/tensorflow_backend.py:4432: The name tf.random_uniform is deprecated. Please use tf.random.uniform instead.\n",
            "\n",
            "WARNING:tensorflow:From /usr/local/lib/python3.6/dist-packages/keras/backend/tensorflow_backend.py:4267: The name tf.nn.max_pool is deprecated. Please use tf.nn.max_pool2d instead.\n",
            "\n",
            "WARNING:tensorflow:From /usr/local/lib/python3.6/dist-packages/keras/backend/tensorflow_backend.py:148: The name tf.placeholder_with_default is deprecated. Please use tf.compat.v1.placeholder_with_default instead.\n",
            "\n",
            "WARNING:tensorflow:From /usr/local/lib/python3.6/dist-packages/keras/backend/tensorflow_backend.py:3733: calling dropout (from tensorflow.python.ops.nn_ops) with keep_prob is deprecated and will be removed in a future version.\n",
            "Instructions for updating:\n",
            "Please use `rate` instead of `keep_prob`. Rate should be set to `rate = 1 - keep_prob`.\n"
          ],
          "name": "stdout"
        },
        {
          "output_type": "stream",
          "text": [
            "/usr/local/lib/python3.6/dist-packages/ipykernel_launcher.py:2: UserWarning: Update your `Conv2D` call to the Keras 2 API: `Conv2D(48, (3, 3), input_shape=(32, 32, 3..., padding=\"same\")`\n",
            "  \n",
            "/usr/local/lib/python3.6/dist-packages/ipykernel_launcher.py:4: UserWarning: Update your `Conv2D` call to the Keras 2 API: `Conv2D(48, (3, 3))`\n",
            "  after removing the cwd from sys.path.\n",
            "/usr/local/lib/python3.6/dist-packages/ipykernel_launcher.py:8: UserWarning: Update your `Conv2D` call to the Keras 2 API: `Conv2D(96, (3, 3), padding=\"same\")`\n",
            "  \n",
            "/usr/local/lib/python3.6/dist-packages/ipykernel_launcher.py:10: UserWarning: Update your `Conv2D` call to the Keras 2 API: `Conv2D(96, (3, 3))`\n",
            "  # Remove the CWD from sys.path while we load stuff.\n",
            "/usr/local/lib/python3.6/dist-packages/ipykernel_launcher.py:14: UserWarning: Update your `Conv2D` call to the Keras 2 API: `Conv2D(192, (3, 3), padding=\"same\")`\n",
            "  \n",
            "/usr/local/lib/python3.6/dist-packages/ipykernel_launcher.py:16: UserWarning: Update your `Conv2D` call to the Keras 2 API: `Conv2D(192, (3, 3))`\n",
            "  app.launch_new_instance()\n"
          ],
          "name": "stderr"
        },
        {
          "output_type": "stream",
          "text": [
            "WARNING:tensorflow:From /usr/local/lib/python3.6/dist-packages/keras/optimizers.py:793: The name tf.train.Optimizer is deprecated. Please use tf.compat.v1.train.Optimizer instead.\n",
            "\n",
            "WARNING:tensorflow:From /usr/local/lib/python3.6/dist-packages/keras/backend/tensorflow_backend.py:3576: The name tf.log is deprecated. Please use tf.math.log instead.\n",
            "\n"
          ],
          "name": "stdout"
        }
      ]
    },
    {
      "cell_type": "code",
      "metadata": {
        "id": "wvVs5tC8mR6Q",
        "colab_type": "code",
        "outputId": "e1095bb0-8149-4683-bd0e-74734e4a779c",
        "colab": {
          "base_uri": "https://localhost:8080/",
          "height": 1000
        }
      },
      "source": [
        "model.summary()"
      ],
      "execution_count": 0,
      "outputs": [
        {
          "output_type": "stream",
          "text": [
            "Model: \"sequential_1\"\n",
            "_________________________________________________________________\n",
            "Layer (type)                 Output Shape              Param #   \n",
            "=================================================================\n",
            "conv2d_1 (Conv2D)            (None, 32, 32, 48)        1344      \n",
            "_________________________________________________________________\n",
            "activation_1 (Activation)    (None, 32, 32, 48)        0         \n",
            "_________________________________________________________________\n",
            "conv2d_2 (Conv2D)            (None, 30, 30, 48)        20784     \n",
            "_________________________________________________________________\n",
            "activation_2 (Activation)    (None, 30, 30, 48)        0         \n",
            "_________________________________________________________________\n",
            "max_pooling2d_1 (MaxPooling2 (None, 15, 15, 48)        0         \n",
            "_________________________________________________________________\n",
            "dropout_1 (Dropout)          (None, 15, 15, 48)        0         \n",
            "_________________________________________________________________\n",
            "conv2d_3 (Conv2D)            (None, 15, 15, 96)        41568     \n",
            "_________________________________________________________________\n",
            "activation_3 (Activation)    (None, 15, 15, 96)        0         \n",
            "_________________________________________________________________\n",
            "conv2d_4 (Conv2D)            (None, 13, 13, 96)        83040     \n",
            "_________________________________________________________________\n",
            "activation_4 (Activation)    (None, 13, 13, 96)        0         \n",
            "_________________________________________________________________\n",
            "max_pooling2d_2 (MaxPooling2 (None, 6, 6, 96)          0         \n",
            "_________________________________________________________________\n",
            "dropout_2 (Dropout)          (None, 6, 6, 96)          0         \n",
            "_________________________________________________________________\n",
            "conv2d_5 (Conv2D)            (None, 6, 6, 192)         166080    \n",
            "_________________________________________________________________\n",
            "activation_5 (Activation)    (None, 6, 6, 192)         0         \n",
            "_________________________________________________________________\n",
            "conv2d_6 (Conv2D)            (None, 4, 4, 192)         331968    \n",
            "_________________________________________________________________\n",
            "activation_6 (Activation)    (None, 4, 4, 192)         0         \n",
            "_________________________________________________________________\n",
            "max_pooling2d_3 (MaxPooling2 (None, 2, 2, 192)         0         \n",
            "_________________________________________________________________\n",
            "dropout_3 (Dropout)          (None, 2, 2, 192)         0         \n",
            "_________________________________________________________________\n",
            "flatten_1 (Flatten)          (None, 768)               0         \n",
            "_________________________________________________________________\n",
            "dense_1 (Dense)              (None, 512)               393728    \n",
            "_________________________________________________________________\n",
            "activation_7 (Activation)    (None, 512)               0         \n",
            "_________________________________________________________________\n",
            "dropout_4 (Dropout)          (None, 512)               0         \n",
            "_________________________________________________________________\n",
            "dense_2 (Dense)              (None, 256)               131328    \n",
            "_________________________________________________________________\n",
            "activation_8 (Activation)    (None, 256)               0         \n",
            "_________________________________________________________________\n",
            "dropout_5 (Dropout)          (None, 256)               0         \n",
            "_________________________________________________________________\n",
            "dense_3 (Dense)              (None, 10)                2570      \n",
            "=================================================================\n",
            "Total params: 1,172,410\n",
            "Trainable params: 1,172,410\n",
            "Non-trainable params: 0\n",
            "_________________________________________________________________\n"
          ],
          "name": "stdout"
        }
      ]
    },
    {
      "cell_type": "markdown",
      "metadata": {
        "id": "AuAH6XB-Lwr3",
        "colab_type": "text"
      },
      "source": [
        "##Training the given model:\n",
        "\n",
        "In the below code, we use DataGenerator objects to train the model in batches (batch_size=128) for 100 epochs.\n",
        "We plot the accuracy and losses on the training and test sets after each epoch"
      ]
    },
    {
      "cell_type": "code",
      "metadata": {
        "id": "5oK_V7WyfsXX",
        "colab_type": "code",
        "outputId": "c1d1a7b2-054b-488e-aa84-4e73341ce383",
        "colab": {
          "base_uri": "https://localhost:8080/",
          "height": 1000
        }
      },
      "source": [
        "from keras.preprocessing.image import ImageDataGenerator\n",
        "\n",
        "datagen = ImageDataGenerator(zoom_range=0.0, \n",
        "                             horizontal_flip=False)\n",
        "\n",
        "\n",
        "# train the model\n",
        "start = time.time()\n",
        "# Train the model\n",
        "model_info = model.fit_generator(datagen.flow(train_features, train_labels, batch_size = 128),\n",
        "                                 samples_per_epoch = train_features.shape[0], nb_epoch = 100, \n",
        "                                 validation_data = (test_features, test_labels), verbose=1)\n",
        "end = time.time()\n",
        "print (\"Model took %0.2f seconds to train\"%(end - start))\n",
        "# plot model history\n",
        "plot_model_history(model_info)\n",
        "# compute test accuracy\n",
        "print (\"Accuracy on test data is: %0.2f\"%accuracy(test_features, test_labels, model))"
      ],
      "execution_count": 0,
      "outputs": [
        {
          "output_type": "stream",
          "text": [
            "WARNING:tensorflow:From /usr/local/lib/python3.6/dist-packages/tensorflow_core/python/ops/math_grad.py:1424: where (from tensorflow.python.ops.array_ops) is deprecated and will be removed in a future version.\n",
            "Instructions for updating:\n",
            "Use tf.where in 2.0, which has the same broadcast rule as np.where\n"
          ],
          "name": "stdout"
        },
        {
          "output_type": "stream",
          "text": [
            "/usr/local/lib/python3.6/dist-packages/ipykernel_launcher.py:12: UserWarning: The semantics of the Keras 2 argument `steps_per_epoch` is not the same as the Keras 1 argument `samples_per_epoch`. `steps_per_epoch` is the number of batches to draw from the generator at each epoch. Basically steps_per_epoch = samples_per_epoch/batch_size. Similarly `nb_val_samples`->`validation_steps` and `val_samples`->`steps` arguments have changed. Update your method calls accordingly.\n",
            "  if sys.path[0] == '':\n",
            "/usr/local/lib/python3.6/dist-packages/ipykernel_launcher.py:12: UserWarning: Update your `fit_generator` call to the Keras 2 API: `fit_generator(<keras_pre..., validation_data=(array([[[..., verbose=1, steps_per_epoch=390, epochs=100)`\n",
            "  if sys.path[0] == '':\n"
          ],
          "name": "stderr"
        },
        {
          "output_type": "stream",
          "text": [
            "WARNING:tensorflow:From /usr/local/lib/python3.6/dist-packages/keras/backend/tensorflow_backend.py:1033: The name tf.assign_add is deprecated. Please use tf.compat.v1.assign_add instead.\n",
            "\n",
            "WARNING:tensorflow:From /usr/local/lib/python3.6/dist-packages/keras/backend/tensorflow_backend.py:1020: The name tf.assign is deprecated. Please use tf.compat.v1.assign instead.\n",
            "\n",
            "WARNING:tensorflow:From /usr/local/lib/python3.6/dist-packages/keras/backend/tensorflow_backend.py:3005: The name tf.Session is deprecated. Please use tf.compat.v1.Session instead.\n",
            "\n",
            "Epoch 1/100\n",
            "WARNING:tensorflow:From /usr/local/lib/python3.6/dist-packages/keras/backend/tensorflow_backend.py:190: The name tf.get_default_session is deprecated. Please use tf.compat.v1.get_default_session instead.\n",
            "\n",
            "WARNING:tensorflow:From /usr/local/lib/python3.6/dist-packages/keras/backend/tensorflow_backend.py:197: The name tf.ConfigProto is deprecated. Please use tf.compat.v1.ConfigProto instead.\n",
            "\n",
            "WARNING:tensorflow:From /usr/local/lib/python3.6/dist-packages/keras/backend/tensorflow_backend.py:207: The name tf.global_variables is deprecated. Please use tf.compat.v1.global_variables instead.\n",
            "\n",
            "WARNING:tensorflow:From /usr/local/lib/python3.6/dist-packages/keras/backend/tensorflow_backend.py:216: The name tf.is_variable_initialized is deprecated. Please use tf.compat.v1.is_variable_initialized instead.\n",
            "\n",
            "WARNING:tensorflow:From /usr/local/lib/python3.6/dist-packages/keras/backend/tensorflow_backend.py:223: The name tf.variables_initializer is deprecated. Please use tf.compat.v1.variables_initializer instead.\n",
            "\n",
            "390/390 [==============================] - 28s 71ms/step - loss: 1.8518 - acc: 0.2932 - val_loss: 1.4252 - val_acc: 0.4687\n",
            "Epoch 2/100\n",
            "390/390 [==============================] - 19s 49ms/step - loss: 1.3400 - acc: 0.5136 - val_loss: 1.0966 - val_acc: 0.6126\n",
            "Epoch 3/100\n",
            "390/390 [==============================] - 19s 49ms/step - loss: 1.1020 - acc: 0.6107 - val_loss: 0.9205 - val_acc: 0.6770\n",
            "Epoch 4/100\n",
            "390/390 [==============================] - 19s 49ms/step - loss: 0.9622 - acc: 0.6655 - val_loss: 0.8251 - val_acc: 0.7091\n",
            "Epoch 5/100\n",
            "390/390 [==============================] - 19s 49ms/step - loss: 0.8617 - acc: 0.7030 - val_loss: 0.7576 - val_acc: 0.7344\n",
            "Epoch 6/100\n",
            "390/390 [==============================] - 19s 49ms/step - loss: 0.7894 - acc: 0.7325 - val_loss: 0.7551 - val_acc: 0.7394\n",
            "Epoch 7/100\n",
            "390/390 [==============================] - 19s 49ms/step - loss: 0.7446 - acc: 0.7468 - val_loss: 0.7288 - val_acc: 0.7533\n",
            "Epoch 8/100\n",
            "390/390 [==============================] - 19s 49ms/step - loss: 0.6984 - acc: 0.7631 - val_loss: 0.6774 - val_acc: 0.7703\n",
            "Epoch 9/100\n",
            "390/390 [==============================] - 19s 49ms/step - loss: 0.6624 - acc: 0.7753 - val_loss: 0.6549 - val_acc: 0.7756\n",
            "Epoch 10/100\n",
            "390/390 [==============================] - 19s 49ms/step - loss: 0.6284 - acc: 0.7861 - val_loss: 0.6435 - val_acc: 0.7859\n",
            "Epoch 11/100\n",
            "390/390 [==============================] - 19s 49ms/step - loss: 0.6125 - acc: 0.7922 - val_loss: 0.6077 - val_acc: 0.7931\n",
            "Epoch 12/100\n",
            "390/390 [==============================] - 19s 49ms/step - loss: 0.5814 - acc: 0.8022 - val_loss: 0.6175 - val_acc: 0.7936\n",
            "Epoch 13/100\n",
            "390/390 [==============================] - 19s 49ms/step - loss: 0.5624 - acc: 0.8073 - val_loss: 0.6140 - val_acc: 0.7939\n",
            "Epoch 14/100\n",
            "390/390 [==============================] - 19s 49ms/step - loss: 0.5405 - acc: 0.8145 - val_loss: 0.5739 - val_acc: 0.8064\n",
            "Epoch 15/100\n",
            "390/390 [==============================] - 19s 49ms/step - loss: 0.5239 - acc: 0.8220 - val_loss: 0.5653 - val_acc: 0.8109\n",
            "Epoch 16/100\n",
            "390/390 [==============================] - 19s 49ms/step - loss: 0.5127 - acc: 0.8239 - val_loss: 0.5858 - val_acc: 0.8095\n",
            "Epoch 17/100\n",
            "390/390 [==============================] - 19s 49ms/step - loss: 0.5003 - acc: 0.8269 - val_loss: 0.5631 - val_acc: 0.8131\n",
            "Epoch 18/100\n",
            "390/390 [==============================] - 19s 49ms/step - loss: 0.4854 - acc: 0.8348 - val_loss: 0.5866 - val_acc: 0.8101\n",
            "Epoch 19/100\n",
            "390/390 [==============================] - 19s 49ms/step - loss: 0.4703 - acc: 0.8397 - val_loss: 0.5954 - val_acc: 0.8049\n",
            "Epoch 20/100\n",
            "390/390 [==============================] - 19s 49ms/step - loss: 0.4626 - acc: 0.8431 - val_loss: 0.5618 - val_acc: 0.8150\n",
            "Epoch 21/100\n",
            "390/390 [==============================] - 19s 49ms/step - loss: 0.4494 - acc: 0.8483 - val_loss: 0.5630 - val_acc: 0.8145\n",
            "Epoch 22/100\n",
            "390/390 [==============================] - 19s 49ms/step - loss: 0.4506 - acc: 0.8473 - val_loss: 0.5951 - val_acc: 0.8096\n",
            "Epoch 23/100\n",
            "390/390 [==============================] - 19s 49ms/step - loss: 0.4359 - acc: 0.8529 - val_loss: 0.5671 - val_acc: 0.8203\n",
            "Epoch 24/100\n",
            "390/390 [==============================] - 19s 49ms/step - loss: 0.4161 - acc: 0.8575 - val_loss: 0.6220 - val_acc: 0.8061\n",
            "Epoch 25/100\n",
            "390/390 [==============================] - 19s 49ms/step - loss: 0.4194 - acc: 0.8569 - val_loss: 0.5695 - val_acc: 0.8196\n",
            "Epoch 26/100\n",
            "390/390 [==============================] - 19s 49ms/step - loss: 0.4110 - acc: 0.8610 - val_loss: 0.6030 - val_acc: 0.8109\n",
            "Epoch 27/100\n",
            "390/390 [==============================] - 19s 49ms/step - loss: 0.4150 - acc: 0.8606 - val_loss: 0.5645 - val_acc: 0.8234\n",
            "Epoch 28/100\n",
            "390/390 [==============================] - 19s 49ms/step - loss: 0.3958 - acc: 0.8654 - val_loss: 0.5660 - val_acc: 0.8230\n",
            "Epoch 29/100\n",
            "390/390 [==============================] - 19s 49ms/step - loss: 0.3939 - acc: 0.8654 - val_loss: 0.5642 - val_acc: 0.8281\n",
            "Epoch 30/100\n",
            "390/390 [==============================] - 19s 49ms/step - loss: 0.3901 - acc: 0.8666 - val_loss: 0.5905 - val_acc: 0.8132\n",
            "Epoch 31/100\n",
            "390/390 [==============================] - 19s 49ms/step - loss: 0.3780 - acc: 0.8723 - val_loss: 0.5609 - val_acc: 0.8215\n",
            "Epoch 32/100\n",
            "390/390 [==============================] - 19s 49ms/step - loss: 0.3757 - acc: 0.8724 - val_loss: 0.5643 - val_acc: 0.8293\n",
            "Epoch 33/100\n",
            "390/390 [==============================] - 19s 49ms/step - loss: 0.3700 - acc: 0.8732 - val_loss: 0.6035 - val_acc: 0.8151\n",
            "Epoch 34/100\n",
            "390/390 [==============================] - 19s 49ms/step - loss: 0.3775 - acc: 0.8732 - val_loss: 0.5710 - val_acc: 0.8235\n",
            "Epoch 35/100\n",
            "390/390 [==============================] - 19s 49ms/step - loss: 0.3614 - acc: 0.8780 - val_loss: 0.5915 - val_acc: 0.8178\n",
            "Epoch 36/100\n",
            "390/390 [==============================] - 19s 49ms/step - loss: 0.3640 - acc: 0.8788 - val_loss: 0.5536 - val_acc: 0.8266\n",
            "Epoch 37/100\n",
            "390/390 [==============================] - 19s 49ms/step - loss: 0.3566 - acc: 0.8800 - val_loss: 0.5787 - val_acc: 0.8253\n",
            "Epoch 38/100\n",
            "390/390 [==============================] - 19s 49ms/step - loss: 0.3443 - acc: 0.8829 - val_loss: 0.5807 - val_acc: 0.8225\n",
            "Epoch 39/100\n",
            "390/390 [==============================] - 19s 49ms/step - loss: 0.3446 - acc: 0.8839 - val_loss: 0.5805 - val_acc: 0.8211\n",
            "Epoch 40/100\n",
            "390/390 [==============================] - 19s 49ms/step - loss: 0.3508 - acc: 0.8800 - val_loss: 0.5845 - val_acc: 0.8237\n",
            "Epoch 41/100\n",
            "390/390 [==============================] - 19s 49ms/step - loss: 0.3375 - acc: 0.8862 - val_loss: 0.5847 - val_acc: 0.8243\n",
            "Epoch 42/100\n",
            "390/390 [==============================] - 19s 49ms/step - loss: 0.3392 - acc: 0.8867 - val_loss: 0.5701 - val_acc: 0.8274\n",
            "Epoch 43/100\n",
            "390/390 [==============================] - 19s 49ms/step - loss: 0.3365 - acc: 0.8885 - val_loss: 0.5904 - val_acc: 0.8244\n",
            "Epoch 44/100\n",
            "390/390 [==============================] - 19s 49ms/step - loss: 0.3303 - acc: 0.8893 - val_loss: 0.5787 - val_acc: 0.8260\n",
            "Epoch 45/100\n",
            "390/390 [==============================] - 19s 49ms/step - loss: 0.3311 - acc: 0.8892 - val_loss: 0.5834 - val_acc: 0.8250\n",
            "Epoch 46/100\n",
            "390/390 [==============================] - 19s 49ms/step - loss: 0.3312 - acc: 0.8903 - val_loss: 0.5515 - val_acc: 0.8334\n",
            "Epoch 47/100\n",
            "390/390 [==============================] - 19s 49ms/step - loss: 0.3276 - acc: 0.8888 - val_loss: 0.5889 - val_acc: 0.8186\n",
            "Epoch 48/100\n",
            "390/390 [==============================] - 19s 49ms/step - loss: 0.3179 - acc: 0.8938 - val_loss: 0.5720 - val_acc: 0.8298\n",
            "Epoch 49/100\n",
            "390/390 [==============================] - 19s 49ms/step - loss: 0.3197 - acc: 0.8928 - val_loss: 0.5784 - val_acc: 0.8322\n",
            "Epoch 50/100\n",
            "390/390 [==============================] - 19s 49ms/step - loss: 0.3246 - acc: 0.8937 - val_loss: 0.5915 - val_acc: 0.8258\n",
            "Epoch 51/100\n",
            "390/390 [==============================] - 19s 49ms/step - loss: 0.3158 - acc: 0.8957 - val_loss: 0.5931 - val_acc: 0.8252\n",
            "Epoch 52/100\n",
            "390/390 [==============================] - 19s 49ms/step - loss: 0.3048 - acc: 0.8988 - val_loss: 0.5766 - val_acc: 0.8223\n",
            "Epoch 53/100\n",
            "390/390 [==============================] - 19s 49ms/step - loss: 0.3080 - acc: 0.8985 - val_loss: 0.5696 - val_acc: 0.8279\n",
            "Epoch 54/100\n",
            "390/390 [==============================] - 19s 49ms/step - loss: 0.3070 - acc: 0.8968 - val_loss: 0.5796 - val_acc: 0.8256\n",
            "Epoch 55/100\n",
            "390/390 [==============================] - 19s 49ms/step - loss: 0.3084 - acc: 0.8972 - val_loss: 0.5862 - val_acc: 0.8294\n",
            "Epoch 56/100\n",
            "390/390 [==============================] - 19s 49ms/step - loss: 0.2939 - acc: 0.9026 - val_loss: 0.5785 - val_acc: 0.8279\n",
            "Epoch 57/100\n",
            "390/390 [==============================] - 19s 49ms/step - loss: 0.3028 - acc: 0.8989 - val_loss: 0.5966 - val_acc: 0.8247\n",
            "Epoch 58/100\n",
            "390/390 [==============================] - 19s 49ms/step - loss: 0.3015 - acc: 0.8997 - val_loss: 0.5626 - val_acc: 0.8328\n",
            "Epoch 59/100\n",
            "390/390 [==============================] - 19s 49ms/step - loss: 0.3010 - acc: 0.9011 - val_loss: 0.5641 - val_acc: 0.8287\n",
            "Epoch 60/100\n",
            "390/390 [==============================] - 19s 49ms/step - loss: 0.2916 - acc: 0.9032 - val_loss: 0.5912 - val_acc: 0.8284\n",
            "Epoch 61/100\n",
            "390/390 [==============================] - 19s 49ms/step - loss: 0.2963 - acc: 0.9035 - val_loss: 0.5820 - val_acc: 0.8357\n",
            "Epoch 62/100\n",
            "390/390 [==============================] - 19s 49ms/step - loss: 0.2912 - acc: 0.9058 - val_loss: 0.5755 - val_acc: 0.8341\n",
            "Epoch 63/100\n",
            "390/390 [==============================] - 19s 49ms/step - loss: 0.2878 - acc: 0.9042 - val_loss: 0.5898 - val_acc: 0.8291\n",
            "Epoch 64/100\n",
            "390/390 [==============================] - 19s 49ms/step - loss: 0.2803 - acc: 0.9068 - val_loss: 0.6161 - val_acc: 0.8311\n",
            "Epoch 65/100\n",
            "390/390 [==============================] - 19s 49ms/step - loss: 0.2820 - acc: 0.9068 - val_loss: 0.5985 - val_acc: 0.8330\n",
            "Epoch 66/100\n",
            "390/390 [==============================] - 19s 49ms/step - loss: 0.2950 - acc: 0.9041 - val_loss: 0.6079 - val_acc: 0.8315\n",
            "Epoch 67/100\n",
            "390/390 [==============================] - 19s 49ms/step - loss: 0.2945 - acc: 0.9043 - val_loss: 0.5992 - val_acc: 0.8265\n",
            "Epoch 68/100\n",
            "390/390 [==============================] - 19s 49ms/step - loss: 0.2806 - acc: 0.9067 - val_loss: 0.5723 - val_acc: 0.8331\n",
            "Epoch 69/100\n",
            "390/390 [==============================] - 19s 49ms/step - loss: 0.2853 - acc: 0.9076 - val_loss: 0.5900 - val_acc: 0.8301\n",
            "Epoch 70/100\n",
            "390/390 [==============================] - 19s 49ms/step - loss: 0.2791 - acc: 0.9098 - val_loss: 0.6175 - val_acc: 0.8243\n",
            "Epoch 71/100\n",
            "390/390 [==============================] - 19s 49ms/step - loss: 0.2751 - acc: 0.9099 - val_loss: 0.6067 - val_acc: 0.8272\n",
            "Epoch 72/100\n",
            "390/390 [==============================] - 19s 49ms/step - loss: 0.2798 - acc: 0.9102 - val_loss: 0.6377 - val_acc: 0.8205\n",
            "Epoch 73/100\n",
            "390/390 [==============================] - 19s 49ms/step - loss: 0.2782 - acc: 0.9097 - val_loss: 0.5831 - val_acc: 0.8347\n",
            "Epoch 74/100\n",
            "390/390 [==============================] - 19s 49ms/step - loss: 0.2812 - acc: 0.9080 - val_loss: 0.5794 - val_acc: 0.8321\n",
            "Epoch 75/100\n",
            "390/390 [==============================] - 19s 49ms/step - loss: 0.2780 - acc: 0.9089 - val_loss: 0.6175 - val_acc: 0.8333\n",
            "Epoch 76/100\n",
            "390/390 [==============================] - 19s 49ms/step - loss: 0.2681 - acc: 0.9136 - val_loss: 0.6192 - val_acc: 0.8273\n",
            "Epoch 77/100\n",
            "390/390 [==============================] - 19s 49ms/step - loss: 0.2761 - acc: 0.9111 - val_loss: 0.6171 - val_acc: 0.8332\n",
            "Epoch 78/100\n",
            "390/390 [==============================] - 19s 49ms/step - loss: 0.2730 - acc: 0.9132 - val_loss: 0.6076 - val_acc: 0.8329\n",
            "Epoch 79/100\n",
            "390/390 [==============================] - 19s 49ms/step - loss: 0.2705 - acc: 0.9134 - val_loss: 0.6209 - val_acc: 0.8312\n",
            "Epoch 80/100\n",
            "390/390 [==============================] - 19s 49ms/step - loss: 0.2674 - acc: 0.9168 - val_loss: 0.6171 - val_acc: 0.8309\n",
            "Epoch 81/100\n",
            "390/390 [==============================] - 19s 49ms/step - loss: 0.2694 - acc: 0.9125 - val_loss: 0.6019 - val_acc: 0.8342\n",
            "Epoch 82/100\n",
            "390/390 [==============================] - 19s 49ms/step - loss: 0.2658 - acc: 0.9163 - val_loss: 0.6119 - val_acc: 0.8347\n",
            "Epoch 83/100\n",
            "390/390 [==============================] - 19s 49ms/step - loss: 0.2671 - acc: 0.9138 - val_loss: 0.6076 - val_acc: 0.8384\n",
            "Epoch 84/100\n",
            "390/390 [==============================] - 19s 49ms/step - loss: 0.2657 - acc: 0.9147 - val_loss: 0.6408 - val_acc: 0.8315\n",
            "Epoch 85/100\n",
            "390/390 [==============================] - 19s 49ms/step - loss: 0.2665 - acc: 0.9142 - val_loss: 0.6676 - val_acc: 0.8199\n",
            "Epoch 86/100\n",
            "390/390 [==============================] - 19s 49ms/step - loss: 0.2572 - acc: 0.9186 - val_loss: 0.6269 - val_acc: 0.8340\n",
            "Epoch 87/100\n",
            "390/390 [==============================] - 19s 49ms/step - loss: 0.2632 - acc: 0.9162 - val_loss: 0.5819 - val_acc: 0.8363\n",
            "Epoch 88/100\n",
            "390/390 [==============================] - 19s 49ms/step - loss: 0.2475 - acc: 0.9209 - val_loss: 0.6394 - val_acc: 0.8330\n",
            "Epoch 89/100\n",
            "390/390 [==============================] - 19s 49ms/step - loss: 0.2603 - acc: 0.9174 - val_loss: 0.6055 - val_acc: 0.8331\n",
            "Epoch 90/100\n",
            "390/390 [==============================] - 19s 49ms/step - loss: 0.2576 - acc: 0.9189 - val_loss: 0.6001 - val_acc: 0.8343\n",
            "Epoch 91/100\n",
            "390/390 [==============================] - 19s 49ms/step - loss: 0.2678 - acc: 0.9163 - val_loss: 0.6126 - val_acc: 0.8330\n",
            "Epoch 92/100\n",
            "390/390 [==============================] - 19s 49ms/step - loss: 0.2617 - acc: 0.9176 - val_loss: 0.6144 - val_acc: 0.8285\n",
            "Epoch 93/100\n",
            "390/390 [==============================] - 19s 50ms/step - loss: 0.2582 - acc: 0.9183 - val_loss: 0.6309 - val_acc: 0.8350\n",
            "Epoch 94/100\n",
            "390/390 [==============================] - 19s 49ms/step - loss: 0.2598 - acc: 0.9186 - val_loss: 0.6326 - val_acc: 0.8324\n",
            "Epoch 95/100\n",
            "390/390 [==============================] - 19s 49ms/step - loss: 0.2607 - acc: 0.9172 - val_loss: 0.6495 - val_acc: 0.8271\n",
            "Epoch 96/100\n",
            "390/390 [==============================] - 19s 49ms/step - loss: 0.2665 - acc: 0.9173 - val_loss: 0.6321 - val_acc: 0.8242\n",
            "Epoch 97/100\n",
            "390/390 [==============================] - 19s 49ms/step - loss: 0.2690 - acc: 0.9155 - val_loss: 0.5874 - val_acc: 0.8338\n",
            "Epoch 98/100\n",
            "390/390 [==============================] - 19s 49ms/step - loss: 0.2659 - acc: 0.9172 - val_loss: 0.6182 - val_acc: 0.8322\n",
            "Epoch 99/100\n",
            "390/390 [==============================] - 19s 49ms/step - loss: 0.2573 - acc: 0.9181 - val_loss: 0.6428 - val_acc: 0.8314\n",
            "Epoch 100/100\n",
            "390/390 [==============================] - 19s 49ms/step - loss: 0.2471 - acc: 0.9215 - val_loss: 0.6534 - val_acc: 0.8292\n",
            "Model took 1920.95 seconds to train\n"
          ],
          "name": "stdout"
        },
        {
          "output_type": "display_data",
          "data": {
            "image/png": "[encoded data removed]",
            "text/plain": [
              "<Figure size 1080x360 with 2 Axes>"
            ]
          },
          "metadata": {
            "tags": []
          }
        },
        {
          "output_type": "stream",
          "text": [
            "Accuracy on test data is: 82.92\n"
          ],
          "name": "stdout"
        }
      ]
    },
    {
      "cell_type": "markdown",
      "metadata": {
        "id": "yF8j1mlqd3lB",
        "colab_type": "text"
      },
      "source": [
        "##Improved Model\n",
        "\n",
        "### Architecture of the model:\n",
        "\n",
        "32X32X3    |  3X3X3X32         | 32X32X32    GRF-3  </br>\n",
        "32X32X32   |  3X3X32X64        | 32X32X64    GRF-5  </br>\n",
        "32X32X64   |  3X3X64X128       | 32X32X128   GRF-7</br>\n",
        "32X32X128  | maxpooling(2,2)   | 16X16X128   GRF-8</br>\n",
        "16X16X128  |  1X1X128X32       | 16X16X32    GRF-8</br> \n",
        "16X16X32   |  3X3X32X64        | 16X16X64    GRF-12</br>\n",
        "16X16X64   |  3X3X64X128       | 16X16X128   GRF-16</br>\n",
        "16X16X128  | maxpooling(2,2)   | 8X8X128     GRF-18</br>\n",
        "8X8X128    |  1X1X128X32       | 8X8X32      GRF-18</br>\n",
        "8X8X32     |  3X3X32X64        | 8X8X64      GRF-26</br>\n",
        "8X8X64     |  8X8X64X10        | 8X8X10      GRF-34</br>\n",
        "8X8X128    |  7X7X10X10        | 2X2X10      GRF-34</br>\n",
        "2X2X10     |  GlobalAvgPooling | 1X1X10"
      ]
    },
    {
      "cell_type": "code",
      "metadata": {
        "colab_type": "code",
        "outputId": "d1bdc583-bb13-4bd7-ca7e-a4db2c847017",
        "id": "st67WvIKboUn",
        "colab": {
          "base_uri": "https://localhost:8080/",
          "height": 1000
        }
      },
      "source": [
        "# Define the model\n",
        "\n",
        "#Convolution block\n",
        "\n",
        "model = Sequential()\n",
        "model.add(Convolution2D(32, 3, activation='relu', border_mode='same', input_shape=(32, 32, 3))) #GRF - 3\n",
        "model.add(BatchNormalization())\n",
        "model.add(Dropout(0.1))\n",
        "\n",
        "model.add(Convolution2D(64, 3,3, border_mode='same',activation='relu'))#GRF -5 \n",
        "model.add(BatchNormalization())\n",
        "model.add(Dropout(0.1))\n",
        "\n",
        "model.add(Convolution2D(128, 3, 3, border_mode='same', activation='relu')) #GRF -7\n",
        "model.add(BatchNormalization())\n",
        "model.add(Dropout(0.1))\n",
        "\n",
        "model.add(MaxPooling2D(pool_size=(2, 2)))#GRF -8\n",
        "model.add(Convolution2D(32, 1, activation='relu')) #GRF -8\n",
        "model.add(Dropout(0.1))\n",
        "\n",
        "model.add(Convolution2D(64, 3, 3, border_mode='same',activation='relu'))#GRF -12\n",
        "model.add(BatchNormalization())\n",
        "model.add(Dropout(0.1))\n",
        "\n",
        "model.add(Convolution2D(128, 3, 3, border_mode='same',activation='relu'))#GRF -16\n",
        "model.add(BatchNormalization())\n",
        "model.add(Dropout(0.1))\n",
        "\n",
        "model.add(MaxPooling2D(pool_size=(2, 2)))#GRF -18\n",
        "model.add(Convolution2D(32, 1, activation='relu')) #GRF -18\n",
        "model.add(Dropout(0.1))\n",
        "\n",
        "\n",
        "model.add(Convolution2D(64, 3, 3, border_mode='same',activation='relu'))#GRF -26\n",
        "model.add(BatchNormalization())\n",
        "model.add(Dropout(0.1))\n",
        "\n",
        "model.add(Convolution2D(10, 1, 1, border_mode='same',activation='relu'))\n",
        "model.add(BatchNormalization())\n",
        "model.add(Dropout(0.1))\n",
        "\n",
        "model.add(Convolution2D(10, 7, 7))#GRF-34\n",
        "#model.add(Convolution2D(10, 1, 1, border_mode='same',activation='relu'))\n",
        "\n",
        "model.add(GlobalAveragePooling2D())\n",
        "\n",
        "#model.add(Flatten())\n",
        "model.summary()\n",
        "model.add(Activation('softmax'))\n",
        "\n",
        "# Compile the model\n",
        "model.compile(optimizer='adam', loss='categorical_crossentropy', metrics=['accuracy'])\n"
      ],
      "execution_count": 0,
      "outputs": [
        {
          "output_type": "stream",
          "text": [
            "WARNING:tensorflow:From /usr/local/lib/python3.6/dist-packages/keras/backend/tensorflow_backend.py:2041: The name tf.nn.fused_batch_norm is deprecated. Please use tf.compat.v1.nn.fused_batch_norm instead.\n",
            "\n"
          ],
          "name": "stdout"
        },
        {
          "output_type": "stream",
          "text": [
            "/usr/local/lib/python3.6/dist-packages/ipykernel_launcher.py:3: UserWarning: Update your `Conv2D` call to the Keras 2 API: `Conv2D(32, 3, activation=\"relu\", input_shape=(32, 32, 3..., padding=\"same\")`\n",
            "  This is separate from the ipykernel package so we can avoid doing imports until\n",
            "/usr/local/lib/python3.6/dist-packages/ipykernel_launcher.py:7: UserWarning: Update your `Conv2D` call to the Keras 2 API: `Conv2D(64, (3, 3), activation=\"relu\", padding=\"same\")`\n",
            "  import sys\n",
            "/usr/local/lib/python3.6/dist-packages/ipykernel_launcher.py:11: UserWarning: Update your `Conv2D` call to the Keras 2 API: `Conv2D(128, (3, 3), activation=\"relu\", padding=\"same\")`\n",
            "  # This is added back by InteractiveShellApp.init_path()\n",
            "/usr/local/lib/python3.6/dist-packages/ipykernel_launcher.py:19: UserWarning: Update your `Conv2D` call to the Keras 2 API: `Conv2D(64, (3, 3), activation=\"relu\", padding=\"same\")`\n",
            "/usr/local/lib/python3.6/dist-packages/ipykernel_launcher.py:23: UserWarning: Update your `Conv2D` call to the Keras 2 API: `Conv2D(128, (3, 3), activation=\"relu\", padding=\"same\")`\n",
            "/usr/local/lib/python3.6/dist-packages/ipykernel_launcher.py:32: UserWarning: Update your `Conv2D` call to the Keras 2 API: `Conv2D(64, (3, 3), activation=\"relu\", padding=\"same\")`\n",
            "/usr/local/lib/python3.6/dist-packages/ipykernel_launcher.py:36: UserWarning: Update your `Conv2D` call to the Keras 2 API: `Conv2D(10, (1, 1), activation=\"relu\", padding=\"same\")`\n"
          ],
          "name": "stderr"
        },
        {
          "output_type": "stream",
          "text": [
            "Model: \"sequential_2\"\n",
            "_________________________________________________________________\n",
            "Layer (type)                 Output Shape              Param #   \n",
            "=================================================================\n",
            "conv2d_7 (Conv2D)            (None, 32, 32, 32)        896       \n",
            "_________________________________________________________________\n",
            "batch_normalization_1 (Batch (None, 32, 32, 32)        128       \n",
            "_________________________________________________________________\n",
            "dropout_6 (Dropout)          (None, 32, 32, 32)        0         \n",
            "_________________________________________________________________\n",
            "conv2d_8 (Conv2D)            (None, 32, 32, 64)        18496     \n",
            "_________________________________________________________________\n",
            "batch_normalization_2 (Batch (None, 32, 32, 64)        256       \n",
            "_________________________________________________________________\n",
            "dropout_7 (Dropout)          (None, 32, 32, 64)        0         \n",
            "_________________________________________________________________\n",
            "conv2d_9 (Conv2D)            (None, 32, 32, 128)       73856     \n",
            "_________________________________________________________________\n",
            "batch_normalization_3 (Batch (None, 32, 32, 128)       512       \n",
            "_________________________________________________________________\n",
            "dropout_8 (Dropout)          (None, 32, 32, 128)       0         \n",
            "_________________________________________________________________\n",
            "max_pooling2d_4 (MaxPooling2 (None, 16, 16, 128)       0         \n",
            "_________________________________________________________________\n",
            "conv2d_10 (Conv2D)           (None, 16, 16, 32)        4128      \n",
            "_________________________________________________________________\n",
            "dropout_9 (Dropout)          (None, 16, 16, 32)        0         \n",
            "_________________________________________________________________\n",
            "conv2d_11 (Conv2D)           (None, 16, 16, 64)        18496     \n",
            "_________________________________________________________________\n",
            "batch_normalization_4 (Batch (None, 16, 16, 64)        256       \n",
            "_________________________________________________________________\n",
            "dropout_10 (Dropout)         (None, 16, 16, 64)        0         \n",
            "_________________________________________________________________\n",
            "conv2d_12 (Conv2D)           (None, 16, 16, 128)       73856     \n",
            "_________________________________________________________________\n",
            "batch_normalization_5 (Batch (None, 16, 16, 128)       512       \n",
            "_________________________________________________________________\n",
            "dropout_11 (Dropout)         (None, 16, 16, 128)       0         \n",
            "_________________________________________________________________\n",
            "max_pooling2d_5 (MaxPooling2 (None, 8, 8, 128)         0         \n",
            "_________________________________________________________________\n",
            "conv2d_13 (Conv2D)           (None, 8, 8, 32)          4128      \n",
            "_________________________________________________________________\n",
            "dropout_12 (Dropout)         (None, 8, 8, 32)          0         \n",
            "_________________________________________________________________\n",
            "conv2d_14 (Conv2D)           (None, 8, 8, 64)          18496     \n",
            "_________________________________________________________________\n",
            "batch_normalization_6 (Batch (None, 8, 8, 64)          256       \n",
            "_________________________________________________________________\n",
            "dropout_13 (Dropout)         (None, 8, 8, 64)          0         \n",
            "_________________________________________________________________\n",
            "conv2d_15 (Conv2D)           (None, 8, 8, 10)          650       \n",
            "_________________________________________________________________\n",
            "batch_normalization_7 (Batch (None, 8, 8, 10)          40        \n",
            "_________________________________________________________________\n",
            "dropout_14 (Dropout)         (None, 8, 8, 10)          0         \n",
            "_________________________________________________________________\n",
            "conv2d_16 (Conv2D)           (None, 2, 2, 10)          4910      \n",
            "_________________________________________________________________\n",
            "global_average_pooling2d_1 ( (None, 10)                0         \n",
            "=================================================================\n",
            "Total params: 219,872\n",
            "Trainable params: 218,892\n",
            "Non-trainable params: 980\n",
            "_________________________________________________________________\n"
          ],
          "name": "stdout"
        },
        {
          "output_type": "stream",
          "text": [
            "/usr/local/lib/python3.6/dist-packages/ipykernel_launcher.py:40: UserWarning: Update your `Conv2D` call to the Keras 2 API: `Conv2D(10, (7, 7))`\n"
          ],
          "name": "stderr"
        }
      ]
    },
    {
      "cell_type": "markdown",
      "metadata": {
        "id": "USyHlsPKBtZ-",
        "colab_type": "text"
      },
      "source": [
        "***Data Augumentation:***\n",
        "\n",
        "We use certain techniques with data augumentation: Image Standardization, Normalization and Horizontal Flip."
      ]
    },
    {
      "cell_type": "code",
      "metadata": {
        "id": "5RU_iniHOSz4",
        "colab_type": "code",
        "outputId": "82ce00b5-d776-46a5-fa5a-e3bbfed39c63",
        "colab": {
          "base_uri": "https://localhost:8080/",
          "height": 1000
        }
      },
      "source": [
        "from keras.preprocessing.image import ImageDataGenerator\n",
        "from keras.callbacks import LearningRateScheduler\n",
        "\n",
        "\n",
        "datagen = ImageDataGenerator(featurewise_center=True,featurewise_std_normalization=True,horizontal_flip=True,zoom_range=0.0)\n",
        "\n",
        "\n",
        "# train the model\n",
        "start = time.time()\n",
        "# Train the model\n",
        "model_info = model.fit_generator(datagen.flow(train_features, train_labels, batch_size = 128),\n",
        "                                 samples_per_epoch = train_features.shape[0], nb_epoch = 50, \n",
        "                                 validation_data = (test_features, test_labels), verbose=1)\n",
        "end = time.time()\n",
        "print (\"Model took %0.2f seconds to train\"%(end - start))\n",
        "# plot model history\n",
        "plot_model_history(model_info)\n",
        "# compute test accuracy\n",
        "print (\"Accuracy on test data is: %0.2f\"%accuracy(test_features, test_labels, model))"
      ],
      "execution_count": 0,
      "outputs": [
        {
          "output_type": "stream",
          "text": [
            "/usr/local/lib/python3.6/dist-packages/ipykernel_launcher.py:13: UserWarning: The semantics of the Keras 2 argument `steps_per_epoch` is not the same as the Keras 1 argument `samples_per_epoch`. `steps_per_epoch` is the number of batches to draw from the generator at each epoch. Basically steps_per_epoch = samples_per_epoch/batch_size. Similarly `nb_val_samples`->`validation_steps` and `val_samples`->`steps` arguments have changed. Update your method calls accordingly.\n",
            "  del sys.path[0]\n",
            "/usr/local/lib/python3.6/dist-packages/ipykernel_launcher.py:13: UserWarning: Update your `fit_generator` call to the Keras 2 API: `fit_generator(<keras_pre..., validation_data=(array([[[..., verbose=1, steps_per_epoch=390, epochs=50)`\n",
            "  del sys.path[0]\n"
          ],
          "name": "stderr"
        },
        {
          "output_type": "stream",
          "text": [
            "Epoch 1/50\n"
          ],
          "name": "stdout"
        },
        {
          "output_type": "stream",
          "text": [
            "/usr/local/lib/python3.6/dist-packages/keras_preprocessing/image/image_data_generator.py:716: UserWarning: This ImageDataGenerator specifies `featurewise_center`, but it hasn't been fit on any training data. Fit it first by calling `.fit(numpy_data)`.\n",
            "  warnings.warn('This ImageDataGenerator specifies '\n",
            "/usr/local/lib/python3.6/dist-packages/keras_preprocessing/image/image_data_generator.py:724: UserWarning: This ImageDataGenerator specifies `featurewise_std_normalization`, but it hasn't been fit on any training data. Fit it first by calling `.fit(numpy_data)`.\n",
            "  warnings.warn('This ImageDataGenerator specifies '\n"
          ],
          "name": "stderr"
        },
        {
          "output_type": "stream",
          "text": [
            "390/390 [==============================] - 50s 128ms/step - loss: 1.3869 - acc: 0.4963 - val_loss: 1.2665 - val_acc: 0.5667\n",
            "Epoch 2/50\n",
            "390/390 [==============================] - 46s 119ms/step - loss: 0.9667 - acc: 0.6562 - val_loss: 0.9279 - val_acc: 0.6733\n",
            "Epoch 3/50\n",
            "390/390 [==============================] - 46s 119ms/step - loss: 0.8159 - acc: 0.7095 - val_loss: 0.9476 - val_acc: 0.6709\n",
            "Epoch 4/50\n",
            "390/390 [==============================] - 46s 119ms/step - loss: 0.7334 - acc: 0.7403 - val_loss: 0.7498 - val_acc: 0.7377\n",
            "Epoch 5/50\n",
            "390/390 [==============================] - 46s 119ms/step - loss: 0.6696 - acc: 0.7662 - val_loss: 0.9663 - val_acc: 0.6720\n",
            "Epoch 6/50\n",
            "390/390 [==============================] - 46s 119ms/step - loss: 0.6392 - acc: 0.7784 - val_loss: 0.7178 - val_acc: 0.7574\n",
            "Epoch 7/50\n",
            "390/390 [==============================] - 46s 119ms/step - loss: 0.5970 - acc: 0.7902 - val_loss: 0.7335 - val_acc: 0.7500\n",
            "Epoch 8/50\n",
            "390/390 [==============================] - 46s 119ms/step - loss: 0.5707 - acc: 0.8021 - val_loss: 0.6198 - val_acc: 0.7851\n",
            "Epoch 9/50\n",
            "390/390 [==============================] - 46s 119ms/step - loss: 0.5456 - acc: 0.8102 - val_loss: 0.5861 - val_acc: 0.8024\n",
            "Epoch 10/50\n",
            "390/390 [==============================] - 46s 119ms/step - loss: 0.5244 - acc: 0.8175 - val_loss: 0.5983 - val_acc: 0.7981\n",
            "Epoch 11/50\n",
            "390/390 [==============================] - 46s 119ms/step - loss: 0.5052 - acc: 0.8237 - val_loss: 0.5607 - val_acc: 0.8066\n",
            "Epoch 12/50\n",
            "390/390 [==============================] - 46s 118ms/step - loss: 0.4901 - acc: 0.8284 - val_loss: 0.5878 - val_acc: 0.7980\n",
            "Epoch 13/50\n",
            "390/390 [==============================] - 46s 119ms/step - loss: 0.4716 - acc: 0.8356 - val_loss: 0.6082 - val_acc: 0.7994\n",
            "Epoch 14/50\n",
            "390/390 [==============================] - 46s 119ms/step - loss: 0.4556 - acc: 0.8438 - val_loss: 0.5651 - val_acc: 0.8108\n",
            "Epoch 15/50\n",
            "390/390 [==============================] - 46s 119ms/step - loss: 0.4462 - acc: 0.8435 - val_loss: 0.6324 - val_acc: 0.7858\n",
            "Epoch 16/50\n",
            "390/390 [==============================] - 46s 118ms/step - loss: 0.4318 - acc: 0.8496 - val_loss: 0.5348 - val_acc: 0.8216\n",
            "Epoch 17/50\n",
            "390/390 [==============================] - 46s 118ms/step - loss: 0.4247 - acc: 0.8524 - val_loss: 0.5013 - val_acc: 0.8288\n",
            "Epoch 18/50\n",
            "390/390 [==============================] - 46s 118ms/step - loss: 0.4116 - acc: 0.8552 - val_loss: 0.6821 - val_acc: 0.7749\n",
            "Epoch 19/50\n",
            "390/390 [==============================] - 46s 119ms/step - loss: 0.4021 - acc: 0.8600 - val_loss: 0.5458 - val_acc: 0.8140\n",
            "Epoch 20/50\n",
            "390/390 [==============================] - 46s 119ms/step - loss: 0.3901 - acc: 0.8622 - val_loss: 0.5130 - val_acc: 0.8266\n",
            "Epoch 21/50\n",
            "390/390 [==============================] - 46s 118ms/step - loss: 0.3838 - acc: 0.8677 - val_loss: 0.5027 - val_acc: 0.8324\n",
            "Epoch 22/50\n",
            "390/390 [==============================] - 46s 118ms/step - loss: 0.3798 - acc: 0.8674 - val_loss: 0.4726 - val_acc: 0.8408\n",
            "Epoch 23/50\n",
            "390/390 [==============================] - 46s 119ms/step - loss: 0.3651 - acc: 0.8729 - val_loss: 0.4728 - val_acc: 0.8381\n",
            "Epoch 24/50\n",
            "390/390 [==============================] - 46s 118ms/step - loss: 0.3670 - acc: 0.8723 - val_loss: 0.4946 - val_acc: 0.8353\n",
            "Epoch 25/50\n",
            "390/390 [==============================] - 46s 118ms/step - loss: 0.3608 - acc: 0.8734 - val_loss: 0.4984 - val_acc: 0.8323\n",
            "Epoch 26/50\n",
            "390/390 [==============================] - 46s 118ms/step - loss: 0.3461 - acc: 0.8782 - val_loss: 0.4814 - val_acc: 0.8361\n",
            "Epoch 27/50\n",
            "390/390 [==============================] - 46s 118ms/step - loss: 0.3473 - acc: 0.8790 - val_loss: 0.4988 - val_acc: 0.8341\n",
            "Epoch 28/50\n",
            "390/390 [==============================] - 46s 118ms/step - loss: 0.3358 - acc: 0.8833 - val_loss: 0.4578 - val_acc: 0.8469\n",
            "Epoch 29/50\n",
            "390/390 [==============================] - 46s 118ms/step - loss: 0.3342 - acc: 0.8828 - val_loss: 0.4776 - val_acc: 0.8370\n",
            "Epoch 30/50\n",
            "390/390 [==============================] - 46s 118ms/step - loss: 0.3306 - acc: 0.8839 - val_loss: 0.4553 - val_acc: 0.8487\n",
            "Epoch 31/50\n",
            "390/390 [==============================] - 46s 118ms/step - loss: 0.3262 - acc: 0.8878 - val_loss: 0.4805 - val_acc: 0.8392\n",
            "Epoch 32/50\n",
            "390/390 [==============================] - 46s 118ms/step - loss: 0.3243 - acc: 0.8854 - val_loss: 0.5460 - val_acc: 0.8183\n",
            "Epoch 33/50\n",
            "390/390 [==============================] - 46s 118ms/step - loss: 0.3155 - acc: 0.8891 - val_loss: 0.5130 - val_acc: 0.8351\n",
            "Epoch 34/50\n",
            "390/390 [==============================] - 46s 118ms/step - loss: 0.3089 - acc: 0.8913 - val_loss: 0.4944 - val_acc: 0.8388\n",
            "Epoch 35/50\n",
            "390/390 [==============================] - 46s 118ms/step - loss: 0.3053 - acc: 0.8921 - val_loss: 0.4300 - val_acc: 0.8591\n",
            "Epoch 36/50\n",
            "390/390 [==============================] - 46s 118ms/step - loss: 0.2990 - acc: 0.8951 - val_loss: 0.4720 - val_acc: 0.8460\n",
            "Epoch 37/50\n",
            "390/390 [==============================] - 46s 118ms/step - loss: 0.3019 - acc: 0.8943 - val_loss: 0.4970 - val_acc: 0.8349\n",
            "Epoch 38/50\n",
            "390/390 [==============================] - 46s 119ms/step - loss: 0.2920 - acc: 0.8977 - val_loss: 0.5367 - val_acc: 0.8289\n",
            "Epoch 39/50\n",
            "390/390 [==============================] - 46s 118ms/step - loss: 0.2853 - acc: 0.9003 - val_loss: 0.4406 - val_acc: 0.8549\n",
            "Epoch 40/50\n",
            "390/390 [==============================] - 46s 118ms/step - loss: 0.2863 - acc: 0.8993 - val_loss: 0.4445 - val_acc: 0.8569\n",
            "Epoch 41/50\n",
            "390/390 [==============================] - 46s 118ms/step - loss: 0.2804 - acc: 0.9019 - val_loss: 0.4748 - val_acc: 0.8467\n",
            "Epoch 42/50\n",
            "390/390 [==============================] - 46s 118ms/step - loss: 0.2796 - acc: 0.9016 - val_loss: 0.4228 - val_acc: 0.8618\n",
            "Epoch 43/50\n",
            "390/390 [==============================] - 46s 118ms/step - loss: 0.2752 - acc: 0.9035 - val_loss: 0.4562 - val_acc: 0.8514\n",
            "Epoch 44/50\n",
            "390/390 [==============================] - 46s 119ms/step - loss: 0.2777 - acc: 0.9026 - val_loss: 0.5556 - val_acc: 0.8223\n",
            "Epoch 45/50\n",
            "390/390 [==============================] - 46s 118ms/step - loss: 0.2704 - acc: 0.9051 - val_loss: 0.5249 - val_acc: 0.8323\n",
            "Epoch 46/50\n",
            "390/390 [==============================] - 46s 119ms/step - loss: 0.2671 - acc: 0.9068 - val_loss: 0.4151 - val_acc: 0.8634\n",
            "Epoch 47/50\n",
            "390/390 [==============================] - 46s 119ms/step - loss: 0.2674 - acc: 0.9071 - val_loss: 0.5092 - val_acc: 0.8380\n",
            "Epoch 48/50\n",
            "390/390 [==============================] - 46s 119ms/step - loss: 0.2587 - acc: 0.9086 - val_loss: 0.4676 - val_acc: 0.8486\n",
            "Epoch 49/50\n",
            "390/390 [==============================] - 46s 118ms/step - loss: 0.2621 - acc: 0.9083 - val_loss: 0.5104 - val_acc: 0.8382\n",
            "Epoch 50/50\n",
            "390/390 [==============================] - 46s 119ms/step - loss: 0.2588 - acc: 0.9078 - val_loss: 0.4368 - val_acc: 0.8589\n",
            "Model took 2315.74 seconds to train\n"
          ],
          "name": "stdout"
        },
        {
          "output_type": "display_data",
          "data": {
            "image/png": "[encoded data removed]",
            "text/plain": [
              "<Figure size 1080x360 with 2 Axes>"
            ]
          },
          "metadata": {
            "tags": []
          }
        },
        {
          "output_type": "stream",
          "text": [
            "Accuracy on test data is: 85.89\n"
          ],
          "name": "stdout"
        }
      ]
    }
  ]
}