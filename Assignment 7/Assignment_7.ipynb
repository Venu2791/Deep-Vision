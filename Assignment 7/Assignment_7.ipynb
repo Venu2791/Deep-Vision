{
  "nbformat": 4,
  "nbformat_minor": 0,
  "metadata": {
    "colab": {
      "name": "Assignment 7.ipynb",
      "provenance": [],
      "collapsed_sections": [],
      "include_colab_link": true
    },
    "kernelspec": {
      "name": "python3",
      "display_name": "Python 3"
    },
    "accelerator": "GPU"
  },
  "cells": [
    {
      "cell_type": "markdown",
      "metadata": {
        "id": "view-in-github",
        "colab_type": "text"
      },
      "source": [
        "<a href=\"https://colab.research.google.com/github/Venu2791/Deep-Vision/blob/master/Assignment%207/Assignment_7.ipynb\" target=\"_parent\"><img src=\"https://colab.research.google.com/assets/colab-badge.svg\" alt=\"Open In Colab\"/></a>"
      ]
    },
    {
      "cell_type": "markdown",
      "metadata": {
        "id": "ZyMNeIPXG5SN",
        "colab_type": "text"
      },
      "source": [
        "**Problem Statement:**\n",
        "\n",
        "Build the ENAS architecture and run 100 epochs for the same."
      ]
    },
    {
      "cell_type": "code",
      "metadata": {
        "id": "KkwXnw9OfHZl",
        "colab_type": "code",
        "outputId": "9ae219bd-3901-4f62-cf18-359986bd2320",
        "colab": {
          "base_uri": "https://localhost:8080/",
          "height": 83
        }
      },
      "source": [
        "from keras import backend as K\n",
        "import time\n",
        "import matplotlib.pyplot as plt\n",
        "import numpy as np\n",
        "% matplotlib inline\n",
        "np.random.seed(2017) \n",
        "from keras.models import Sequential\n",
        "from keras.layers.convolutional import Convolution2D, MaxPooling2D\n",
        "from keras.layers import Activation, Flatten, Dense, Dropout\n",
        "from keras.layers.normalization import BatchNormalization\n",
        "from keras.utils import np_utils"
      ],
      "execution_count": 1,
      "outputs": [
        {
          "output_type": "stream",
          "text": [
            "Using TensorFlow backend.\n"
          ],
          "name": "stderr"
        },
        {
          "output_type": "display_data",
          "data": {
            "text/html": [
              "<p style=\"color: red;\">\n",
              "The default version of TensorFlow in Colab will soon switch to TensorFlow 2.x.<br>\n",
              "We recommend you <a href=\"https://www.tensorflow.org/guide/migrate\" target=\"_blank\">upgrade</a> now \n",
              "or ensure your notebook will continue to use TensorFlow 1.x via the <code>%tensorflow_version 1.x</code> magic:\n",
              "<a href=\"https://colab.research.google.com/notebooks/tensorflow_version.ipynb\" target=\"_blank\">more info</a>.</p>\n"
            ],
            "text/plain": [
              "<IPython.core.display.HTML object>"
            ]
          },
          "metadata": {
            "tags": []
          }
        }
      ]
    },
    {
      "cell_type": "markdown",
      "metadata": {
        "id": "NEHyrQUPGuHR",
        "colab_type": "text"
      },
      "source": [
        "**Loading and Pre-Processing the Data:**\n",
        "\n",
        "Number of classes : 10\n",
        "Training set size : 50K\n",
        "Test set size : 10K\n",
        "Image resolution : 32x32\n"
      ]
    },
    {
      "cell_type": "code",
      "metadata": {
        "id": "NHpnoCHZfO8g",
        "colab_type": "code",
        "outputId": "1c63a9a0-c572-4a99-8a73-8544c8df510b",
        "colab": {
          "base_uri": "https://localhost:8080/",
          "height": 54
        }
      },
      "source": [
        "from keras.datasets import cifar10\n",
        "(train_features, train_labels), (test_features, test_labels) = cifar10.load_data()\n",
        "num_train, img_channels, img_rows, img_cols =  train_features.shape\n",
        "num_test, _, _, _ =  test_features.shape\n",
        "num_classes = len(np.unique(train_labels))"
      ],
      "execution_count": 2,
      "outputs": [
        {
          "output_type": "stream",
          "text": [
            "Downloading data from https://www.cs.toronto.edu/~kriz/cifar-10-python.tar.gz\n",
            "170500096/170498071 [==============================] - 11s 0us/step\n"
          ],
          "name": "stdout"
        }
      ]
    },
    {
      "cell_type": "code",
      "metadata": {
        "id": "14HyBUXdfS6G",
        "colab_type": "code",
        "outputId": "44d0d6e8-1913-4ae7-e69e-83977c19ae32",
        "colab": {
          "base_uri": "https://localhost:8080/",
          "height": 213
        }
      },
      "source": [
        "class_names = ['airplane','automobile','bird','cat','deer',\n",
        "               'dog','frog','horse','ship','truck']\n",
        "fig = plt.figure(figsize=(8,3))\n",
        "for i in range(num_classes):\n",
        "    ax = fig.add_subplot(2, 5, 1 + i, xticks=[], yticks=[])\n",
        "    idx = np.where(train_labels[:]==i)[0]\n",
        "    features_idx = train_features[idx,::]\n",
        "    img_num = np.random.randint(features_idx.shape[0])\n",
        "    im = features_idx[img_num]\n",
        "    ax.set_title(class_names[i])\n",
        "    plt.imshow(im)\n",
        "plt.show()"
      ],
      "execution_count": 3,
      "outputs": [
        {
          "output_type": "display_data",
          "data": {
            "image/png": "[encoded data removed]",
            "text/plain": [
              "<Figure size 576x216 with 10 Axes>"
            ]
          },
          "metadata": {
            "tags": []
          }
        }
      ]
    },
    {
      "cell_type": "markdown",
      "metadata": {
        "id": "7_FXE3iAKc6e",
        "colab_type": "text"
      },
      "source": [
        "**Plot Model history:**\n",
        "\n",
        "This function plots the loss and accuracy for both train and validation datasets. The values for the fucntion are the history returned from the fit_generator fucntion. "
      ]
    },
    {
      "cell_type": "code",
      "metadata": {
        "id": "bmfsk76-fadV",
        "colab_type": "code",
        "colab": {}
      },
      "source": [
        "def plot_model_history(model_history):\n",
        "    fig, axs = plt.subplots(1,2,figsize=(15,5))\n",
        "    # summarize history for accuracy\n",
        "    axs[0].plot(range(1,len(model_history.history['acc'])+1),model_history.history['acc'])\n",
        "    axs[0].plot(range(1,len(model_history.history['val_acc'])+1),model_history.history['val_acc'])\n",
        "    axs[0].set_title('Model Accuracy')\n",
        "    axs[0].set_ylabel('Accuracy')\n",
        "    axs[0].set_xlabel('Epoch')\n",
        "    axs[0].set_xticks(np.arange(1,len(model_history.history['acc'])+1),len(model_history.history['acc'])/10)\n",
        "    axs[0].legend(['train', 'val'], loc='best')\n",
        "    # summarize history for loss\n",
        "    axs[1].plot(range(1,len(model_history.history['loss'])+1),model_history.history['loss'])\n",
        "    axs[1].plot(range(1,len(model_history.history['val_loss'])+1),model_history.history['val_loss'])\n",
        "    axs[1].set_title('Model Loss')\n",
        "    axs[1].set_ylabel('Loss')\n",
        "    axs[1].set_xlabel('Epoch')\n",
        "    axs[1].set_xticks(np.arange(1,len(model_history.history['loss'])+1),len(model_history.history['loss'])/10)\n",
        "    axs[1].legend(['train', 'val'], loc='best')\n",
        "    plt.show()"
      ],
      "execution_count": 0,
      "outputs": []
    },
    {
      "cell_type": "markdown",
      "metadata": {
        "id": "C9IOa2HCVejZ",
        "colab_type": "text"
      },
      "source": [
        "##Test Accuracy:\n",
        "With the trained model, we do the predictions for the test dataset using predict function. We then compute the accuracy.\n",
        "\n",
        "Accuracy= # of correct predictions/number of samples."
      ]
    },
    {
      "cell_type": "code",
      "metadata": {
        "id": "YJMT4rjgfdZz",
        "colab_type": "code",
        "colab": {}
      },
      "source": [
        "def accuracy(test_x, test_y, model):\n",
        "    result = model.predict(test_x)\n",
        "    predicted_class = np.argmax(result, axis=1)\n",
        "    true_class = np.argmax(test_y, axis=1)\n",
        "    num_correct = np.sum(predicted_class == true_class) \n",
        "    accuracy = float(num_correct)/result.shape[0]\n",
        "    return (accuracy * 100)"
      ],
      "execution_count": 0,
      "outputs": []
    },
    {
      "cell_type": "markdown",
      "metadata": {
        "id": "ZuVyjsU6Mu7g",
        "colab_type": "text"
      },
      "source": [
        "**Pre-processing:**</br>\n",
        "Convert the image to float.</br>\n",
        "Standardising the train and test data set by dividing it by 255.</br>\n",
        "Convert the labels to one hot encoding.</br>"
      ]
    },
    {
      "cell_type": "code",
      "metadata": {
        "id": "T5c5nDvxm6zR",
        "colab_type": "code",
        "colab": {}
      },
      "source": [
        "train_features = train_features.astype('float32')/255\n",
        "test_features = test_features.astype('float32')/255\n",
        "# convert class labels to binary class labels\n",
        "train_labels = np_utils.to_categorical(train_labels, num_classes)\n",
        "test_labels = np_utils.to_categorical(test_labels, num_classes)"
      ],
      "execution_count": 0,
      "outputs": []
    },
    {
      "cell_type": "code",
      "metadata": {
        "colab_type": "code",
        "id": "PFZ6lkaSrZcf",
        "colab": {}
      },
      "source": [
        "#Model\n",
        "from keras.layers.convolutional import Conv2D,SeparableConv2D,DepthwiseConv2D\n",
        "from keras.layers.pooling import MaxPooling2D,GlobalAveragePooling2D\n",
        "from keras.models import Model\n",
        "from keras.layers import Input,add, Activation,Add,Lambda\n",
        "from keras.layers.merge import concatenate\n",
        "from keras.layers.normalization import BatchNormalization\n",
        "from keras.utils import plot_model\n",
        "import tensorflow as tf\n"
      ],
      "execution_count": 0,
      "outputs": []
    },
    {
      "cell_type": "markdown",
      "metadata": {
        "id": "dYkFEX3hXOFP",
        "colab_type": "text"
      },
      "source": [
        "**Model Architecture:**\n",
        "\n",
        "We have defined the model in 3 blocks: </br>\n",
        "\n",
        "Block 1 with vanilla 3X3 and spatially separable Convolutions.</br>\n",
        "Block2 consists depthwise convolution and grouped convolutions.</br>\n",
        "Block 3 consists of dialated convolution, after this we use few convolution layers and GAP before softmax."
      ]
    },
    {
      "cell_type": "code",
      "metadata": {
        "id": "luZHOVJEx_M5",
        "colab_type": "code",
        "colab": {}
      },
      "source": [
        "def get_model(x,sep=False,kernel_size=3,units=32):\n",
        "  if sep:\n",
        "     return Activation('relu')(\n",
        "      BatchNormalization()(\n",
        "      SeparableConv2D(units, (kernel_size,kernel_size), padding = 'same', use_bias = False)(x)))\n",
        "  else:\n",
        "      return Activation('relu')(\n",
        "      BatchNormalization()(\n",
        "      Conv2D(units, (kernel_size,kernel_size), padding = 'same', use_bias = False)(x)))   \n",
        "\n",
        "def add_skip(layers = []):\n",
        "  return Activation('relu')(Add()(layers))\n",
        "  \n",
        "def reshape(x, block_size):\n",
        "    return tf.nn.space_to_depth(x, block_size)\n"
      ],
      "execution_count": 0,
      "outputs": []
    },
    {
      "cell_type": "code",
      "metadata": {
        "id": "wXKb4Ujpd7mQ",
        "colab_type": "code",
        "outputId": "acca85e2-24e4-4cce-a336-39eef4588255",
        "colab": {
          "base_uri": "https://localhost:8080/",
          "height": 474
        }
      },
      "source": [
        "input_img= Input(shape=(32,32,3))\n",
        "conv_1=get_model(input_img, True, 5, 16)\n",
        "conv_2=get_model(conv_1,False,5,16)\n",
        "conv_3=get_model(conv_2,False,5,16)\n",
        "skip_1=add_skip([conv_1,conv_3])\n",
        "conv_4=get_model(skip_1,True,5,16)\n",
        "add_2=add_skip([conv_4,conv_1])\n",
        "maxpool_1=MaxPooling2D()(add_2)\n",
        "\n",
        "conv_1_block=Lambda(reshape,arguments = {'block_size' : 2})(conv_1)\n",
        "conv_2_block=Lambda(reshape,arguments = {'block_size' : 2})(conv_2)\n",
        "conv_3_block=Lambda(reshape,arguments = {'block_size' : 2})(conv_3)\n",
        "conv_4_block=Lambda(reshape,arguments = {'block_size' : 2})(conv_4)\n",
        "\n",
        "conv_5=get_model(maxpool_1,True,3,16)\n",
        "conv_5_pointwise=get_model(conv_5,False,1,64)\n",
        "add_3=add_skip([conv_4_block,conv_5_pointwise])\n",
        "conv_6=get_model(add_3,False,5,64)\n",
        "add_4=add_skip([conv_3_block,conv_4_block,conv_5_pointwise,conv_6])\n",
        "conv_7=get_model(add_4,True,3,64)\n",
        "add_5=add_skip([conv_1_block,conv_3_block,conv_4_block,conv_5_pointwise,conv_7])\n",
        "conv_8=get_model(add_5,True,5,64)\n",
        "add_6=add_skip([conv_7,conv_8,conv_5_pointwise,conv_4_block])\n",
        "maxpool_2=MaxPooling2D()(add_6)\n",
        "maxppol_2_pointwise=get_model(maxpool_2,False,1,256)\n",
        "\n",
        "conv_1_block_2=Lambda(reshape,arguments = {'block_size' : 2})(conv_1_block)\n",
        "conv_2_block_2=Lambda(reshape,arguments = {'block_size' : 2})(conv_2_block)\n",
        "conv_3_block_2=Lambda(reshape,arguments = {'block_size' : 2})(conv_3_block)\n",
        "conv_4_block_2=Lambda(reshape,arguments = {'block_size' : 2})(conv_4_block)\n",
        "conv_5_block=Lambda(reshape,arguments = {'block_size' : 2})(conv_5)\n",
        "conv_6_block=Lambda(reshape,arguments = {'block_size' : 2})(conv_6)\n",
        "conv_7_block=Lambda(reshape,arguments = {'block_size' : 2})(conv_7)\n",
        "conv_5_blockpointwise_2=get_model(conv_5_block,False,1,256)\n",
        "\n",
        "add_7=add_skip([maxppol_2_pointwise,conv_6_block])\n",
        "conv_9=get_model(add_7,False,5,256)\n",
        "add_8=add_skip([conv_9,conv_4_block_2,conv_2_block_2,conv_1_block_2])\n",
        "conv_10=get_model(add_8,True,5,256)\n",
        "add_9=add_skip([conv_10,conv_9,conv_7_block,conv_2_block_2,conv_5_blockpointwise_2])\n",
        "conv_11=get_model(add_9,False,3,256)\n",
        "add_10=add_skip([conv_11,conv_3_block_2,conv_7_block,conv_5_blockpointwise_2,conv_10,conv_4_block_2])\n",
        "conv_12=get_model(add_10,True,5,256)\n",
        "add_11=add_skip([conv_12,conv_7_block,conv_10,conv_4_block_2])\n",
        "pointwise=get_model(add_11,False,1,10)\n",
        "out1=Conv2D(10,(7,7),activation=\"relu\")(pointwise)\n",
        "out2 = GlobalAveragePooling2D()(out1)\n",
        "output=Activation(\"softmax\")(out2)\n",
        "\n",
        "model = Model(inputs=input_img, outputs=output)\n",
        "\n",
        "#plot_model(model, show_shapes=True,rankdir='TB',dpi=96)'''"
      ],
      "execution_count": 9,
      "outputs": [
        {
          "output_type": "stream",
          "text": [
            "WARNING:tensorflow:From /usr/local/lib/python3.6/dist-packages/keras/backend/tensorflow_backend.py:66: The name tf.get_default_graph is deprecated. Please use tf.compat.v1.get_default_graph instead.\n",
            "\n",
            "WARNING:tensorflow:From /usr/local/lib/python3.6/dist-packages/keras/backend/tensorflow_backend.py:541: The name tf.placeholder is deprecated. Please use tf.compat.v1.placeholder instead.\n",
            "\n",
            "WARNING:tensorflow:From /usr/local/lib/python3.6/dist-packages/keras/backend/tensorflow_backend.py:4432: The name tf.random_uniform is deprecated. Please use tf.random.uniform instead.\n",
            "\n",
            "WARNING:tensorflow:From /usr/local/lib/python3.6/dist-packages/keras/backend/tensorflow_backend.py:190: The name tf.get_default_session is deprecated. Please use tf.compat.v1.get_default_session instead.\n",
            "\n",
            "WARNING:tensorflow:From /usr/local/lib/python3.6/dist-packages/keras/backend/tensorflow_backend.py:197: The name tf.ConfigProto is deprecated. Please use tf.compat.v1.ConfigProto instead.\n",
            "\n",
            "WARNING:tensorflow:From /usr/local/lib/python3.6/dist-packages/keras/backend/tensorflow_backend.py:203: The name tf.Session is deprecated. Please use tf.compat.v1.Session instead.\n",
            "\n",
            "WARNING:tensorflow:From /usr/local/lib/python3.6/dist-packages/keras/backend/tensorflow_backend.py:207: The name tf.global_variables is deprecated. Please use tf.compat.v1.global_variables instead.\n",
            "\n",
            "WARNING:tensorflow:From /usr/local/lib/python3.6/dist-packages/keras/backend/tensorflow_backend.py:216: The name tf.is_variable_initialized is deprecated. Please use tf.compat.v1.is_variable_initialized instead.\n",
            "\n",
            "WARNING:tensorflow:From /usr/local/lib/python3.6/dist-packages/keras/backend/tensorflow_backend.py:223: The name tf.variables_initializer is deprecated. Please use tf.compat.v1.variables_initializer instead.\n",
            "\n",
            "WARNING:tensorflow:From /usr/local/lib/python3.6/dist-packages/keras/backend/tensorflow_backend.py:2041: The name tf.nn.fused_batch_norm is deprecated. Please use tf.compat.v1.nn.fused_batch_norm instead.\n",
            "\n",
            "WARNING:tensorflow:From /usr/local/lib/python3.6/dist-packages/keras/backend/tensorflow_backend.py:148: The name tf.placeholder_with_default is deprecated. Please use tf.compat.v1.placeholder_with_default instead.\n",
            "\n",
            "WARNING:tensorflow:From /usr/local/lib/python3.6/dist-packages/keras/backend/tensorflow_backend.py:4267: The name tf.nn.max_pool is deprecated. Please use tf.nn.max_pool2d instead.\n",
            "\n"
          ],
          "name": "stdout"
        }
      ]
    },
    {
      "cell_type": "code",
      "metadata": {
        "id": "mYEveVQy9WLI",
        "colab_type": "code",
        "outputId": "4af05463-da97-4adf-a4f4-eb7b90654ac0",
        "colab": {
          "base_uri": "https://localhost:8080/",
          "height": 1000
        }
      },
      "source": [
        "model.summary()"
      ],
      "execution_count": 10,
      "outputs": [
        {
          "output_type": "stream",
          "text": [
            "Model: \"model_1\"\n",
            "__________________________________________________________________________________________________\n",
            "Layer (type)                    Output Shape         Param #     Connected to                     \n",
            "==================================================================================================\n",
            "input_1 (InputLayer)            (None, 32, 32, 3)    0                                            \n",
            "__________________________________________________________________________________________________\n",
            "separable_conv2d_1 (SeparableCo (None, 32, 32, 16)   123         input_1[0][0]                    \n",
            "__________________________________________________________________________________________________\n",
            "batch_normalization_1 (BatchNor (None, 32, 32, 16)   64          separable_conv2d_1[0][0]         \n",
            "__________________________________________________________________________________________________\n",
            "activation_1 (Activation)       (None, 32, 32, 16)   0           batch_normalization_1[0][0]      \n",
            "__________________________________________________________________________________________________\n",
            "conv2d_1 (Conv2D)               (None, 32, 32, 16)   6400        activation_1[0][0]               \n",
            "__________________________________________________________________________________________________\n",
            "batch_normalization_2 (BatchNor (None, 32, 32, 16)   64          conv2d_1[0][0]                   \n",
            "__________________________________________________________________________________________________\n",
            "activation_2 (Activation)       (None, 32, 32, 16)   0           batch_normalization_2[0][0]      \n",
            "__________________________________________________________________________________________________\n",
            "conv2d_2 (Conv2D)               (None, 32, 32, 16)   6400        activation_2[0][0]               \n",
            "__________________________________________________________________________________________________\n",
            "batch_normalization_3 (BatchNor (None, 32, 32, 16)   64          conv2d_2[0][0]                   \n",
            "__________________________________________________________________________________________________\n",
            "activation_3 (Activation)       (None, 32, 32, 16)   0           batch_normalization_3[0][0]      \n",
            "__________________________________________________________________________________________________\n",
            "add_1 (Add)                     (None, 32, 32, 16)   0           activation_1[0][0]               \n",
            "                                                                 activation_3[0][0]               \n",
            "__________________________________________________________________________________________________\n",
            "activation_4 (Activation)       (None, 32, 32, 16)   0           add_1[0][0]                      \n",
            "__________________________________________________________________________________________________\n",
            "separable_conv2d_2 (SeparableCo (None, 32, 32, 16)   656         activation_4[0][0]               \n",
            "__________________________________________________________________________________________________\n",
            "batch_normalization_4 (BatchNor (None, 32, 32, 16)   64          separable_conv2d_2[0][0]         \n",
            "__________________________________________________________________________________________________\n",
            "activation_5 (Activation)       (None, 32, 32, 16)   0           batch_normalization_4[0][0]      \n",
            "__________________________________________________________________________________________________\n",
            "add_2 (Add)                     (None, 32, 32, 16)   0           activation_5[0][0]               \n",
            "                                                                 activation_1[0][0]               \n",
            "__________________________________________________________________________________________________\n",
            "activation_6 (Activation)       (None, 32, 32, 16)   0           add_2[0][0]                      \n",
            "__________________________________________________________________________________________________\n",
            "max_pooling2d_1 (MaxPooling2D)  (None, 16, 16, 16)   0           activation_6[0][0]               \n",
            "__________________________________________________________________________________________________\n",
            "separable_conv2d_3 (SeparableCo (None, 16, 16, 16)   400         max_pooling2d_1[0][0]            \n",
            "__________________________________________________________________________________________________\n",
            "batch_normalization_5 (BatchNor (None, 16, 16, 16)   64          separable_conv2d_3[0][0]         \n",
            "__________________________________________________________________________________________________\n",
            "activation_7 (Activation)       (None, 16, 16, 16)   0           batch_normalization_5[0][0]      \n",
            "__________________________________________________________________________________________________\n",
            "conv2d_3 (Conv2D)               (None, 16, 16, 64)   1024        activation_7[0][0]               \n",
            "__________________________________________________________________________________________________\n",
            "batch_normalization_6 (BatchNor (None, 16, 16, 64)   256         conv2d_3[0][0]                   \n",
            "__________________________________________________________________________________________________\n",
            "lambda_4 (Lambda)               (None, 16, 16, 64)   0           activation_5[0][0]               \n",
            "__________________________________________________________________________________________________\n",
            "activation_8 (Activation)       (None, 16, 16, 64)   0           batch_normalization_6[0][0]      \n",
            "__________________________________________________________________________________________________\n",
            "add_3 (Add)                     (None, 16, 16, 64)   0           lambda_4[0][0]                   \n",
            "                                                                 activation_8[0][0]               \n",
            "__________________________________________________________________________________________________\n",
            "activation_9 (Activation)       (None, 16, 16, 64)   0           add_3[0][0]                      \n",
            "__________________________________________________________________________________________________\n",
            "conv2d_4 (Conv2D)               (None, 16, 16, 64)   102400      activation_9[0][0]               \n",
            "__________________________________________________________________________________________________\n",
            "batch_normalization_7 (BatchNor (None, 16, 16, 64)   256         conv2d_4[0][0]                   \n",
            "__________________________________________________________________________________________________\n",
            "lambda_3 (Lambda)               (None, 16, 16, 64)   0           activation_3[0][0]               \n",
            "__________________________________________________________________________________________________\n",
            "activation_10 (Activation)      (None, 16, 16, 64)   0           batch_normalization_7[0][0]      \n",
            "__________________________________________________________________________________________________\n",
            "add_4 (Add)                     (None, 16, 16, 64)   0           lambda_3[0][0]                   \n",
            "                                                                 lambda_4[0][0]                   \n",
            "                                                                 activation_8[0][0]               \n",
            "                                                                 activation_10[0][0]              \n",
            "__________________________________________________________________________________________________\n",
            "activation_11 (Activation)      (None, 16, 16, 64)   0           add_4[0][0]                      \n",
            "__________________________________________________________________________________________________\n",
            "separable_conv2d_4 (SeparableCo (None, 16, 16, 64)   4672        activation_11[0][0]              \n",
            "__________________________________________________________________________________________________\n",
            "batch_normalization_8 (BatchNor (None, 16, 16, 64)   256         separable_conv2d_4[0][0]         \n",
            "__________________________________________________________________________________________________\n",
            "activation_12 (Activation)      (None, 16, 16, 64)   0           batch_normalization_8[0][0]      \n",
            "__________________________________________________________________________________________________\n",
            "lambda_1 (Lambda)               (None, 16, 16, 64)   0           activation_1[0][0]               \n",
            "__________________________________________________________________________________________________\n",
            "add_5 (Add)                     (None, 16, 16, 64)   0           lambda_1[0][0]                   \n",
            "                                                                 lambda_3[0][0]                   \n",
            "                                                                 lambda_4[0][0]                   \n",
            "                                                                 activation_8[0][0]               \n",
            "                                                                 activation_12[0][0]              \n",
            "__________________________________________________________________________________________________\n",
            "activation_13 (Activation)      (None, 16, 16, 64)   0           add_5[0][0]                      \n",
            "__________________________________________________________________________________________________\n",
            "separable_conv2d_5 (SeparableCo (None, 16, 16, 64)   5696        activation_13[0][0]              \n",
            "__________________________________________________________________________________________________\n",
            "batch_normalization_9 (BatchNor (None, 16, 16, 64)   256         separable_conv2d_5[0][0]         \n",
            "__________________________________________________________________________________________________\n",
            "activation_14 (Activation)      (None, 16, 16, 64)   0           batch_normalization_9[0][0]      \n",
            "__________________________________________________________________________________________________\n",
            "add_6 (Add)                     (None, 16, 16, 64)   0           activation_12[0][0]              \n",
            "                                                                 activation_14[0][0]              \n",
            "                                                                 activation_8[0][0]               \n",
            "                                                                 lambda_4[0][0]                   \n",
            "__________________________________________________________________________________________________\n",
            "activation_15 (Activation)      (None, 16, 16, 64)   0           add_6[0][0]                      \n",
            "__________________________________________________________________________________________________\n",
            "max_pooling2d_2 (MaxPooling2D)  (None, 8, 8, 64)     0           activation_15[0][0]              \n",
            "__________________________________________________________________________________________________\n",
            "conv2d_5 (Conv2D)               (None, 8, 8, 256)    16384       max_pooling2d_2[0][0]            \n",
            "__________________________________________________________________________________________________\n",
            "batch_normalization_10 (BatchNo (None, 8, 8, 256)    1024        conv2d_5[0][0]                   \n",
            "__________________________________________________________________________________________________\n",
            "activation_16 (Activation)      (None, 8, 8, 256)    0           batch_normalization_10[0][0]     \n",
            "__________________________________________________________________________________________________\n",
            "lambda_10 (Lambda)              (None, 8, 8, 256)    0           activation_10[0][0]              \n",
            "__________________________________________________________________________________________________\n",
            "add_7 (Add)                     (None, 8, 8, 256)    0           activation_16[0][0]              \n",
            "                                                                 lambda_10[0][0]                  \n",
            "__________________________________________________________________________________________________\n",
            "activation_18 (Activation)      (None, 8, 8, 256)    0           add_7[0][0]                      \n",
            "__________________________________________________________________________________________________\n",
            "conv2d_7 (Conv2D)               (None, 8, 8, 256)    1638400     activation_18[0][0]              \n",
            "__________________________________________________________________________________________________\n",
            "batch_normalization_12 (BatchNo (None, 8, 8, 256)    1024        conv2d_7[0][0]                   \n",
            "__________________________________________________________________________________________________\n",
            "lambda_2 (Lambda)               (None, 16, 16, 64)   0           activation_2[0][0]               \n",
            "__________________________________________________________________________________________________\n",
            "activation_19 (Activation)      (None, 8, 8, 256)    0           batch_normalization_12[0][0]     \n",
            "__________________________________________________________________________________________________\n",
            "lambda_8 (Lambda)               (None, 8, 8, 256)    0           lambda_4[0][0]                   \n",
            "__________________________________________________________________________________________________\n",
            "lambda_6 (Lambda)               (None, 8, 8, 256)    0           lambda_2[0][0]                   \n",
            "__________________________________________________________________________________________________\n",
            "lambda_5 (Lambda)               (None, 8, 8, 256)    0           lambda_1[0][0]                   \n",
            "__________________________________________________________________________________________________\n",
            "add_8 (Add)                     (None, 8, 8, 256)    0           activation_19[0][0]              \n",
            "                                                                 lambda_8[0][0]                   \n",
            "                                                                 lambda_6[0][0]                   \n",
            "                                                                 lambda_5[0][0]                   \n",
            "__________________________________________________________________________________________________\n",
            "activation_20 (Activation)      (None, 8, 8, 256)    0           add_8[0][0]                      \n",
            "__________________________________________________________________________________________________\n",
            "lambda_9 (Lambda)               (None, 8, 8, 64)     0           activation_7[0][0]               \n",
            "__________________________________________________________________________________________________\n",
            "separable_conv2d_6 (SeparableCo (None, 8, 8, 256)    71936       activation_20[0][0]              \n",
            "__________________________________________________________________________________________________\n",
            "conv2d_6 (Conv2D)               (None, 8, 8, 256)    16384       lambda_9[0][0]                   \n",
            "__________________________________________________________________________________________________\n",
            "batch_normalization_13 (BatchNo (None, 8, 8, 256)    1024        separable_conv2d_6[0][0]         \n",
            "__________________________________________________________________________________________________\n",
            "batch_normalization_11 (BatchNo (None, 8, 8, 256)    1024        conv2d_6[0][0]                   \n",
            "__________________________________________________________________________________________________\n",
            "activation_21 (Activation)      (None, 8, 8, 256)    0           batch_normalization_13[0][0]     \n",
            "__________________________________________________________________________________________________\n",
            "lambda_11 (Lambda)              (None, 8, 8, 256)    0           activation_12[0][0]              \n",
            "__________________________________________________________________________________________________\n",
            "activation_17 (Activation)      (None, 8, 8, 256)    0           batch_normalization_11[0][0]     \n",
            "__________________________________________________________________________________________________\n",
            "add_9 (Add)                     (None, 8, 8, 256)    0           activation_21[0][0]              \n",
            "                                                                 activation_19[0][0]              \n",
            "                                                                 lambda_11[0][0]                  \n",
            "                                                                 lambda_6[0][0]                   \n",
            "                                                                 activation_17[0][0]              \n",
            "__________________________________________________________________________________________________\n",
            "activation_22 (Activation)      (None, 8, 8, 256)    0           add_9[0][0]                      \n",
            "__________________________________________________________________________________________________\n",
            "conv2d_8 (Conv2D)               (None, 8, 8, 256)    589824      activation_22[0][0]              \n",
            "__________________________________________________________________________________________________\n",
            "batch_normalization_14 (BatchNo (None, 8, 8, 256)    1024        conv2d_8[0][0]                   \n",
            "__________________________________________________________________________________________________\n",
            "activation_23 (Activation)      (None, 8, 8, 256)    0           batch_normalization_14[0][0]     \n",
            "__________________________________________________________________________________________________\n",
            "lambda_7 (Lambda)               (None, 8, 8, 256)    0           lambda_3[0][0]                   \n",
            "__________________________________________________________________________________________________\n",
            "add_10 (Add)                    (None, 8, 8, 256)    0           activation_23[0][0]              \n",
            "                                                                 lambda_7[0][0]                   \n",
            "                                                                 lambda_11[0][0]                  \n",
            "                                                                 activation_17[0][0]              \n",
            "                                                                 activation_21[0][0]              \n",
            "                                                                 lambda_8[0][0]                   \n",
            "__________________________________________________________________________________________________\n",
            "activation_24 (Activation)      (None, 8, 8, 256)    0           add_10[0][0]                     \n",
            "__________________________________________________________________________________________________\n",
            "separable_conv2d_7 (SeparableCo (None, 8, 8, 256)    71936       activation_24[0][0]              \n",
            "__________________________________________________________________________________________________\n",
            "batch_normalization_15 (BatchNo (None, 8, 8, 256)    1024        separable_conv2d_7[0][0]         \n",
            "__________________________________________________________________________________________________\n",
            "activation_25 (Activation)      (None, 8, 8, 256)    0           batch_normalization_15[0][0]     \n",
            "__________________________________________________________________________________________________\n",
            "add_11 (Add)                    (None, 8, 8, 256)    0           activation_25[0][0]              \n",
            "                                                                 lambda_11[0][0]                  \n",
            "                                                                 activation_21[0][0]              \n",
            "                                                                 lambda_8[0][0]                   \n",
            "__________________________________________________________________________________________________\n",
            "activation_26 (Activation)      (None, 8, 8, 256)    0           add_11[0][0]                     \n",
            "__________________________________________________________________________________________________\n",
            "conv2d_9 (Conv2D)               (None, 8, 8, 10)     2560        activation_26[0][0]              \n",
            "__________________________________________________________________________________________________\n",
            "batch_normalization_16 (BatchNo (None, 8, 8, 10)     40          conv2d_9[0][0]                   \n",
            "__________________________________________________________________________________________________\n",
            "activation_27 (Activation)      (None, 8, 8, 10)     0           batch_normalization_16[0][0]     \n",
            "__________________________________________________________________________________________________\n",
            "conv2d_10 (Conv2D)              (None, 2, 2, 10)     4910        activation_27[0][0]              \n",
            "__________________________________________________________________________________________________\n",
            "global_average_pooling2d_1 (Glo (None, 10)           0           conv2d_10[0][0]                  \n",
            "__________________________________________________________________________________________________\n",
            "activation_28 (Activation)      (None, 10)           0           global_average_pooling2d_1[0][0] \n",
            "==================================================================================================\n",
            "Total params: 2,547,633\n",
            "Trainable params: 2,543,869\n",
            "Non-trainable params: 3,764\n",
            "__________________________________________________________________________________________________\n"
          ],
          "name": "stdout"
        }
      ]
    },
    {
      "cell_type": "markdown",
      "metadata": {
        "id": "9VMrua3mZXBj",
        "colab_type": "text"
      },
      "source": [
        "##Training the given model:\n",
        "\n",
        "In the below code, we use DataGenerator objects to train the model in batches (batch_size=128) for 100 epochs.\n",
        "We plot the accuracy and losses on the training and test sets after each epoch.\n",
        "We normalize the image and use horizontal flip"
      ]
    },
    {
      "cell_type": "code",
      "metadata": {
        "id": "djX5DWCFxR6D",
        "colab_type": "code",
        "outputId": "c383855e-ed6e-4b97-f59e-fd09d2f743eb",
        "colab": {
          "base_uri": "https://localhost:8080/",
          "height": 1000
        }
      },
      "source": [
        "model.compile(optimizer='adam', loss='categorical_crossentropy', metrics=['accuracy'])\n",
        "from keras.preprocessing.image import ImageDataGenerator\n",
        "\n",
        "datagen = ImageDataGenerator(featurewise_center=True,featurewise_std_normalization=True,zoom_range=0.0, \n",
        "                             horizontal_flip=True)\n",
        "\n",
        "\n",
        "# train the model\n",
        "start = time.time()\n",
        "# Train the model\n",
        "model_info = model.fit_generator(datagen.flow(train_features, train_labels, batch_size = 128),\n",
        "                                 samples_per_epoch = train_features.shape[0], nb_epoch = 100, \n",
        "                                 validation_data = (test_features, test_labels), verbose=1)\n",
        "end = time.time()\n",
        "print (\"Model took %0.2f seconds to train\"%(end - start))\n",
        "# plot model history\n",
        "plot_model_history(model_info)\n",
        "# compute test accuracy\n",
        "print (\"Accuracy on test data is: %0.2f\"%accuracy(test_features, test_labels, model))"
      ],
      "execution_count": 11,
      "outputs": [
        {
          "output_type": "stream",
          "text": [
            "WARNING:tensorflow:From /usr/local/lib/python3.6/dist-packages/keras/optimizers.py:793: The name tf.train.Optimizer is deprecated. Please use tf.compat.v1.train.Optimizer instead.\n",
            "\n",
            "WARNING:tensorflow:From /usr/local/lib/python3.6/dist-packages/keras/backend/tensorflow_backend.py:3576: The name tf.log is deprecated. Please use tf.math.log instead.\n",
            "\n",
            "WARNING:tensorflow:From /usr/local/lib/python3.6/dist-packages/tensorflow_core/python/ops/math_grad.py:1424: where (from tensorflow.python.ops.array_ops) is deprecated and will be removed in a future version.\n",
            "Instructions for updating:\n",
            "Use tf.where in 2.0, which has the same broadcast rule as np.where\n"
          ],
          "name": "stdout"
        },
        {
          "output_type": "stream",
          "text": [
            "/usr/local/lib/python3.6/dist-packages/ipykernel_launcher.py:13: UserWarning: The semantics of the Keras 2 argument `steps_per_epoch` is not the same as the Keras 1 argument `samples_per_epoch`. `steps_per_epoch` is the number of batches to draw from the generator at each epoch. Basically steps_per_epoch = samples_per_epoch/batch_size. Similarly `nb_val_samples`->`validation_steps` and `val_samples`->`steps` arguments have changed. Update your method calls accordingly.\n",
            "  del sys.path[0]\n",
            "/usr/local/lib/python3.6/dist-packages/ipykernel_launcher.py:13: UserWarning: Update your `fit_generator` call to the Keras 2 API: `fit_generator(<keras_pre..., validation_data=(array([[[..., verbose=1, steps_per_epoch=390, epochs=100)`\n",
            "  del sys.path[0]\n"
          ],
          "name": "stderr"
        },
        {
          "output_type": "stream",
          "text": [
            "WARNING:tensorflow:From /usr/local/lib/python3.6/dist-packages/keras/backend/tensorflow_backend.py:1033: The name tf.assign_add is deprecated. Please use tf.compat.v1.assign_add instead.\n",
            "\n",
            "WARNING:tensorflow:From /usr/local/lib/python3.6/dist-packages/keras/backend/tensorflow_backend.py:1020: The name tf.assign is deprecated. Please use tf.compat.v1.assign instead.\n",
            "\n",
            "Epoch 1/100\n"
          ],
          "name": "stdout"
        },
        {
          "output_type": "stream",
          "text": [
            "/usr/local/lib/python3.6/dist-packages/keras_preprocessing/image/image_data_generator.py:716: UserWarning: This ImageDataGenerator specifies `featurewise_center`, but it hasn't been fit on any training data. Fit it first by calling `.fit(numpy_data)`.\n",
            "  warnings.warn('This ImageDataGenerator specifies '\n",
            "/usr/local/lib/python3.6/dist-packages/keras_preprocessing/image/image_data_generator.py:724: UserWarning: This ImageDataGenerator specifies `featurewise_std_normalization`, but it hasn't been fit on any training data. Fit it first by calling `.fit(numpy_data)`.\n",
            "  warnings.warn('This ImageDataGenerator specifies '\n"
          ],
          "name": "stderr"
        },
        {
          "output_type": "stream",
          "text": [
            "390/390 [==============================] - 28s 71ms/step - loss: 1.3071 - acc: 0.5311 - val_loss: 1.7545 - val_acc: 0.4615\n",
            "Epoch 2/100\n",
            "390/390 [==============================] - 20s 51ms/step - loss: 0.9092 - acc: 0.6790 - val_loss: 1.8876 - val_acc: 0.4451\n",
            "Epoch 3/100\n",
            "390/390 [==============================] - 20s 51ms/step - loss: 0.7543 - acc: 0.7351 - val_loss: 1.4034 - val_acc: 0.5527\n",
            "Epoch 4/100\n",
            "390/390 [==============================] - 20s 52ms/step - loss: 0.6556 - acc: 0.7718 - val_loss: 1.2749 - val_acc: 0.5973\n",
            "Epoch 5/100\n",
            "390/390 [==============================] - 20s 51ms/step - loss: 0.5783 - acc: 0.7987 - val_loss: 0.7933 - val_acc: 0.7217\n",
            "Epoch 6/100\n",
            "390/390 [==============================] - 20s 51ms/step - loss: 0.5169 - acc: 0.8201 - val_loss: 1.2557 - val_acc: 0.6252\n",
            "Epoch 7/100\n",
            "390/390 [==============================] - 20s 50ms/step - loss: 0.4553 - acc: 0.8416 - val_loss: 0.9256 - val_acc: 0.6985\n",
            "Epoch 8/100\n",
            "390/390 [==============================] - 20s 52ms/step - loss: 0.4081 - acc: 0.8582 - val_loss: 1.3590 - val_acc: 0.6154\n",
            "Epoch 9/100\n",
            "390/390 [==============================] - 20s 51ms/step - loss: 0.3607 - acc: 0.8752 - val_loss: 0.8234 - val_acc: 0.7395\n",
            "Epoch 10/100\n",
            "390/390 [==============================] - 20s 51ms/step - loss: 0.3225 - acc: 0.8885 - val_loss: 0.9809 - val_acc: 0.7070\n",
            "Epoch 11/100\n",
            "390/390 [==============================] - 20s 52ms/step - loss: 0.2706 - acc: 0.9086 - val_loss: 1.1174 - val_acc: 0.7103\n",
            "Epoch 12/100\n",
            "390/390 [==============================] - 20s 51ms/step - loss: 0.2470 - acc: 0.9138 - val_loss: 1.1216 - val_acc: 0.7157\n",
            "Epoch 13/100\n",
            "390/390 [==============================] - 20s 51ms/step - loss: 0.2063 - acc: 0.9302 - val_loss: 1.2764 - val_acc: 0.6940\n",
            "Epoch 14/100\n",
            "390/390 [==============================] - 20s 51ms/step - loss: 0.1798 - acc: 0.9381 - val_loss: 1.1876 - val_acc: 0.7066\n",
            "Epoch 15/100\n",
            "390/390 [==============================] - 20s 52ms/step - loss: 0.1572 - acc: 0.9465 - val_loss: 1.0738 - val_acc: 0.7469\n",
            "Epoch 16/100\n",
            "390/390 [==============================] - 20s 52ms/step - loss: 0.1376 - acc: 0.9523 - val_loss: 1.4463 - val_acc: 0.6965\n",
            "Epoch 17/100\n",
            "390/390 [==============================] - 21s 53ms/step - loss: 0.1190 - acc: 0.9604 - val_loss: 1.4408 - val_acc: 0.6918\n",
            "Epoch 18/100\n",
            "390/390 [==============================] - 20s 51ms/step - loss: 0.1141 - acc: 0.9610 - val_loss: 1.3744 - val_acc: 0.6987\n",
            "Epoch 19/100\n",
            "390/390 [==============================] - 20s 52ms/step - loss: 0.0968 - acc: 0.9668 - val_loss: 1.6630 - val_acc: 0.6633\n",
            "Epoch 20/100\n",
            "390/390 [==============================] - 21s 54ms/step - loss: 0.0903 - acc: 0.9694 - val_loss: 1.2531 - val_acc: 0.7500\n",
            "Epoch 21/100\n",
            "390/390 [==============================] - 20s 52ms/step - loss: 0.0862 - acc: 0.9709 - val_loss: 1.3106 - val_acc: 0.7248\n",
            "Epoch 22/100\n",
            "390/390 [==============================] - 21s 53ms/step - loss: 0.0797 - acc: 0.9728 - val_loss: 2.0894 - val_acc: 0.6437\n",
            "Epoch 23/100\n",
            "390/390 [==============================] - 21s 53ms/step - loss: 0.0723 - acc: 0.9755 - val_loss: 1.4766 - val_acc: 0.7140\n",
            "Epoch 24/100\n",
            "390/390 [==============================] - 21s 53ms/step - loss: 0.0672 - acc: 0.9767 - val_loss: 0.9451 - val_acc: 0.7756\n",
            "Epoch 25/100\n",
            "390/390 [==============================] - 20s 52ms/step - loss: 0.0612 - acc: 0.9793 - val_loss: 1.2059 - val_acc: 0.7624\n",
            "Epoch 26/100\n",
            "390/390 [==============================] - 20s 52ms/step - loss: 0.0622 - acc: 0.9778 - val_loss: 1.9618 - val_acc: 0.6941\n",
            "Epoch 27/100\n",
            "390/390 [==============================] - 20s 52ms/step - loss: 0.0631 - acc: 0.9782 - val_loss: 1.0887 - val_acc: 0.7567\n",
            "Epoch 28/100\n",
            "390/390 [==============================] - 20s 52ms/step - loss: 0.0589 - acc: 0.9797 - val_loss: 1.7134 - val_acc: 0.6796\n",
            "Epoch 29/100\n",
            "390/390 [==============================] - 20s 51ms/step - loss: 0.0548 - acc: 0.9810 - val_loss: 1.4344 - val_acc: 0.7346\n",
            "Epoch 30/100\n",
            "390/390 [==============================] - 20s 52ms/step - loss: 0.0605 - acc: 0.9791 - val_loss: 1.5688 - val_acc: 0.7262\n",
            "Epoch 31/100\n",
            "390/390 [==============================] - 20s 52ms/step - loss: 0.0486 - acc: 0.9834 - val_loss: 1.4107 - val_acc: 0.7414\n",
            "Epoch 32/100\n",
            "390/390 [==============================] - 20s 51ms/step - loss: 0.0443 - acc: 0.9847 - val_loss: 1.6313 - val_acc: 0.7292\n",
            "Epoch 33/100\n",
            "390/390 [==============================] - 20s 52ms/step - loss: 0.0538 - acc: 0.9811 - val_loss: 1.6763 - val_acc: 0.7236\n",
            "Epoch 34/100\n",
            "390/390 [==============================] - 20s 51ms/step - loss: 0.0522 - acc: 0.9819 - val_loss: 2.6436 - val_acc: 0.6316\n",
            "Epoch 35/100\n",
            "390/390 [==============================] - 20s 51ms/step - loss: 0.0432 - acc: 0.9846 - val_loss: 1.3969 - val_acc: 0.7427\n",
            "Epoch 36/100\n",
            "390/390 [==============================] - 20s 51ms/step - loss: 0.0402 - acc: 0.9856 - val_loss: 1.1210 - val_acc: 0.7763\n",
            "Epoch 37/100\n",
            "390/390 [==============================] - 20s 52ms/step - loss: 0.0435 - acc: 0.9850 - val_loss: 1.4123 - val_acc: 0.7366\n",
            "Epoch 38/100\n",
            "390/390 [==============================] - 20s 52ms/step - loss: 0.0490 - acc: 0.9825 - val_loss: 1.6426 - val_acc: 0.7562\n",
            "Epoch 39/100\n",
            "390/390 [==============================] - 20s 51ms/step - loss: 0.0362 - acc: 0.9873 - val_loss: 1.2363 - val_acc: 0.7731\n",
            "Epoch 40/100\n",
            "390/390 [==============================] - 20s 51ms/step - loss: 0.0348 - acc: 0.9878 - val_loss: 1.3832 - val_acc: 0.7761\n",
            "Epoch 41/100\n",
            "390/390 [==============================] - 20s 51ms/step - loss: 0.0366 - acc: 0.9872 - val_loss: 1.3183 - val_acc: 0.7756\n",
            "Epoch 42/100\n",
            "390/390 [==============================] - 20s 52ms/step - loss: 0.0406 - acc: 0.9857 - val_loss: 1.6318 - val_acc: 0.7341\n",
            "Epoch 43/100\n",
            "390/390 [==============================] - 20s 51ms/step - loss: 0.0346 - acc: 0.9881 - val_loss: 1.2303 - val_acc: 0.7880\n",
            "Epoch 44/100\n",
            "390/390 [==============================] - 20s 51ms/step - loss: 0.0374 - acc: 0.9865 - val_loss: 1.8135 - val_acc: 0.7362\n",
            "Epoch 45/100\n",
            "390/390 [==============================] - 20s 51ms/step - loss: 0.0352 - acc: 0.9880 - val_loss: 1.5080 - val_acc: 0.7666\n",
            "Epoch 46/100\n",
            "390/390 [==============================] - 20s 51ms/step - loss: 0.0356 - acc: 0.9878 - val_loss: 1.4776 - val_acc: 0.7536\n",
            "Epoch 47/100\n",
            "390/390 [==============================] - 20s 50ms/step - loss: 0.0372 - acc: 0.9863 - val_loss: 1.6645 - val_acc: 0.7276\n",
            "Epoch 48/100\n",
            "390/390 [==============================] - 20s 51ms/step - loss: 0.0324 - acc: 0.9890 - val_loss: 1.4843 - val_acc: 0.7569\n",
            "Epoch 49/100\n",
            "390/390 [==============================] - 20s 50ms/step - loss: 0.0292 - acc: 0.9902 - val_loss: 2.0019 - val_acc: 0.6999\n",
            "Epoch 50/100\n",
            "390/390 [==============================] - 20s 51ms/step - loss: 0.0327 - acc: 0.9887 - val_loss: 1.1993 - val_acc: 0.7947\n",
            "Epoch 51/100\n",
            "390/390 [==============================] - 20s 51ms/step - loss: 0.0319 - acc: 0.9891 - val_loss: 1.6254 - val_acc: 0.7556\n",
            "Epoch 52/100\n",
            "390/390 [==============================] - 20s 51ms/step - loss: 0.0292 - acc: 0.9900 - val_loss: 1.4712 - val_acc: 0.7722\n",
            "Epoch 53/100\n",
            "390/390 [==============================] - 20s 51ms/step - loss: 0.0299 - acc: 0.9895 - val_loss: 1.3971 - val_acc: 0.7764\n",
            "Epoch 54/100\n",
            "390/390 [==============================] - 20s 52ms/step - loss: 0.0313 - acc: 0.9888 - val_loss: 1.4052 - val_acc: 0.7748\n",
            "Epoch 55/100\n",
            "390/390 [==============================] - 20s 52ms/step - loss: 0.0265 - acc: 0.9908 - val_loss: 1.2944 - val_acc: 0.7877\n",
            "Epoch 56/100\n",
            "390/390 [==============================] - 20s 51ms/step - loss: 0.0269 - acc: 0.9906 - val_loss: 2.2147 - val_acc: 0.7229\n",
            "Epoch 57/100\n",
            "390/390 [==============================] - 20s 51ms/step - loss: 0.0318 - acc: 0.9894 - val_loss: 1.5509 - val_acc: 0.7491\n",
            "Epoch 58/100\n",
            "390/390 [==============================] - 20s 51ms/step - loss: 0.0343 - acc: 0.9880 - val_loss: 1.6399 - val_acc: 0.7664\n",
            "Epoch 59/100\n",
            "390/390 [==============================] - 20s 52ms/step - loss: 0.0309 - acc: 0.9890 - val_loss: 1.6138 - val_acc: 0.7545\n",
            "Epoch 60/100\n",
            "390/390 [==============================] - 20s 51ms/step - loss: 0.0208 - acc: 0.9928 - val_loss: 1.5702 - val_acc: 0.7607\n",
            "Epoch 61/100\n",
            "390/390 [==============================] - 20s 52ms/step - loss: 0.0278 - acc: 0.9906 - val_loss: 1.6971 - val_acc: 0.7492\n",
            "Epoch 62/100\n",
            "390/390 [==============================] - 20s 51ms/step - loss: 0.0231 - acc: 0.9919 - val_loss: 1.4649 - val_acc: 0.7712\n",
            "Epoch 63/100\n",
            "390/390 [==============================] - 20s 52ms/step - loss: 0.0269 - acc: 0.9908 - val_loss: 1.2692 - val_acc: 0.7783\n",
            "Epoch 64/100\n",
            "390/390 [==============================] - 20s 51ms/step - loss: 0.0269 - acc: 0.9906 - val_loss: 2.0593 - val_acc: 0.7225\n",
            "Epoch 65/100\n",
            "390/390 [==============================] - 20s 51ms/step - loss: 0.0263 - acc: 0.9916 - val_loss: 1.6335 - val_acc: 0.7518\n",
            "Epoch 66/100\n",
            "390/390 [==============================] - 20s 52ms/step - loss: 0.0253 - acc: 0.9919 - val_loss: 1.2945 - val_acc: 0.7998\n",
            "Epoch 67/100\n",
            "390/390 [==============================] - 20s 51ms/step - loss: 0.0227 - acc: 0.9923 - val_loss: 1.9968 - val_acc: 0.7206\n",
            "Epoch 68/100\n",
            "390/390 [==============================] - 20s 51ms/step - loss: 0.0210 - acc: 0.9930 - val_loss: 1.4053 - val_acc: 0.7831\n",
            "Epoch 69/100\n",
            "390/390 [==============================] - 20s 51ms/step - loss: 0.0212 - acc: 0.9926 - val_loss: 1.8385 - val_acc: 0.7468\n",
            "Epoch 70/100\n",
            "390/390 [==============================] - 20s 51ms/step - loss: 0.0308 - acc: 0.9897 - val_loss: 1.2040 - val_acc: 0.7971\n",
            "Epoch 71/100\n",
            "390/390 [==============================] - 20s 51ms/step - loss: 0.0242 - acc: 0.9918 - val_loss: 1.3843 - val_acc: 0.7789\n",
            "Epoch 72/100\n",
            "390/390 [==============================] - 20s 51ms/step - loss: 0.0207 - acc: 0.9928 - val_loss: 1.5219 - val_acc: 0.7728\n",
            "Epoch 73/100\n",
            "390/390 [==============================] - 20s 51ms/step - loss: 0.0199 - acc: 0.9930 - val_loss: 1.2642 - val_acc: 0.7818\n",
            "Epoch 74/100\n",
            "390/390 [==============================] - 20s 51ms/step - loss: 0.0284 - acc: 0.9906 - val_loss: 2.1090 - val_acc: 0.7150\n",
            "Epoch 75/100\n",
            "390/390 [==============================] - 20s 51ms/step - loss: 0.0262 - acc: 0.9904 - val_loss: 1.3073 - val_acc: 0.7908\n",
            "Epoch 76/100\n",
            "390/390 [==============================] - 20s 52ms/step - loss: 0.0160 - acc: 0.9945 - val_loss: 1.3022 - val_acc: 0.7956\n",
            "Epoch 77/100\n",
            "390/390 [==============================] - 20s 50ms/step - loss: 0.0158 - acc: 0.9944 - val_loss: 2.0655 - val_acc: 0.7369\n",
            "Epoch 78/100\n",
            "390/390 [==============================] - 20s 51ms/step - loss: 0.0252 - acc: 0.9913 - val_loss: 1.5372 - val_acc: 0.7709\n",
            "Epoch 79/100\n",
            "390/390 [==============================] - 20s 51ms/step - loss: 0.0212 - acc: 0.9927 - val_loss: 1.3454 - val_acc: 0.7897\n",
            "Epoch 80/100\n",
            "390/390 [==============================] - 20s 51ms/step - loss: 0.0208 - acc: 0.9929 - val_loss: 1.4540 - val_acc: 0.7864\n",
            "Epoch 81/100\n",
            "390/390 [==============================] - 20s 51ms/step - loss: 0.0149 - acc: 0.9948 - val_loss: 1.5582 - val_acc: 0.7687\n",
            "Epoch 82/100\n",
            "390/390 [==============================] - 20s 51ms/step - loss: 0.0192 - acc: 0.9936 - val_loss: 1.9079 - val_acc: 0.7355\n",
            "Epoch 83/100\n",
            "390/390 [==============================] - 20s 51ms/step - loss: 0.0228 - acc: 0.9917 - val_loss: 1.4288 - val_acc: 0.7959\n",
            "Epoch 84/100\n",
            "390/390 [==============================] - 20s 51ms/step - loss: 0.0194 - acc: 0.9932 - val_loss: 1.3487 - val_acc: 0.7948\n",
            "Epoch 85/100\n",
            "390/390 [==============================] - 20s 51ms/step - loss: 0.0134 - acc: 0.9953 - val_loss: 1.8021 - val_acc: 0.7551\n",
            "Epoch 86/100\n",
            "390/390 [==============================] - 20s 51ms/step - loss: 0.0171 - acc: 0.9938 - val_loss: 2.1725 - val_acc: 0.7020\n",
            "Epoch 87/100\n",
            "390/390 [==============================] - 20s 51ms/step - loss: 0.0217 - acc: 0.9925 - val_loss: 2.1708 - val_acc: 0.7228\n",
            "Epoch 88/100\n",
            "390/390 [==============================] - 20s 51ms/step - loss: 0.0200 - acc: 0.9928 - val_loss: 1.1881 - val_acc: 0.8050\n",
            "Epoch 89/100\n",
            "390/390 [==============================] - 20s 51ms/step - loss: 0.0182 - acc: 0.9940 - val_loss: 1.8872 - val_acc: 0.7464\n",
            "Epoch 90/100\n",
            "390/390 [==============================] - 20s 51ms/step - loss: 0.0193 - acc: 0.9930 - val_loss: 1.3544 - val_acc: 0.7891\n",
            "Epoch 91/100\n",
            "390/390 [==============================] - 20s 51ms/step - loss: 0.0216 - acc: 0.9927 - val_loss: 1.4464 - val_acc: 0.7840\n",
            "Epoch 92/100\n",
            "390/390 [==============================] - 20s 51ms/step - loss: 0.0140 - acc: 0.9954 - val_loss: 1.7534 - val_acc: 0.7444\n",
            "Epoch 93/100\n",
            "390/390 [==============================] - 20s 52ms/step - loss: 0.0185 - acc: 0.9935 - val_loss: 1.4872 - val_acc: 0.7776\n",
            "Epoch 94/100\n",
            "390/390 [==============================] - 20s 52ms/step - loss: 0.0186 - acc: 0.9941 - val_loss: 1.4874 - val_acc: 0.7744\n",
            "Epoch 95/100\n",
            "390/390 [==============================] - 20s 51ms/step - loss: 0.0167 - acc: 0.9943 - val_loss: 1.8205 - val_acc: 0.7469\n",
            "Epoch 96/100\n",
            "390/390 [==============================] - 20s 52ms/step - loss: 0.0170 - acc: 0.9944 - val_loss: 1.3730 - val_acc: 0.7821\n",
            "Epoch 97/100\n",
            "390/390 [==============================] - 20s 51ms/step - loss: 0.0143 - acc: 0.9950 - val_loss: 1.6048 - val_acc: 0.7700\n",
            "Epoch 98/100\n",
            "390/390 [==============================] - 20s 51ms/step - loss: 0.0148 - acc: 0.9946 - val_loss: 1.2857 - val_acc: 0.8039\n",
            "Epoch 99/100\n",
            "390/390 [==============================] - 20s 52ms/step - loss: 0.0200 - acc: 0.9929 - val_loss: 1.8051 - val_acc: 0.7520\n",
            "Epoch 100/100\n",
            "390/390 [==============================] - 20s 51ms/step - loss: 0.0177 - acc: 0.9941 - val_loss: 1.6042 - val_acc: 0.7674\n",
            "Model took 2013.63 seconds to train\n"
          ],
          "name": "stdout"
        },
        {
          "output_type": "display_data",
          "data": {
            "image/png": "[encoded data removed]",
            "text/plain": [
              "<Figure size 1080x360 with 2 Axes>"
            ]
          },
          "metadata": {
            "tags": []
          }
        },
        {
          "output_type": "stream",
          "text": [
            "Accuracy on test data is: 76.74\n"
          ],
          "name": "stdout"
        }
      ]
    }
  ]
}