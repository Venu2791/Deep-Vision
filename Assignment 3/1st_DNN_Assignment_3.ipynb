{
  "nbformat": 4,
  "nbformat_minor": 0,
  "metadata": {
    "colab": {
      "name": "1st DNN - Assignment 3.ipynb",
      "version": "0.3.2",
      "provenance": [],
      "collapsed_sections": [],
      "include_colab_link": true
    },
    "kernelspec": {
      "name": "python3",
      "display_name": "Python 3"
    },
    "accelerator": "GPU"
  },
  "cells": [
    {
      "cell_type": "markdown",
      "metadata": {
        "id": "view-in-github",
        "colab_type": "text"
      },
      "source": [
        "<a href=\"https://colab.research.google.com/github/Venu2791/Deep-Vision/blob/master/Assignment%203/1st_DNN_Assignment_3.ipynb\" target=\"_parent\"><img src=\"https://colab.research.google.com/assets/colab-badge.svg\" alt=\"Open In Colab\"/></a>"
      ]
    },
    {
      "cell_type": "markdown",
      "metadata": {
        "id": "aNyZv-Ec52ot",
        "colab_type": "text"
      },
      "source": [
        "# **Import Libraries and modules**"
      ]
    },
    {
      "cell_type": "code",
      "metadata": {
        "id": "3m3w1Cw49Zkt",
        "colab_type": "code",
        "colab": {}
      },
      "source": [
        "# https://keras.io/\n",
        "!pip install -q keras\n",
        "import keras\n",
        "!pip install -q keras-vis\n",
        "import vis"
      ],
      "execution_count": 0,
      "outputs": []
    },
    {
      "cell_type": "markdown",
      "metadata": {
        "id": "HfvTxLsNnAlW",
        "colab_type": "text"
      },
      "source": [
        "Importing Different different classes in keras for building CNN"
      ]
    },
    {
      "cell_type": "code",
      "metadata": {
        "id": "Eso6UHE080D4",
        "colab_type": "code",
        "colab": {}
      },
      "source": [
        "import numpy as np\n",
        "\n",
        "from keras.models import Sequential\n",
        "from keras.layers import Dense, Dropout, Activation, Flatten, Add\n",
        "from keras.layers import Convolution2D, MaxPooling2D\n",
        "from keras.utils import np_utils\n",
        "\n",
        "from keras.datasets import mnist"
      ],
      "execution_count": 0,
      "outputs": []
    },
    {
      "cell_type": "markdown",
      "metadata": {
        "id": "zByEi95J86RD",
        "colab_type": "text"
      },
      "source": [
        "### Load pre-shuffled MNIST data into train and test sets"
      ]
    },
    {
      "cell_type": "code",
      "metadata": {
        "id": "7eRM0QWN83PV",
        "colab_type": "code",
        "colab": {}
      },
      "source": [
        "(X_train, y_train), (X_test, y_test) = mnist.load_data()"
      ],
      "execution_count": 0,
      "outputs": []
    },
    {
      "cell_type": "markdown",
      "metadata": {
        "id": "Eckyl943nF48",
        "colab_type": "text"
      },
      "source": [
        "\n",
        "Importing matplotlib and plotting a sample image from train dataset"
      ]
    },
    {
      "cell_type": "code",
      "metadata": {
        "id": "4a4Be72j8-ZC",
        "colab_type": "code",
        "outputId": "c3b13da0-daeb-47bd-d4e0-d122e43e1a80",
        "colab": {
          "base_uri": "https://localhost:8080/",
          "height": 304
        }
      },
      "source": [
        "print (X_train.shape)\n",
        "from matplotlib import pyplot as plt\n",
        "%matplotlib inline\n",
        "plt.imshow(X_train[0])"
      ],
      "execution_count": 413,
      "outputs": [
        {
          "output_type": "stream",
          "text": [
            "(60000, 28, 28)\n"
          ],
          "name": "stdout"
        },
        {
          "output_type": "execute_result",
          "data": {
            "text/plain": [
              "<matplotlib.image.AxesImage at 0x7fc2c5f10668>"
            ]
          },
          "metadata": {
            "tags": []
          },
          "execution_count": 413
        },
        {
          "output_type": "display_data",
          "data": {
            "image/png": "[encoded data removed]",
            "text/plain": [
              "<Figure size 432x288 with 1 Axes>"
            ]
          },
          "metadata": {
            "tags": []
          }
        }
      ]
    },
    {
      "cell_type": "markdown",
      "metadata": {
        "id": "7CsWqOIRnMCR",
        "colab_type": "text"
      },
      "source": [
        "\n",
        "Changing shape of the image to keep it in gray scale.\n"
      ]
    },
    {
      "cell_type": "code",
      "metadata": {
        "id": "dkmprriw9AnZ",
        "colab_type": "code",
        "colab": {}
      },
      "source": [
        "X_train = X_train.reshape(X_train.shape[0], 28, 28,1)\n",
        "X_test = X_test.reshape(X_test.shape[0], 28, 28,1)"
      ],
      "execution_count": 0,
      "outputs": []
    },
    {
      "cell_type": "markdown",
      "metadata": {
        "id": "uK0960eDoH4g",
        "colab_type": "text"
      },
      "source": [
        "Convert the data to float type"
      ]
    },
    {
      "cell_type": "code",
      "metadata": {
        "id": "X2m4YS4E9CRh",
        "colab_type": "code",
        "colab": {}
      },
      "source": [
        "X_train = X_train.astype('float32')\n",
        "X_test = X_test.astype('float32')\n",
        "X_train /= 255\n",
        "X_test /= 255"
      ],
      "execution_count": 0,
      "outputs": []
    },
    {
      "cell_type": "code",
      "metadata": {
        "id": "0Mn0vAYD9DvB",
        "colab_type": "code",
        "outputId": "68f84a60-1bcf-42a7-e826-98f19725a27e",
        "colab": {
          "base_uri": "https://localhost:8080/",
          "height": 34
        }
      },
      "source": [
        "y_train[:10]"
      ],
      "execution_count": 416,
      "outputs": [
        {
          "output_type": "execute_result",
          "data": {
            "text/plain": [
              "array([5, 0, 4, 1, 9, 2, 1, 3, 1, 4], dtype=uint8)"
            ]
          },
          "metadata": {
            "tags": []
          },
          "execution_count": 416
        }
      ]
    },
    {
      "cell_type": "markdown",
      "metadata": {
        "id": "UCtCnSGjpG78",
        "colab_type": "text"
      },
      "source": [
        "One - hot encoding of the output class."
      ]
    },
    {
      "cell_type": "code",
      "metadata": {
        "id": "ZG8JiXR39FHC",
        "colab_type": "code",
        "colab": {}
      },
      "source": [
        "# Convert 1-dimensional class arrays to 10-dimensional class matrices\n",
        "Y_train = np_utils.to_categorical(y_train, 10)\n",
        "Y_test = np_utils.to_categorical(y_test, 10)"
      ],
      "execution_count": 0,
      "outputs": []
    },
    {
      "cell_type": "code",
      "metadata": {
        "id": "fYlFRvKS9HMB",
        "colab_type": "code",
        "outputId": "f9c2b7fb-927a-4d30-fbd0-d341bc38827d",
        "colab": {
          "base_uri": "https://localhost:8080/",
          "height": 191
        }
      },
      "source": [
        "Y_train[:10]\n"
      ],
      "execution_count": 418,
      "outputs": [
        {
          "output_type": "execute_result",
          "data": {
            "text/plain": [
              "array([[0., 0., 0., 0., 0., 1., 0., 0., 0., 0.],\n",
              "       [1., 0., 0., 0., 0., 0., 0., 0., 0., 0.],\n",
              "       [0., 0., 0., 0., 1., 0., 0., 0., 0., 0.],\n",
              "       [0., 1., 0., 0., 0., 0., 0., 0., 0., 0.],\n",
              "       [0., 0., 0., 0., 0., 0., 0., 0., 0., 1.],\n",
              "       [0., 0., 1., 0., 0., 0., 0., 0., 0., 0.],\n",
              "       [0., 1., 0., 0., 0., 0., 0., 0., 0., 0.],\n",
              "       [0., 0., 0., 1., 0., 0., 0., 0., 0., 0.],\n",
              "       [0., 1., 0., 0., 0., 0., 0., 0., 0., 0.],\n",
              "       [0., 0., 0., 0., 1., 0., 0., 0., 0., 0.]], dtype=float32)"
            ]
          },
          "metadata": {
            "tags": []
          },
          "execution_count": 418
        }
      ]
    },
    {
      "cell_type": "markdown",
      "metadata": {
        "id": "lLwQOjN6pLnu",
        "colab_type": "text"
      },
      "source": [
        "This code chunk creates sequential model by stacking convolutions to build CNN\n",
        "\n",
        "Shape of channels in each layer\n",
        "\n",
        "1. 28X28X1      | 3X3X1X32            -> 26X26X32 </br>\n",
        "2. 26X26X1      | 1X1X32X10         -> 26X26X10</br> \n",
        "3. 26X26X10   | 26X26X10X10   -> 1X1X10</br>\n",
        "\n",
        "\n"
      ]
    },
    {
      "cell_type": "code",
      "metadata": {
        "id": "osKqT73Q9JJB",
        "colab_type": "code",
        "outputId": "50e006b2-b1c5-47d0-91f9-ddc16c76ca2f",
        "colab": {
          "base_uri": "https://localhost:8080/",
          "height": 72
        }
      },
      "source": [
        "from keras.layers import Activation\n",
        "model = Sequential()\n",
        "\n",
        " \n",
        "model.add(Convolution2D(32, 3, 3, activation='relu', input_shape=(28,28,1)))\n",
        "model.add(Convolution2D(10, 1, activation='relu'))\n",
        "model.add(Convolution2D(10, 26))\n",
        "model.add(Flatten())\n",
        "model.add(Activation('softmax'))"
      ],
      "execution_count": 419,
      "outputs": [
        {
          "output_type": "stream",
          "text": [
            "/usr/local/lib/python3.6/dist-packages/ipykernel_launcher.py:5: UserWarning: Update your `Conv2D` call to the Keras 2 API: `Conv2D(32, (3, 3), activation=\"relu\", input_shape=(28, 28, 1...)`\n",
            "  \"\"\"\n"
          ],
          "name": "stderr"
        }
      ]
    },
    {
      "cell_type": "markdown",
      "metadata": {
        "id": "HEHnW04sp6FE",
        "colab_type": "text"
      },
      "source": [
        "When we see the model summary. The receptive field is 28, which is equal to  the size of the object. # of parameters is 68,000."
      ]
    },
    {
      "cell_type": "code",
      "metadata": {
        "id": "8w_1RTLw-_3b",
        "colab_type": "code",
        "outputId": "46f52707-da9d-436f-f2a6-0b827020b280",
        "colab": {
          "base_uri": "https://localhost:8080/",
          "height": 312
        }
      },
      "source": [
        "model.summary()"
      ],
      "execution_count": 420,
      "outputs": [
        {
          "output_type": "stream",
          "text": [
            "_________________________________________________________________\n",
            "Layer (type)                 Output Shape              Param #   \n",
            "=================================================================\n",
            "conv2d_619 (Conv2D)          (None, 26, 26, 32)        320       \n",
            "_________________________________________________________________\n",
            "conv2d_620 (Conv2D)          (None, 26, 26, 10)        330       \n",
            "_________________________________________________________________\n",
            "conv2d_621 (Conv2D)          (None, 1, 1, 10)          67610     \n",
            "_________________________________________________________________\n",
            "flatten_77 (Flatten)         (None, 10)                0         \n",
            "_________________________________________________________________\n",
            "activation_77 (Activation)   (None, 10)                0         \n",
            "=================================================================\n",
            "Total params: 68,260\n",
            "Trainable params: 68,260\n",
            "Non-trainable params: 0\n",
            "_________________________________________________________________\n"
          ],
          "name": "stdout"
        }
      ]
    },
    {
      "cell_type": "markdown",
      "metadata": {
        "id": "nWU_TrFJqJvB",
        "colab_type": "text"
      },
      "source": [
        "Model is complied here with adam optimizer and categorical_crossentropy is set as the loss function."
      ]
    },
    {
      "cell_type": "code",
      "metadata": {
        "id": "oP7E20F1odMS",
        "colab_type": "code",
        "colab": {}
      },
      "source": [
        "model.compile(loss='categorical_crossentropy',\n",
        "             optimizer='adam',\n",
        "             metrics=['accuracy'])"
      ],
      "execution_count": 0,
      "outputs": []
    },
    {
      "cell_type": "markdown",
      "metadata": {
        "id": "BcJo2PvAqRNd",
        "colab_type": "text"
      },
      "source": [
        "**Model Fit:**\n",
        "\n",
        "*   Model for 10 Epocs (iterations on entire dataset)\n",
        "\n",
        "*  Each Epoch runs through the entire dataset once.\n",
        "\n",
        "*  Batch size 32 refers to number of images at each step. So we have (60000/32)1875 steps in each epoch\n",
        "\n",
        "\n",
        "\n",
        "\n",
        "    \n",
        "    ."
      ]
    },
    {
      "cell_type": "code",
      "metadata": {
        "id": "hXVNqVPZoeBi",
        "colab_type": "code",
        "colab": {
          "base_uri": "https://localhost:8080/",
          "height": 416
        },
        "outputId": "e56752da-7501-4d54-b396-0763671c08be"
      },
      "source": [
        "model.fit(X_train, Y_train, batch_size=32, nb_epoch=10, verbose=1)"
      ],
      "execution_count": 422,
      "outputs": [
        {
          "output_type": "stream",
          "text": [
            "/usr/local/lib/python3.6/dist-packages/ipykernel_launcher.py:1: UserWarning: The `nb_epoch` argument in `fit` has been renamed `epochs`.\n",
            "  \"\"\"Entry point for launching an IPython kernel.\n"
          ],
          "name": "stderr"
        },
        {
          "output_type": "stream",
          "text": [
            "Epoch 1/10\n",
            "60000/60000 [==============================] - 25s 423us/step - loss: 0.2063 - acc: 0.9411\n",
            "Epoch 2/10\n",
            "60000/60000 [==============================] - 18s 295us/step - loss: 0.0735 - acc: 0.9779\n",
            "Epoch 3/10\n",
            "60000/60000 [==============================] - 18s 296us/step - loss: 0.0540 - acc: 0.9831\n",
            "Epoch 4/10\n",
            "60000/60000 [==============================] - 18s 293us/step - loss: 0.0416 - acc: 0.9868\n",
            "Epoch 5/10\n",
            "60000/60000 [==============================] - 18s 295us/step - loss: 0.0329 - acc: 0.9896\n",
            "Epoch 6/10\n",
            "60000/60000 [==============================] - 18s 294us/step - loss: 0.0263 - acc: 0.9917\n",
            "Epoch 7/10\n",
            "60000/60000 [==============================] - 18s 295us/step - loss: 0.0210 - acc: 0.9931\n",
            "Epoch 8/10\n",
            "60000/60000 [==============================] - 18s 295us/step - loss: 0.0166 - acc: 0.9944\n",
            "Epoch 9/10\n",
            "60000/60000 [==============================] - 18s 295us/step - loss: 0.0126 - acc: 0.9961\n",
            "Epoch 10/10\n",
            "60000/60000 [==============================] - 18s 296us/step - loss: 0.0112 - acc: 0.9965\n"
          ],
          "name": "stdout"
        },
        {
          "output_type": "execute_result",
          "data": {
            "text/plain": [
              "<keras.callbacks.History at 0x7fc2c6862080>"
            ]
          },
          "metadata": {
            "tags": []
          },
          "execution_count": 422
        }
      ]
    },
    {
      "cell_type": "markdown",
      "metadata": {
        "id": "V9VVMWAMsdoM",
        "colab_type": "text"
      },
      "source": [
        "\n",
        "**model.evaluate()**\n",
        "\n",
        "  Returns loss value and metrics of test data\n",
        "\n"
      ]
    },
    {
      "cell_type": "code",
      "metadata": {
        "id": "HVDiWZvcoehk",
        "colab_type": "code",
        "colab": {}
      },
      "source": [
        "score = model.evaluate(X_test, Y_test, verbose=0)"
      ],
      "execution_count": 0,
      "outputs": []
    },
    {
      "cell_type": "code",
      "metadata": {
        "id": "5Z1llEqRofAD",
        "colab_type": "code",
        "colab": {
          "base_uri": "https://localhost:8080/",
          "height": 34
        },
        "outputId": "7d609929-2ac0-4d52-901b-6461257fa012"
      },
      "source": [
        "print(score)"
      ],
      "execution_count": 427,
      "outputs": [
        {
          "output_type": "stream",
          "text": [
            "[0.08888979996535855, 0.9795]\n"
          ],
          "name": "stdout"
        }
      ]
    },
    {
      "cell_type": "code",
      "metadata": {
        "id": "fRXsz9nMoQSj",
        "colab_type": "code",
        "colab": {}
      },
      "source": [
        "y_pred = model.predict(X_test)"
      ],
      "execution_count": 0,
      "outputs": []
    },
    {
      "cell_type": "code",
      "metadata": {
        "id": "06FqPQuFowzv",
        "colab_type": "code",
        "colab": {
          "base_uri": "https://localhost:8080/",
          "height": 503
        },
        "outputId": "d32605bf-5712-4c51-ccf3-bbe754bcae7c"
      },
      "source": [
        "print(y_pred[:9])\n",
        "print(y_test[:9])"
      ],
      "execution_count": 429,
      "outputs": [
        {
          "output_type": "stream",
          "text": [
            "[[7.51665404e-21 6.73802732e-17 4.26085409e-13 1.58752234e-09\n",
            "  1.84353171e-22 2.41751210e-17 1.86718149e-33 1.00000000e+00\n",
            "  9.06352833e-14 3.71310448e-12]\n",
            " [1.56026372e-11 1.93214542e-10 1.00000000e+00 3.60156978e-12\n",
            "  6.54381767e-23 8.14828821e-17 6.11056428e-10 2.89486191e-25\n",
            "  1.08061875e-11 2.60514738e-22]\n",
            " [6.91989888e-09 9.99999404e-01 7.01313922e-08 7.11945433e-11\n",
            "  2.65217864e-07 4.26999235e-11 3.72404121e-11 1.68870443e-07\n",
            "  3.76965517e-08 1.04219335e-12]\n",
            " [1.00000000e+00 2.68207110e-19 4.91745290e-11 1.70215241e-17\n",
            "  5.11562571e-18 2.04690234e-15 3.82168075e-08 4.99245090e-12\n",
            "  5.89624920e-12 8.33205900e-13]\n",
            " [6.78130078e-12 4.26050896e-11 4.76973929e-12 1.03799868e-11\n",
            "  1.00000000e+00 1.76993186e-13 2.87441213e-13 2.76957977e-08\n",
            "  3.78060555e-10 8.32321234e-09]\n",
            " [4.24455089e-12 9.99993920e-01 2.01011305e-10 2.52608134e-12\n",
            "  1.44932557e-07 2.05729446e-14 4.13235798e-14 5.98806082e-06\n",
            "  3.29974483e-08 3.46219879e-13]\n",
            " [2.16272743e-22 2.91104030e-10 1.18903262e-10 1.81868565e-11\n",
            "  9.99889255e-01 2.46120013e-09 6.97712371e-18 1.40072828e-07\n",
            "  1.10389439e-04 1.81612066e-07]\n",
            " [1.22754663e-21 4.67898985e-07 1.72512907e-10 8.13181522e-09\n",
            "  1.50645341e-04 1.04725771e-07 9.61237742e-19 1.38174541e-10\n",
            "  1.49911853e-06 9.99847174e-01]\n",
            " [3.03626679e-09 6.57032226e-21 8.81173118e-15 6.20616351e-13\n",
            "  5.94947377e-13 9.55511987e-01 4.44817021e-02 1.49530225e-18\n",
            "  6.25512985e-06 2.17263655e-11]]\n",
            "[7 2 1 0 4 1 4 9 5]\n"
          ],
          "name": "stdout"
        }
      ]
    },
    {
      "cell_type": "markdown",
      "metadata": {
        "id": "_-sse120suX5",
        "colab_type": "text"
      },
      "source": [
        "***Problem Statement:***\n",
        "\n",
        "The task is to get 99.4% validation accuracy in the model.\n",
        "\n",
        "Note: The receptive field  should be 24 and Number of parameters should be less than 20000."
      ]
    },
    {
      "cell_type": "markdown",
      "metadata": {
        "id": "xHVCOvvvtHvd",
        "colab_type": "text"
      },
      "source": [
        "Shape of channels in each layer\n",
        "\n",
        "1.  28X28X1      | 3X3X1X10             -> 26X26X10 </br>\n",
        "2.  26X26X1      | 3X3X10X16          -> 24X24X16</br> \n",
        "3.  24X24X10   | 3X3X16X 24         -> 22X22X24</br>\n",
        "4.  22X22X24 -maxpooling             -> 11X11X24</br>\n",
        "5.  11X11X24   | 1X1X16X10          -> 11X11X10</br>\n",
        "6.  11X11X10   | 3X3X10X10          -> 9X9X10</br>\n",
        "7.  9X9X10        | 3X3X10X16           -> 7X7X16</br>\n",
        "8.  7X7X10        | 3X3X16X16           -> 5X5X16</br>\n",
        "9.  5X5X10        | 3X3X16X32           -> 3X3X32</br>\n",
        "10.3X3X32        | 3X3X32X10           -> 1X1X10</br>\n"
      ]
    },
    {
      "cell_type": "code",
      "metadata": {
        "id": "c4XhRkwM8dsF",
        "colab_type": "code",
        "colab": {
          "base_uri": "https://localhost:8080/",
          "height": 315
        },
        "outputId": "4d20ccf9-fde7-42fb-ced1-d956d7337d49"
      },
      "source": [
        "model = Sequential()\n",
        "\n",
        " \n",
        "model.add(Convolution2D(10, 3, 3, activation='relu', input_shape=(28,28,1)))\n",
        "model.add(Convolution2D(16, 3,3, activation='relu'))\n",
        "model.add(Convolution2D(24, 3,3, activation='relu'))\n",
        "model.add(MaxPooling2D(pool_size=(2, 2)))\n",
        "model.add(Convolution2D(10, 1, activation='relu'))\n",
        "model.add(Convolution2D(16, 3,3, activation='relu'))\n",
        "model.add(Convolution2D(16, 3,3, activation='relu'))\n",
        "model.add(Convolution2D(24, 3,3,activation='relu'))\n",
        "model.add(Convolution2D(24, 3,3,activation='relu'))\n",
        "model.add(Convolution2D(10, 3,3))\n",
        "model.add(Flatten())\n",
        "model.add(Activation('softmax'))"
      ],
      "execution_count": 552,
      "outputs": [
        {
          "output_type": "stream",
          "text": [
            "/usr/local/lib/python3.6/dist-packages/ipykernel_launcher.py:4: UserWarning: Update your `Conv2D` call to the Keras 2 API: `Conv2D(10, (3, 3), activation=\"relu\", input_shape=(28, 28, 1...)`\n",
            "  after removing the cwd from sys.path.\n",
            "/usr/local/lib/python3.6/dist-packages/ipykernel_launcher.py:5: UserWarning: Update your `Conv2D` call to the Keras 2 API: `Conv2D(16, (3, 3), activation=\"relu\")`\n",
            "  \"\"\"\n",
            "/usr/local/lib/python3.6/dist-packages/ipykernel_launcher.py:6: UserWarning: Update your `Conv2D` call to the Keras 2 API: `Conv2D(24, (3, 3), activation=\"relu\")`\n",
            "  \n",
            "/usr/local/lib/python3.6/dist-packages/ipykernel_launcher.py:9: UserWarning: Update your `Conv2D` call to the Keras 2 API: `Conv2D(16, (3, 3), activation=\"relu\")`\n",
            "  if __name__ == '__main__':\n",
            "/usr/local/lib/python3.6/dist-packages/ipykernel_launcher.py:10: UserWarning: Update your `Conv2D` call to the Keras 2 API: `Conv2D(16, (3, 3), activation=\"relu\")`\n",
            "  # Remove the CWD from sys.path while we load stuff.\n",
            "/usr/local/lib/python3.6/dist-packages/ipykernel_launcher.py:11: UserWarning: Update your `Conv2D` call to the Keras 2 API: `Conv2D(24, (3, 3), activation=\"relu\")`\n",
            "  # This is added back by InteractiveShellApp.init_path()\n",
            "/usr/local/lib/python3.6/dist-packages/ipykernel_launcher.py:12: UserWarning: Update your `Conv2D` call to the Keras 2 API: `Conv2D(24, (3, 3), activation=\"relu\")`\n",
            "  if sys.path[0] == '':\n",
            "/usr/local/lib/python3.6/dist-packages/ipykernel_launcher.py:13: UserWarning: Update your `Conv2D` call to the Keras 2 API: `Conv2D(10, (3, 3))`\n",
            "  del sys.path[0]\n"
          ],
          "name": "stderr"
        }
      ]
    },
    {
      "cell_type": "code",
      "metadata": {
        "id": "TzdAYg1k9K7Z",
        "colab_type": "code",
        "outputId": "c0b15762-425c-49b0-b17e-5404233b26a1",
        "colab": {
          "base_uri": "https://localhost:8080/",
          "height": 555
        }
      },
      "source": [
        "model.summary()"
      ],
      "execution_count": 553,
      "outputs": [
        {
          "output_type": "stream",
          "text": [
            "_________________________________________________________________\n",
            "Layer (type)                 Output Shape              Param #   \n",
            "=================================================================\n",
            "conv2d_795 (Conv2D)          (None, 26, 26, 10)        100       \n",
            "_________________________________________________________________\n",
            "conv2d_796 (Conv2D)          (None, 24, 24, 16)        1456      \n",
            "_________________________________________________________________\n",
            "conv2d_797 (Conv2D)          (None, 22, 22, 24)        3480      \n",
            "_________________________________________________________________\n",
            "max_pooling2d_115 (MaxPoolin (None, 11, 11, 24)        0         \n",
            "_________________________________________________________________\n",
            "conv2d_798 (Conv2D)          (None, 11, 11, 10)        250       \n",
            "_________________________________________________________________\n",
            "conv2d_799 (Conv2D)          (None, 9, 9, 16)          1456      \n",
            "_________________________________________________________________\n",
            "conv2d_800 (Conv2D)          (None, 7, 7, 16)          2320      \n",
            "_________________________________________________________________\n",
            "conv2d_801 (Conv2D)          (None, 5, 5, 24)          3480      \n",
            "_________________________________________________________________\n",
            "conv2d_802 (Conv2D)          (None, 3, 3, 24)          5208      \n",
            "_________________________________________________________________\n",
            "conv2d_803 (Conv2D)          (None, 1, 1, 10)          2170      \n",
            "_________________________________________________________________\n",
            "flatten_98 (Flatten)         (None, 10)                0         \n",
            "_________________________________________________________________\n",
            "activation_98 (Activation)   (None, 10)                0         \n",
            "=================================================================\n",
            "Total params: 19,920\n",
            "Trainable params: 19,920\n",
            "Non-trainable params: 0\n",
            "_________________________________________________________________\n"
          ],
          "name": "stdout"
        }
      ]
    },
    {
      "cell_type": "code",
      "metadata": {
        "id": "SWwW-FfBkK6o",
        "colab_type": "code",
        "colab": {}
      },
      "source": [
        "# Convert 1-dimensional class arrays to 10-dimensional class matrices\n",
        "Y_train = np_utils.to_categorical(y_train, 10)\n",
        "Y_test = np_utils.to_categorical(y_test, 10)"
      ],
      "execution_count": 0,
      "outputs": []
    },
    {
      "cell_type": "code",
      "metadata": {
        "id": "l4AXjloBzazy",
        "colab_type": "code",
        "colab": {}
      },
      "source": [
        "optimizer = optimizer=keras.optimizers.adam(lr=.001)\n",
        "\n",
        "model.compile(loss='categorical_crossentropy',\n",
        "             optimizer=optimizer,\n",
        "             metrics=['accuracy'])"
      ],
      "execution_count": 0,
      "outputs": []
    },
    {
      "cell_type": "code",
      "metadata": {
        "id": "4xWoKhPY9Of5",
        "colab_type": "code",
        "outputId": "34eed0f0-f60a-4ce5-9d34-e667fcaa2c7b",
        "colab": {
          "base_uri": "https://localhost:8080/",
          "height": 416
        }
      },
      "source": [
        "model.fit(X_train, Y_train,  batch_size=32, nb_epoch=10, verbose=1)"
      ],
      "execution_count": 556,
      "outputs": [
        {
          "output_type": "stream",
          "text": [
            "/usr/local/lib/python3.6/dist-packages/ipykernel_launcher.py:1: UserWarning: The `nb_epoch` argument in `fit` has been renamed `epochs`.\n",
            "  \"\"\"Entry point for launching an IPython kernel.\n"
          ],
          "name": "stderr"
        },
        {
          "output_type": "stream",
          "text": [
            "Epoch 1/10\n",
            "60000/60000 [==============================] - 39s 658us/step - loss: 0.2109 - acc: 0.9344\n",
            "Epoch 2/10\n",
            "60000/60000 [==============================] - 29s 479us/step - loss: 0.0718 - acc: 0.9779\n",
            "Epoch 3/10\n",
            "60000/60000 [==============================] - 29s 477us/step - loss: 0.0533 - acc: 0.9833\n",
            "Epoch 4/10\n",
            "60000/60000 [==============================] - 28s 474us/step - loss: 0.0432 - acc: 0.9864\n",
            "Epoch 5/10\n",
            "60000/60000 [==============================] - 28s 475us/step - loss: 0.0376 - acc: 0.9884\n",
            "Epoch 6/10\n",
            "60000/60000 [==============================] - 29s 475us/step - loss: 0.0326 - acc: 0.9893\n",
            "Epoch 7/10\n",
            "60000/60000 [==============================] - 28s 474us/step - loss: 0.0286 - acc: 0.9908\n",
            "Epoch 8/10\n",
            "60000/60000 [==============================] - 28s 475us/step - loss: 0.0267 - acc: 0.9912\n",
            "Epoch 9/10\n",
            "60000/60000 [==============================] - 29s 476us/step - loss: 0.0231 - acc: 0.9922\n",
            "Epoch 10/10\n",
            "60000/60000 [==============================] - 28s 473us/step - loss: 0.0198 - acc: 0.9938\n"
          ],
          "name": "stdout"
        },
        {
          "output_type": "execute_result",
          "data": {
            "text/plain": [
              "<keras.callbacks.History at 0x7fc2bc465be0>"
            ]
          },
          "metadata": {
            "tags": []
          },
          "execution_count": 556
        }
      ]
    },
    {
      "cell_type": "code",
      "metadata": {
        "id": "AtsH-lLk-eLb",
        "colab_type": "code",
        "colab": {}
      },
      "source": [
        "score = model.evaluate(X_test, Y_test, verbose=0)"
      ],
      "execution_count": 0,
      "outputs": []
    },
    {
      "cell_type": "code",
      "metadata": {
        "id": "mkX8JMv79q9r",
        "colab_type": "code",
        "outputId": "162e88cb-54f1-49d7-f5b9-f1699cf910c9",
        "colab": {
          "base_uri": "https://localhost:8080/",
          "height": 34
        }
      },
      "source": [
        "print(score)"
      ],
      "execution_count": 562,
      "outputs": [
        {
          "output_type": "stream",
          "text": [
            "[0.05953878955056425, 0.9821]\n"
          ],
          "name": "stdout"
        }
      ]
    },
    {
      "cell_type": "code",
      "metadata": {
        "id": "OCWoJkwE9suh",
        "colab_type": "code",
        "colab": {}
      },
      "source": [
        "y_pred = model.predict(X_test)"
      ],
      "execution_count": 0,
      "outputs": []
    },
    {
      "cell_type": "code",
      "metadata": {
        "id": "Ym7iCFBm9uBs",
        "colab_type": "code",
        "outputId": "196dc303-dca3-46b0-8ff8-d8fb2dde0e38",
        "colab": {
          "base_uri": "https://localhost:8080/",
          "height": 503
        }
      },
      "source": [
        "print(y_pred[:9])\n",
        "print(y_test[:9])"
      ],
      "execution_count": 560,
      "outputs": [
        {
          "output_type": "stream",
          "text": [
            "[[3.50792630e-14 1.35494740e-12 2.57483479e-09 2.29541985e-08\n",
            "  6.59726668e-13 1.25014399e-09 1.17477923e-22 9.99939561e-01\n",
            "  2.31917969e-08 6.03555272e-05]\n",
            " [3.68314788e-11 1.64219682e-06 9.99988079e-01 6.26839039e-07\n",
            "  1.62978540e-06 2.67095165e-11 8.01490478e-06 2.08376392e-08\n",
            "  3.83589896e-11 1.22683276e-13]\n",
            " [4.26221369e-09 9.99998569e-01 4.80678537e-08 5.90430771e-09\n",
            "  9.19939737e-07 2.50275804e-07 1.37734304e-08 2.74224874e-07\n",
            "  1.79745996e-08 3.89438881e-09]\n",
            " [9.51121449e-01 7.73511880e-11 3.03493903e-06 3.39342546e-06\n",
            "  3.36317129e-07 1.64067023e-03 4.69961986e-02 1.13621668e-09\n",
            "  1.29840802e-04 1.04929619e-04]\n",
            " [3.03490848e-12 3.79043570e-08 4.43721532e-10 1.06059428e-09\n",
            "  9.99896884e-01 4.18317070e-09 6.31216892e-08 9.02361876e-07\n",
            "  1.60564059e-06 1.00586476e-04]\n",
            " [2.26967445e-09 9.99997973e-01 1.67359531e-08 2.55376720e-09\n",
            "  1.61676064e-06 4.74465978e-08 3.01365666e-09 4.18700608e-07\n",
            "  1.32162192e-08 3.10411785e-09]\n",
            " [6.48783327e-13 2.89138370e-06 5.03459660e-07 3.47976538e-07\n",
            "  9.99627352e-01 1.49463297e-09 2.01588095e-12 3.51457449e-04\n",
            "  3.09392749e-06 1.44322321e-05]\n",
            " [5.57784152e-10 1.13673957e-11 2.15152562e-09 6.34596873e-08\n",
            "  3.53574751e-06 9.54809366e-06 6.53963897e-11 2.35887687e-09\n",
            "  2.37831364e-06 9.99984503e-01]\n",
            " [2.67454271e-11 1.78396110e-16 1.30565887e-13 2.86653459e-13\n",
            "  9.76803093e-17 9.95188236e-01 4.81162826e-03 3.51920127e-23\n",
            "  8.67416361e-08 1.32490308e-09]]\n",
            "[7 2 1 0 4 1 4 9 5]\n"
          ],
          "name": "stdout"
        }
      ]
    },
    {
      "cell_type": "markdown",
      "metadata": {
        "id": "H65_VfDdBeBa",
        "colab_type": "text"
      },
      "source": [
        "Kernel Extract (Feature Maps):\n",
        "\n",
        "The below code is to visualize the extract of the kernel of each layer from the convolution layer. With this we could find when the edges are formed so that max pooling could be exactly applied at that point. "
      ]
    },
    {
      "cell_type": "code",
      "metadata": {
        "id": "2GY4Upv4dsUR",
        "colab_type": "code",
        "outputId": "36af41fc-5577-4463-d0b6-413f3a62f56b",
        "colab": {
          "base_uri": "https://localhost:8080/",
          "height": 874
        }
      },
      "source": [
        "layer_dict = dict([(layer.name, layer) for layer in model.layers])\n",
        "print(layer_dict)\n",
        "import numpy as np\n",
        "from matplotlib import pyplot as plt\n",
        "from keras import backend as K\n",
        "\n",
        "layer_dict = dict([(layer.name, layer) for layer in model.layers])\n",
        "%matplotlib inline\n",
        "# util function to convert a tensor into a valid image\n",
        "def deprocess_image(x):\n",
        "    # normalize tensor: center on 0., ensure std is 0.1\n",
        "    x -= x.mean()\n",
        "    x /= (x.std() + 1e-5)\n",
        "    x *= 0.1\n",
        "\n",
        "    # clip to [0, 1]\n",
        "    x += 0.5\n",
        "    x = np.clip(x, 0, 1)\n",
        "\n",
        "    # convert to RGB array\n",
        "    x *= 255\n",
        "    #x = x.transpose((1, 2, 0))\n",
        "    x = np.clip(x, 0, 255).astype('uint8')\n",
        "    return x\n",
        "\n",
        "def vis_img_in_filter(img = np.array(X_train[2]).reshape((1, 28, 28, 1)).astype(np.float64), \n",
        "                      layer_name = 'conv2d_797'):\n",
        "  \n",
        "    layer_output = layer_dict[layer_name].output\n",
        "    img_ascs = list()\n",
        "    for filter_index in range(layer_output.shape[3]):\n",
        "        # build a loss function that maximizes the activation\n",
        "        # of the nth filter of the layer considered\n",
        "        loss = K.mean(layer_output[:, :, :, filter_index])\n",
        "\n",
        "        # compute the gradient of the input picture wrt this loss\n",
        "        grads = K.gradients(loss, model.input)[0]\n",
        "\n",
        "        # normalization trick: we normalize the gradient\n",
        "        grads /= (K.sqrt(K.mean(K.square(grads))) + 1e-5)\n",
        "\n",
        "        # this function returns the loss and grads given the input picture\n",
        "        iterate = K.function([model.input], [loss, grads])\n",
        "\n",
        "        # step size for gradient ascent\n",
        "        step = 5.\n",
        "\n",
        "        img_asc = np.array(img)\n",
        "        # run gradient ascent for 20 steps\n",
        "        for i in range(20):\n",
        "            loss_value, grads_value = iterate([img_asc])\n",
        "            img_asc += grads_value * step\n",
        "\n",
        "        img_asc = img_asc[0]\n",
        "        img_ascs.append(deprocess_image(img_asc).reshape((28, 28)))\n",
        "        \n",
        "    if layer_output.shape[3] >= 35:\n",
        "        plot_x, plot_y = 6, 6\n",
        "    elif layer_output.shape[3] >= 23:\n",
        "        plot_x, plot_y = 4, 6\n",
        "    elif layer_output.shape[3] >= 11:\n",
        "        plot_x, plot_y = 2, 6\n",
        "    else:\n",
        "        plot_x, plot_y = 1, 2\n",
        "    fig, ax = plt.subplots(plot_x, plot_y, figsize = (12, 12))\n",
        "    ax[0, 0].imshow(img.reshape((28, 28)), cmap = 'gray')\n",
        "    ax[0, 0].set_title('Input image')\n",
        "    fig.suptitle('Input image and %s filters' % (layer_name,))\n",
        "    fig.tight_layout(pad = 0.3, rect = [0, 0, 0.9, 0.9])\n",
        "    for (x, y) in [(i, j) for i in range(plot_x) for j in range(plot_y)]:\n",
        "        if x == 0 and y == 0:\n",
        "            continue\n",
        "        ax[x, y].imshow(img_ascs[x * plot_y + y - 1], cmap = 'gray')\n",
        "        ax[x, y].set_title('filter %d' % (x * plot_y + y - 1))\n",
        "\n",
        "vis_img_in_filter()"
      ],
      "execution_count": 561,
      "outputs": [
        {
          "output_type": "stream",
          "text": [
            "{'conv2d_795': <keras.layers.convolutional.Conv2D object at 0x7fc2bc30ea90>, 'conv2d_796': <keras.layers.convolutional.Conv2D object at 0x7fc2bc30eb00>, 'conv2d_797': <keras.layers.convolutional.Conv2D object at 0x7fc2bc30ed30>, 'max_pooling2d_115': <keras.layers.pooling.MaxPooling2D object at 0x7fc2bc337e80>, 'conv2d_798': <keras.layers.convolutional.Conv2D object at 0x7fc2bc30ee48>, 'conv2d_799': <keras.layers.convolutional.Conv2D object at 0x7fc2bc337ac8>, 'conv2d_800': <keras.layers.convolutional.Conv2D object at 0x7fc2bc2e6550>, 'conv2d_801': <keras.layers.convolutional.Conv2D object at 0x7fc2bc2fb128>, 'conv2d_802': <keras.layers.convolutional.Conv2D object at 0x7fc2bc2fb7b8>, 'conv2d_803': <keras.layers.convolutional.Conv2D object at 0x7fc2bc2ab320>, 'flatten_98': <keras.layers.core.Flatten object at 0x7fc2bc254780>, 'activation_98': <keras.layers.core.Activation object at 0x7fc2bc254da0>}\n"
          ],
          "name": "stdout"
        },
        {
          "output_type": "display_data",
          "data": {
            "image/png": "[encoded data removed]",
            "text/plain": [
              "<Figure size 864x864 with 24 Axes>"
            ]
          },
          "metadata": {
            "tags": []
          }
        }
      ]
    }
  ]
}