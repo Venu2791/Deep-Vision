{
  "nbformat": 4,
  "nbformat_minor": 0,
  "metadata": {
    "colab": {
      "name": "Assignment 5.ipynb",
      "version": "0.3.2",
      "provenance": [],
      "collapsed_sections": [],
      "include_colab_link": true
    },
    "kernelspec": {
      "name": "python3",
      "display_name": "Python 3"
    },
    "accelerator": "GPU"
  },
  "cells": [
    {
      "cell_type": "markdown",
      "metadata": {
        "id": "view-in-github",
        "colab_type": "text"
      },
      "source": [
        "<a href=\"https://colab.research.google.com/github/Venu2791/Deep-Vision/blob/master/Assignment_5/Assignment_5.ipynb\" target=\"_parent\"><img src=\"https://colab.research.google.com/assets/colab-badge.svg\" alt=\"Open In Colab\"/></a>"
      ]
    },
    {
      "cell_type": "markdown",
      "metadata": {
        "id": "PpaWKBSClzwa",
        "colab_type": "text"
      },
      "source": [
        "Importing classes from keras for building CNN"
      ]
    },
    {
      "cell_type": "code",
      "metadata": {
        "id": "0SJyVpgSxHt4",
        "colab_type": "code",
        "colab": {}
      },
      "source": [
        "import numpy as np\n",
        "\n",
        "from keras.models import Sequential\n",
        "from keras.layers import Dense, Dropout, Activation, Flatten, Add, BatchNormalization\n",
        "from keras.layers import Convolution2D, MaxPooling2D\n",
        "from keras.utils import np_utils\n",
        "\n",
        "from keras.datasets import mnist"
      ],
      "execution_count": 0,
      "outputs": []
    },
    {
      "cell_type": "code",
      "metadata": {
        "id": "YlEUplvoxKAT",
        "colab_type": "code",
        "colab": {}
      },
      "source": [
        "(X_train, y_train), (X_test, y_test) = mnist.load_data()\n"
      ],
      "execution_count": 0,
      "outputs": []
    },
    {
      "cell_type": "markdown",
      "metadata": {
        "id": "4mDcEGoJmxkG",
        "colab_type": "text"
      },
      "source": [
        "Plotting a sample image from train dataset"
      ]
    },
    {
      "cell_type": "code",
      "metadata": {
        "id": "I6Y9Va-xxMXG",
        "colab_type": "code",
        "outputId": "18af3099-37c5-440a-ecf8-71effe9d573f",
        "colab": {
          "base_uri": "https://localhost:8080/",
          "height": 304
        }
      },
      "source": [
        "print (X_train.shape)\n",
        "from matplotlib import pyplot as plt\n",
        "%matplotlib inline\n",
        "plt.imshow(X_train[1])"
      ],
      "execution_count": 0,
      "outputs": [
        {
          "output_type": "stream",
          "text": [
            "(60000, 28, 28)\n"
          ],
          "name": "stdout"
        },
        {
          "output_type": "execute_result",
          "data": {
            "text/plain": [
              "<matplotlib.image.AxesImage at 0x7f5d1d980a58>"
            ]
          },
          "metadata": {
            "tags": []
          },
          "execution_count": 167
        },
        {
          "output_type": "display_data",
          "data": {
            "image/png": "[encoded data removed]",
            "text/plain": [
              "<Figure size 432x288 with 1 Axes>"
            ]
          },
          "metadata": {
            "tags": []
          }
        }
      ]
    },
    {
      "cell_type": "code",
      "metadata": {
        "id": "lxDZxPhhxOgO",
        "colab_type": "code",
        "colab": {}
      },
      "source": [
        "X_train = X_train.reshape(X_train.shape[0], 28, 28,1)\n",
        "X_test = X_test.reshape(X_test.shape[0], 28, 28,1)"
      ],
      "execution_count": 0,
      "outputs": []
    },
    {
      "cell_type": "code",
      "metadata": {
        "id": "3HzMqbTnxQQW",
        "colab_type": "code",
        "colab": {}
      },
      "source": [
        "X_train = X_train.astype('float32')\n",
        "X_test = X_test.astype('float32')\n",
        "X_train /= 255\n",
        "X_test /= 255"
      ],
      "execution_count": 0,
      "outputs": []
    },
    {
      "cell_type": "code",
      "metadata": {
        "id": "7LdYiW6ixR9e",
        "colab_type": "code",
        "colab": {}
      },
      "source": [
        "y_train[:10]\n",
        "Y_train = np_utils.to_categorical(y_train, 10)\n",
        "Y_test = np_utils.to_categorical(y_test, 10)"
      ],
      "execution_count": 0,
      "outputs": []
    },
    {
      "cell_type": "code",
      "metadata": {
        "id": "rFR0F9j0xVp2",
        "colab_type": "code",
        "outputId": "9c333ae0-6201-477e-eb5e-5516aa0f8ddb",
        "colab": {
          "base_uri": "https://localhost:8080/",
          "height": 194
        }
      },
      "source": [
        "Y_train[:10]"
      ],
      "execution_count": 0,
      "outputs": [
        {
          "output_type": "execute_result",
          "data": {
            "text/plain": [
              "array([[0., 0., 0., 0., 0., 1., 0., 0., 0., 0.],\n",
              "       [1., 0., 0., 0., 0., 0., 0., 0., 0., 0.],\n",
              "       [0., 0., 0., 0., 1., 0., 0., 0., 0., 0.],\n",
              "       [0., 1., 0., 0., 0., 0., 0., 0., 0., 0.],\n",
              "       [0., 0., 0., 0., 0., 0., 0., 0., 0., 1.],\n",
              "       [0., 0., 1., 0., 0., 0., 0., 0., 0., 0.],\n",
              "       [0., 1., 0., 0., 0., 0., 0., 0., 0., 0.],\n",
              "       [0., 0., 0., 1., 0., 0., 0., 0., 0., 0.],\n",
              "       [0., 1., 0., 0., 0., 0., 0., 0., 0., 0.],\n",
              "       [0., 0., 0., 0., 1., 0., 0., 0., 0., 0.]], dtype=float32)"
            ]
          },
          "metadata": {
            "tags": []
          },
          "execution_count": 171
        }
      ]
    },
    {
      "cell_type": "markdown",
      "metadata": {
        "id": "Zj_eC-PGnHEu",
        "colab_type": "text"
      },
      "source": [
        "**Shape of channels in each layer**\n",
        "\n",
        "1.  28X28X1      | 3X3X1X16             -> 26X26X16 </br>\n",
        "2.  26X26X16     | 3X3X16X32            -> 24X24X32</br> \n",
        "3.  24X24X32     | 1X1X32X10            -> 24X24X10   </br>\n",
        "4.  24X24X10   <---->maxpooling<---->   -> 12X12X10</br>\n",
        "5.  12X12X10     | 3X3X10X16            -> 10X10X16</br>\n",
        "6.  10X10X10     | 3X3X16X16            -> 8X8X16</br>\n",
        "7.  8X8X16       | 3X3X16X16            -> 6X6X16</br>\n",
        "8.  6X6X16       | 3X3X16X16            -> 4X4X16</br>\n",
        "9.  4X4X16       | 4X4X16X10            -> 1X1X10</br>\n"
      ]
    },
    {
      "cell_type": "code",
      "metadata": {
        "id": "mDpXf4YQxXRm",
        "colab_type": "code",
        "outputId": "d78f0d3e-e699-48fc-979f-65d626eddb52",
        "colab": {
          "base_uri": "https://localhost:8080/",
          "height": 1000
        }
      },
      "source": [
        "from keras.layers import Activation\n",
        "model = Sequential()\n",
        " \n",
        "model.add(Convolution2D(16, 3, 3, activation='relu', input_shape=(28,28,1))) #26\n",
        "model.add(BatchNormalization())\n",
        "model.add(Dropout(0.1))\n",
        "\n",
        "model.add(Convolution2D(32, 3, 3, activation='relu')) #24\n",
        "model.add(BatchNormalization())\n",
        "model.add(Dropout(0.1))\n",
        "\n",
        "model.add(Convolution2D(10, 1, 1, activation='relu')) #22\n",
        "\n",
        "model.add(MaxPooling2D(pool_size=(2, 2)))#11\n",
        "\n",
        "model.add(Convolution2D(16, 3, 3, activation='relu'))#9\n",
        "model.add(BatchNormalization())\n",
        "model.add(Dropout(0.1))\n",
        "\n",
        "\n",
        "model.add(Convolution2D(16, 3, 3, activation='relu'))#7\n",
        "model.add(BatchNormalization())\n",
        "model.add(Dropout(0.1))\n",
        "\n",
        "\n",
        "model.add(Convolution2D(16, 3, 3, activation='relu'))#5\n",
        "model.add(BatchNormalization())\n",
        "model.add(Dropout(0.1))\n",
        "\n",
        "\n",
        "model.add(Convolution2D(16, 3, 3, activation='relu'))#3\n",
        "model.add(BatchNormalization())\n",
        "model.add(Dropout(0.1))\n",
        "\n",
        "\n",
        "model.add(Convolution2D(10, 4, 4))\n",
        "model.add(BatchNormalization())\n",
        "model.add(Dropout(0.1))\n",
        "\n",
        "\n",
        "model.add(Flatten())\n",
        "model.add(Activation('softmax'))\n",
        "\n",
        "\n",
        "model.summary()"
      ],
      "execution_count": 0,
      "outputs": [
        {
          "output_type": "stream",
          "text": [
            "/usr/local/lib/python3.6/dist-packages/ipykernel_launcher.py:4: UserWarning: Update your `Conv2D` call to the Keras 2 API: `Conv2D(16, (3, 3), activation=\"relu\", input_shape=(28, 28, 1...)`\n",
            "  after removing the cwd from sys.path.\n",
            "/usr/local/lib/python3.6/dist-packages/ipykernel_launcher.py:8: UserWarning: Update your `Conv2D` call to the Keras 2 API: `Conv2D(32, (3, 3), activation=\"relu\")`\n",
            "  \n",
            "/usr/local/lib/python3.6/dist-packages/ipykernel_launcher.py:12: UserWarning: Update your `Conv2D` call to the Keras 2 API: `Conv2D(10, (1, 1), activation=\"relu\")`\n",
            "  if sys.path[0] == '':\n",
            "/usr/local/lib/python3.6/dist-packages/ipykernel_launcher.py:16: UserWarning: Update your `Conv2D` call to the Keras 2 API: `Conv2D(16, (3, 3), activation=\"relu\")`\n",
            "  app.launch_new_instance()\n",
            "/usr/local/lib/python3.6/dist-packages/ipykernel_launcher.py:21: UserWarning: Update your `Conv2D` call to the Keras 2 API: `Conv2D(16, (3, 3), activation=\"relu\")`\n",
            "/usr/local/lib/python3.6/dist-packages/ipykernel_launcher.py:26: UserWarning: Update your `Conv2D` call to the Keras 2 API: `Conv2D(16, (3, 3), activation=\"relu\")`\n",
            "/usr/local/lib/python3.6/dist-packages/ipykernel_launcher.py:31: UserWarning: Update your `Conv2D` call to the Keras 2 API: `Conv2D(16, (3, 3), activation=\"relu\")`\n",
            "/usr/local/lib/python3.6/dist-packages/ipykernel_launcher.py:36: UserWarning: Update your `Conv2D` call to the Keras 2 API: `Conv2D(10, (4, 4))`\n"
          ],
          "name": "stderr"
        },
        {
          "output_type": "stream",
          "text": [
            "Model: \"sequential_7\"\n",
            "_________________________________________________________________\n",
            "Layer (type)                 Output Shape              Param #   \n",
            "=================================================================\n",
            "conv2d_49 (Conv2D)           (None, 26, 26, 16)        160       \n",
            "_________________________________________________________________\n",
            "batch_normalization_43 (Batc (None, 26, 26, 16)        64        \n",
            "_________________________________________________________________\n",
            "dropout_43 (Dropout)         (None, 26, 26, 16)        0         \n",
            "_________________________________________________________________\n",
            "conv2d_50 (Conv2D)           (None, 24, 24, 32)        4640      \n",
            "_________________________________________________________________\n",
            "batch_normalization_44 (Batc (None, 24, 24, 32)        128       \n",
            "_________________________________________________________________\n",
            "dropout_44 (Dropout)         (None, 24, 24, 32)        0         \n",
            "_________________________________________________________________\n",
            "conv2d_51 (Conv2D)           (None, 24, 24, 10)        330       \n",
            "_________________________________________________________________\n",
            "max_pooling2d_7 (MaxPooling2 (None, 12, 12, 10)        0         \n",
            "_________________________________________________________________\n",
            "conv2d_52 (Conv2D)           (None, 10, 10, 16)        1456      \n",
            "_________________________________________________________________\n",
            "batch_normalization_45 (Batc (None, 10, 10, 16)        64        \n",
            "_________________________________________________________________\n",
            "dropout_45 (Dropout)         (None, 10, 10, 16)        0         \n",
            "_________________________________________________________________\n",
            "conv2d_53 (Conv2D)           (None, 8, 8, 16)          2320      \n",
            "_________________________________________________________________\n",
            "batch_normalization_46 (Batc (None, 8, 8, 16)          64        \n",
            "_________________________________________________________________\n",
            "dropout_46 (Dropout)         (None, 8, 8, 16)          0         \n",
            "_________________________________________________________________\n",
            "conv2d_54 (Conv2D)           (None, 6, 6, 16)          2320      \n",
            "_________________________________________________________________\n",
            "batch_normalization_47 (Batc (None, 6, 6, 16)          64        \n",
            "_________________________________________________________________\n",
            "dropout_47 (Dropout)         (None, 6, 6, 16)          0         \n",
            "_________________________________________________________________\n",
            "conv2d_55 (Conv2D)           (None, 4, 4, 16)          2320      \n",
            "_________________________________________________________________\n",
            "batch_normalization_48 (Batc (None, 4, 4, 16)          64        \n",
            "_________________________________________________________________\n",
            "dropout_48 (Dropout)         (None, 4, 4, 16)          0         \n",
            "_________________________________________________________________\n",
            "conv2d_56 (Conv2D)           (None, 1, 1, 10)          2570      \n",
            "_________________________________________________________________\n",
            "batch_normalization_49 (Batc (None, 1, 1, 10)          40        \n",
            "_________________________________________________________________\n",
            "dropout_49 (Dropout)         (None, 1, 1, 10)          0         \n",
            "_________________________________________________________________\n",
            "flatten_7 (Flatten)          (None, 10)                0         \n",
            "_________________________________________________________________\n",
            "activation_21 (Activation)   (None, 10)                0         \n",
            "=================================================================\n",
            "Total params: 16,604\n",
            "Trainable params: 16,360\n",
            "Non-trainable params: 244\n",
            "_________________________________________________________________\n"
          ],
          "name": "stdout"
        }
      ]
    },
    {
      "cell_type": "markdown",
      "metadata": {
        "id": "4UF-hRTHp6fR",
        "colab_type": "text"
      },
      "source": [
        "**Model.compile()**\n",
        "\n",
        "**Loss Function:** A loss function is used to optimize the parameter values in a neural network model. Loss functions map a set of parameter values for the network onto a scalar value that indicates how well those parameter accomplish the task the network is intended to do.\n",
        "\n",
        "**Optimizer:** This step selects an optimizer algorithm that manipulates the learning rate per time-step so as to update the weights in a manner that does not lead to a swinging behaviour around the minimum\n",
        "\n",
        "**Learning Rate - Step Decay :**\n",
        "High learning rate will lead to random to and fro moment of the vector around local minima while a slow learning rate results in getting stuck into false minima. Thus, knowing when to decay the learning rate can be hard to find out.We base our experiment on the principle of step decay. Here, we reduce the learning rate by a constant factor every  epochs. \n",
        "\n",
        "**Data Augumentation:**\n",
        "Data augmentation is a technique to artificially create new training data from existing training data. This is done by applying domain-specific techniques to examples from the training data that create new and different training examples.\n",
        "Transforms include a range of operations from the field of image manipulation, such as shifts, flips, zooms, and much more. This is considered to be a type of regularization, as we create variations in the training data it provides the generalization."
      ]
    },
    {
      "cell_type": "code",
      "metadata": {
        "id": "L2IicGJ4x3Be",
        "colab_type": "code",
        "outputId": "4404148e-a8b0-417e-c7d7-d9854e7e67f3",
        "colab": {
          "base_uri": "https://localhost:8080/",
          "height": 1000
        }
      },
      "source": [
        "from keras.optimizers import Adam\n",
        "from keras.callbacks import LearningRateScheduler\n",
        "def scheduler(epoch, lr):\n",
        "  return round(0.003 * 1/(1 + 0.319 * epoch), 10)\n",
        "model.compile(loss='categorical_crossentropy', optimizer=Adam(lr=0.003), metrics=['accuracy'])\n",
        "from keras.preprocessing.image import ImageDataGenerator\n",
        "datagen = ImageDataGenerator()\n",
        "output= model.fit_generator(datagen.flow(X_train, Y_train, batch_size=64),validation_data=(X_test,Y_test),steps_per_epoch=200, epochs=40,callbacks=[LearningRateScheduler(scheduler, verbose=1)])\n",
        "#ouput=model.fit(X_train, Y_train, batch_size=128, epochs=20, verbose=1, validation_data=(X_test, Y_test), callbacks=[LearningRateScheduler(scheduler, verbose=1)])"
      ],
      "execution_count": 0,
      "outputs": [
        {
          "output_type": "stream",
          "text": [
            "Epoch 1/40\n",
            "\n",
            "Epoch 00001: LearningRateScheduler setting learning rate to 0.003.\n",
            "200/200 [==============================] - 8s 38ms/step - loss: 0.8677 - acc: 0.7592 - val_loss: 0.2057 - val_acc: 0.9604\n",
            "Epoch 2/40\n",
            "\n",
            "Epoch 00002: LearningRateScheduler setting learning rate to 0.0022744503.\n",
            "200/200 [==============================] - 3s 16ms/step - loss: 0.4453 - acc: 0.8720 - val_loss: 0.1388 - val_acc: 0.9728\n",
            "Epoch 3/40\n",
            "\n",
            "Epoch 00003: LearningRateScheduler setting learning rate to 0.0018315018.\n",
            "200/200 [==============================] - 3s 16ms/step - loss: 0.3640 - acc: 0.8890 - val_loss: 0.1075 - val_acc: 0.9825\n",
            "Epoch 4/40\n",
            "\n",
            "Epoch 00004: LearningRateScheduler setting learning rate to 0.0015329586.\n",
            "200/200 [==============================] - 3s 16ms/step - loss: 0.3218 - acc: 0.9003 - val_loss: 0.0919 - val_acc: 0.9834\n",
            "Epoch 5/40\n",
            "\n",
            "Epoch 00005: LearningRateScheduler setting learning rate to 0.0013181019.\n",
            "200/200 [==============================] - 3s 17ms/step - loss: 0.2953 - acc: 0.9077 - val_loss: 0.0813 - val_acc: 0.9863\n",
            "Epoch 6/40\n",
            "\n",
            "Epoch 00006: LearningRateScheduler setting learning rate to 0.0011560694.\n",
            "200/200 [==============================] - 3s 16ms/step - loss: 0.2726 - acc: 0.9162 - val_loss: 0.0649 - val_acc: 0.9889\n",
            "Epoch 7/40\n",
            "\n",
            "Epoch 00007: LearningRateScheduler setting learning rate to 0.0010295127.\n",
            "200/200 [==============================] - 3s 17ms/step - loss: 0.2770 - acc: 0.9141 - val_loss: 0.0614 - val_acc: 0.9889\n",
            "Epoch 8/40\n",
            "\n",
            "Epoch 00008: LearningRateScheduler setting learning rate to 0.0009279307.\n",
            "200/200 [==============================] - 3s 16ms/step - loss: 0.2505 - acc: 0.9227 - val_loss: 0.0580 - val_acc: 0.9905\n",
            "Epoch 9/40\n",
            "\n",
            "Epoch 00009: LearningRateScheduler setting learning rate to 0.0008445946.\n",
            "200/200 [==============================] - 3s 17ms/step - loss: 0.2444 - acc: 0.9259 - val_loss: 0.0518 - val_acc: 0.9901\n",
            "Epoch 10/40\n",
            "\n",
            "Epoch 00010: LearningRateScheduler setting learning rate to 0.0007749935.\n",
            "200/200 [==============================] - 3s 17ms/step - loss: 0.2229 - acc: 0.9331 - val_loss: 0.0479 - val_acc: 0.9909\n",
            "Epoch 11/40\n",
            "\n",
            "Epoch 00011: LearningRateScheduler setting learning rate to 0.0007159905.\n",
            "200/200 [==============================] - 3s 17ms/step - loss: 0.2160 - acc: 0.9347 - val_loss: 0.0453 - val_acc: 0.9906\n",
            "Epoch 12/40\n",
            "\n",
            "Epoch 00012: LearningRateScheduler setting learning rate to 0.000665336.\n",
            "200/200 [==============================] - 3s 16ms/step - loss: 0.2116 - acc: 0.9373 - val_loss: 0.0522 - val_acc: 0.9895\n",
            "Epoch 13/40\n",
            "\n",
            "Epoch 00013: LearningRateScheduler setting learning rate to 0.0006213753.\n",
            "200/200 [==============================] - 3s 17ms/step - loss: 0.2055 - acc: 0.9378 - val_loss: 0.0421 - val_acc: 0.9915\n",
            "Epoch 14/40\n",
            "\n",
            "Epoch 00014: LearningRateScheduler setting learning rate to 0.0005828638.\n",
            "200/200 [==============================] - 3s 17ms/step - loss: 0.2094 - acc: 0.9387 - val_loss: 0.0442 - val_acc: 0.9902\n",
            "Epoch 15/40\n",
            "\n",
            "Epoch 00015: LearningRateScheduler setting learning rate to 0.0005488474.\n",
            "200/200 [==============================] - 3s 17ms/step - loss: 0.2008 - acc: 0.9402 - val_loss: 0.0398 - val_acc: 0.9920\n",
            "Epoch 16/40\n",
            "\n",
            "Epoch 00016: LearningRateScheduler setting learning rate to 0.0005185825.\n",
            "200/200 [==============================] - 3s 17ms/step - loss: 0.1989 - acc: 0.9395 - val_loss: 0.0404 - val_acc: 0.9912\n",
            "Epoch 17/40\n",
            "\n",
            "Epoch 00017: LearningRateScheduler setting learning rate to 0.000491481.\n",
            "200/200 [==============================] - 3s 17ms/step - loss: 0.1841 - acc: 0.9430 - val_loss: 0.0360 - val_acc: 0.9925\n",
            "Epoch 18/40\n",
            "\n",
            "Epoch 00018: LearningRateScheduler setting learning rate to 0.0004670715.\n",
            "200/200 [==============================] - 3s 16ms/step - loss: 0.1913 - acc: 0.9406 - val_loss: 0.0345 - val_acc: 0.9917\n",
            "Epoch 19/40\n",
            "\n",
            "Epoch 00019: LearningRateScheduler setting learning rate to 0.0004449718.\n",
            "200/200 [==============================] - 3s 17ms/step - loss: 0.1848 - acc: 0.9434 - val_loss: 0.0360 - val_acc: 0.9924\n",
            "Epoch 20/40\n",
            "\n",
            "Epoch 00020: LearningRateScheduler setting learning rate to 0.000424869.\n",
            "200/200 [==============================] - 3s 16ms/step - loss: 0.1769 - acc: 0.9449 - val_loss: 0.0337 - val_acc: 0.9921\n",
            "Epoch 21/40\n",
            "\n",
            "Epoch 00021: LearningRateScheduler setting learning rate to 0.0004065041.\n",
            "200/200 [==============================] - 3s 17ms/step - loss: 0.1755 - acc: 0.9436 - val_loss: 0.0331 - val_acc: 0.9923\n",
            "Epoch 22/40\n",
            "\n",
            "Epoch 00022: LearningRateScheduler setting learning rate to 0.000389661.\n",
            "200/200 [==============================] - 3s 17ms/step - loss: 0.1772 - acc: 0.9452 - val_loss: 0.0335 - val_acc: 0.9928\n",
            "Epoch 23/40\n",
            "\n",
            "Epoch 00023: LearningRateScheduler setting learning rate to 0.0003741581.\n",
            "200/200 [==============================] - 3s 17ms/step - loss: 0.1824 - acc: 0.9430 - val_loss: 0.0332 - val_acc: 0.9915\n",
            "Epoch 24/40\n",
            "\n",
            "Epoch 00024: LearningRateScheduler setting learning rate to 0.0003598417.\n",
            "200/200 [==============================] - 3s 17ms/step - loss: 0.1690 - acc: 0.9462 - val_loss: 0.0310 - val_acc: 0.9929\n",
            "Epoch 25/40\n",
            "\n",
            "Epoch 00025: LearningRateScheduler setting learning rate to 0.0003465804.\n",
            "200/200 [==============================] - 3s 16ms/step - loss: 0.1703 - acc: 0.9473 - val_loss: 0.0318 - val_acc: 0.9936\n",
            "Epoch 26/40\n",
            "\n",
            "Epoch 00026: LearningRateScheduler setting learning rate to 0.0003342618.\n",
            "200/200 [==============================] - 3s 16ms/step - loss: 0.1657 - acc: 0.9463 - val_loss: 0.0316 - val_acc: 0.9927\n",
            "Epoch 27/40\n",
            "\n",
            "Epoch 00027: LearningRateScheduler setting learning rate to 0.0003227889.\n",
            "200/200 [==============================] - 3s 16ms/step - loss: 0.1729 - acc: 0.9436 - val_loss: 0.0288 - val_acc: 0.9926\n",
            "Epoch 28/40\n",
            "\n",
            "Epoch 00028: LearningRateScheduler setting learning rate to 0.0003120774.\n",
            "200/200 [==============================] - 3s 17ms/step - loss: 0.1598 - acc: 0.9495 - val_loss: 0.0310 - val_acc: 0.9923\n",
            "Epoch 29/40\n",
            "\n",
            "Epoch 00029: LearningRateScheduler setting learning rate to 0.000302054.\n",
            "200/200 [==============================] - 3s 17ms/step - loss: 0.1596 - acc: 0.9501 - val_loss: 0.0270 - val_acc: 0.9934\n",
            "Epoch 30/40\n",
            "\n",
            "Epoch 00030: LearningRateScheduler setting learning rate to 0.0002926544.\n",
            "200/200 [==============================] - 3s 16ms/step - loss: 0.1554 - acc: 0.9487 - val_loss: 0.0279 - val_acc: 0.9924\n",
            "Epoch 31/40\n",
            "\n",
            "Epoch 00031: LearningRateScheduler setting learning rate to 0.0002838221.\n",
            "200/200 [==============================] - 3s 16ms/step - loss: 0.1534 - acc: 0.9502 - val_loss: 0.0289 - val_acc: 0.9930\n",
            "Epoch 32/40\n",
            "\n",
            "Epoch 00032: LearningRateScheduler setting learning rate to 0.0002755074.\n",
            "200/200 [==============================] - 3s 16ms/step - loss: 0.1609 - acc: 0.9467 - val_loss: 0.0291 - val_acc: 0.9927\n",
            "Epoch 33/40\n",
            "\n",
            "Epoch 00033: LearningRateScheduler setting learning rate to 0.000267666.\n",
            "200/200 [==============================] - 3s 17ms/step - loss: 0.1604 - acc: 0.9507 - val_loss: 0.0280 - val_acc: 0.9935\n",
            "Epoch 34/40\n",
            "\n",
            "Epoch 00034: LearningRateScheduler setting learning rate to 0.0002602585.\n",
            "200/200 [==============================] - 3s 17ms/step - loss: 0.1495 - acc: 0.9519 - val_loss: 0.0273 - val_acc: 0.9935\n",
            "Epoch 35/40\n",
            "\n",
            "Epoch 00035: LearningRateScheduler setting learning rate to 0.00025325.\n",
            "200/200 [==============================] - 3s 17ms/step - loss: 0.1594 - acc: 0.9455 - val_loss: 0.0266 - val_acc: 0.9936\n",
            "Epoch 36/40\n",
            "\n",
            "Epoch 00036: LearningRateScheduler setting learning rate to 0.0002466091.\n",
            "200/200 [==============================] - 3s 17ms/step - loss: 0.1570 - acc: 0.9477 - val_loss: 0.0282 - val_acc: 0.9929\n",
            "Epoch 37/40\n",
            "\n",
            "Epoch 00037: LearningRateScheduler setting learning rate to 0.0002403076.\n",
            "200/200 [==============================] - 3s 16ms/step - loss: 0.1582 - acc: 0.9486 - val_loss: 0.0269 - val_acc: 0.9933\n",
            "Epoch 38/40\n",
            "\n",
            "Epoch 00038: LearningRateScheduler setting learning rate to 0.0002343201.\n",
            "200/200 [==============================] - 3s 17ms/step - loss: 0.1535 - acc: 0.9502 - val_loss: 0.0259 - val_acc: 0.9935\n",
            "Epoch 39/40\n",
            "\n",
            "Epoch 00039: LearningRateScheduler setting learning rate to 0.0002286237.\n",
            "200/200 [==============================] - 3s 17ms/step - loss: 0.1463 - acc: 0.9512 - val_loss: 0.0263 - val_acc: 0.9928\n",
            "Epoch 40/40\n",
            "\n",
            "Epoch 00040: LearningRateScheduler setting learning rate to 0.0002231977.\n",
            "200/200 [==============================] - 3s 17ms/step - loss: 0.1537 - acc: 0.9464 - val_loss: 0.0259 - val_acc: 0.9933\n"
          ],
          "name": "stdout"
        }
      ]
    },
    {
      "cell_type": "code",
      "metadata": {
        "id": "WLxlW9ufyQiO",
        "colab_type": "code",
        "outputId": "df75b305-ec38-441c-ce54-77cde7caa839",
        "colab": {
          "base_uri": "https://localhost:8080/",
          "height": 34
        }
      },
      "source": [
        "\n",
        "score = model.evaluate(X_test, Y_test, verbose=0)\n",
        "print(score)"
      ],
      "execution_count": 0,
      "outputs": [
        {
          "output_type": "stream",
          "text": [
            "[0.025855406473763286, 0.9933]\n"
          ],
          "name": "stdout"
        }
      ]
    },
    {
      "cell_type": "markdown",
      "metadata": {
        "id": "HpJAg9-qyKVI",
        "colab_type": "text"
      },
      "source": [
        "**Problem Statement**\n",
        "\n",
        "Change Code from Assignment 4 to include:\n",
        "\n",
        "*   Image normalization\n",
        "*   L2 regularization\n",
        "*   ReLU after BN"
      ]
    },
    {
      "cell_type": "code",
      "metadata": {
        "id": "u2QAJpgNZ5Ef",
        "colab_type": "code",
        "outputId": "edbb989f-3597-4e30-9c88-6f207e274ccd",
        "colab": {
          "base_uri": "https://localhost:8080/",
          "height": 1000
        }
      },
      "source": [
        "from keras.layers import Activation\n",
        "model = Sequential()\n",
        " \n",
        "model.add(Convolution2D(16, 3, 3, input_shape=(28,28,1))) #26\n",
        "model.add(BatchNormalization())\n",
        "model.add(Activation('relu'))\n",
        "model.add(Dropout(0.1))\n",
        "\n",
        "model.add(Convolution2D(32, 3, 3, activation='relu')) #24\n",
        "model.add(BatchNormalization())\n",
        "model.add(Activation('relu'))\n",
        "model.add(Dropout(0.1))\n",
        "\n",
        "model.add(Convolution2D(10, 1, 1, activation='relu')) #22\n",
        "\n",
        "model.add(MaxPooling2D(pool_size=(2, 2)))#11\n",
        "\n",
        "model.add(Convolution2D(16, 3, 3))#9\n",
        "model.add(BatchNormalization())\n",
        "model.add(Activation('relu'))\n",
        "model.add(Dropout(0.1))\n",
        "\n",
        "\n",
        "model.add(Convolution2D(16, 3, 3))#7\n",
        "model.add(BatchNormalization())\n",
        "model.add(Activation('relu'))\n",
        "model.add(Dropout(0.1))\n",
        "\n",
        "\n",
        "model.add(Convolution2D(16, 3, 3))#5\n",
        "model.add(BatchNormalization())\n",
        "model.add(Activation('relu'))\n",
        "model.add(Dropout(0.1))\n",
        "\n",
        "\n",
        "model.add(Convolution2D(16, 3, 3))#3\n",
        "model.add(BatchNormalization())\n",
        "model.add(Activation('relu'))\n",
        "model.add(Dropout(0.1))\n",
        "\n",
        "\n",
        "model.add(Convolution2D(10, 4, 4))\n",
        "model.add(BatchNormalization())\n",
        "model.add(Activation('relu'))\n",
        "model.add(Dropout(0.1))\n",
        "\n",
        "\n",
        "model.add(Flatten())\n",
        "model.add(Activation('softmax'))\n",
        "\n",
        "\n",
        "model.summary()"
      ],
      "execution_count": 0,
      "outputs": [
        {
          "output_type": "stream",
          "text": [
            "/usr/local/lib/python3.6/dist-packages/ipykernel_launcher.py:4: UserWarning: Update your `Conv2D` call to the Keras 2 API: `Conv2D(16, (3, 3), input_shape=(28, 28, 1...)`\n",
            "  after removing the cwd from sys.path.\n",
            "/usr/local/lib/python3.6/dist-packages/ipykernel_launcher.py:9: UserWarning: Update your `Conv2D` call to the Keras 2 API: `Conv2D(32, (3, 3), activation=\"relu\")`\n",
            "  if __name__ == '__main__':\n",
            "/usr/local/lib/python3.6/dist-packages/ipykernel_launcher.py:14: UserWarning: Update your `Conv2D` call to the Keras 2 API: `Conv2D(10, (1, 1), activation=\"relu\")`\n",
            "  \n",
            "/usr/local/lib/python3.6/dist-packages/ipykernel_launcher.py:18: UserWarning: Update your `Conv2D` call to the Keras 2 API: `Conv2D(16, (3, 3))`\n",
            "/usr/local/lib/python3.6/dist-packages/ipykernel_launcher.py:24: UserWarning: Update your `Conv2D` call to the Keras 2 API: `Conv2D(16, (3, 3))`\n",
            "/usr/local/lib/python3.6/dist-packages/ipykernel_launcher.py:30: UserWarning: Update your `Conv2D` call to the Keras 2 API: `Conv2D(16, (3, 3))`\n",
            "/usr/local/lib/python3.6/dist-packages/ipykernel_launcher.py:36: UserWarning: Update your `Conv2D` call to the Keras 2 API: `Conv2D(16, (3, 3))`\n",
            "/usr/local/lib/python3.6/dist-packages/ipykernel_launcher.py:42: UserWarning: Update your `Conv2D` call to the Keras 2 API: `Conv2D(10, (4, 4))`\n"
          ],
          "name": "stderr"
        },
        {
          "output_type": "stream",
          "text": [
            "Model: \"sequential_8\"\n",
            "_________________________________________________________________\n",
            "Layer (type)                 Output Shape              Param #   \n",
            "=================================================================\n",
            "conv2d_57 (Conv2D)           (None, 26, 26, 16)        160       \n",
            "_________________________________________________________________\n",
            "batch_normalization_50 (Batc (None, 26, 26, 16)        64        \n",
            "_________________________________________________________________\n",
            "activation_22 (Activation)   (None, 26, 26, 16)        0         \n",
            "_________________________________________________________________\n",
            "dropout_50 (Dropout)         (None, 26, 26, 16)        0         \n",
            "_________________________________________________________________\n",
            "conv2d_58 (Conv2D)           (None, 24, 24, 32)        4640      \n",
            "_________________________________________________________________\n",
            "batch_normalization_51 (Batc (None, 24, 24, 32)        128       \n",
            "_________________________________________________________________\n",
            "activation_23 (Activation)   (None, 24, 24, 32)        0         \n",
            "_________________________________________________________________\n",
            "dropout_51 (Dropout)         (None, 24, 24, 32)        0         \n",
            "_________________________________________________________________\n",
            "conv2d_59 (Conv2D)           (None, 24, 24, 10)        330       \n",
            "_________________________________________________________________\n",
            "max_pooling2d_8 (MaxPooling2 (None, 12, 12, 10)        0         \n",
            "_________________________________________________________________\n",
            "conv2d_60 (Conv2D)           (None, 10, 10, 16)        1456      \n",
            "_________________________________________________________________\n",
            "batch_normalization_52 (Batc (None, 10, 10, 16)        64        \n",
            "_________________________________________________________________\n",
            "activation_24 (Activation)   (None, 10, 10, 16)        0         \n",
            "_________________________________________________________________\n",
            "dropout_52 (Dropout)         (None, 10, 10, 16)        0         \n",
            "_________________________________________________________________\n",
            "conv2d_61 (Conv2D)           (None, 8, 8, 16)          2320      \n",
            "_________________________________________________________________\n",
            "batch_normalization_53 (Batc (None, 8, 8, 16)          64        \n",
            "_________________________________________________________________\n",
            "activation_25 (Activation)   (None, 8, 8, 16)          0         \n",
            "_________________________________________________________________\n",
            "dropout_53 (Dropout)         (None, 8, 8, 16)          0         \n",
            "_________________________________________________________________\n",
            "conv2d_62 (Conv2D)           (None, 6, 6, 16)          2320      \n",
            "_________________________________________________________________\n",
            "batch_normalization_54 (Batc (None, 6, 6, 16)          64        \n",
            "_________________________________________________________________\n",
            "activation_26 (Activation)   (None, 6, 6, 16)          0         \n",
            "_________________________________________________________________\n",
            "dropout_54 (Dropout)         (None, 6, 6, 16)          0         \n",
            "_________________________________________________________________\n",
            "conv2d_63 (Conv2D)           (None, 4, 4, 16)          2320      \n",
            "_________________________________________________________________\n",
            "batch_normalization_55 (Batc (None, 4, 4, 16)          64        \n",
            "_________________________________________________________________\n",
            "activation_27 (Activation)   (None, 4, 4, 16)          0         \n",
            "_________________________________________________________________\n",
            "dropout_55 (Dropout)         (None, 4, 4, 16)          0         \n",
            "_________________________________________________________________\n",
            "conv2d_64 (Conv2D)           (None, 1, 1, 10)          2570      \n",
            "_________________________________________________________________\n",
            "batch_normalization_56 (Batc (None, 1, 1, 10)          40        \n",
            "_________________________________________________________________\n",
            "activation_28 (Activation)   (None, 1, 1, 10)          0         \n",
            "_________________________________________________________________\n",
            "dropout_56 (Dropout)         (None, 1, 1, 10)          0         \n",
            "_________________________________________________________________\n",
            "flatten_8 (Flatten)          (None, 10)                0         \n",
            "_________________________________________________________________\n",
            "activation_29 (Activation)   (None, 10)                0         \n",
            "=================================================================\n",
            "Total params: 16,604\n",
            "Trainable params: 16,360\n",
            "Non-trainable params: 244\n",
            "_________________________________________________________________\n"
          ],
          "name": "stdout"
        }
      ]
    },
    {
      "cell_type": "markdown",
      "metadata": {
        "id": "f6IwmQPqzbB6",
        "colab_type": "text"
      },
      "source": [
        "***Input Image Normalization:***\n",
        "\n",
        "Standardize and Normalize the image using the featurewise_center (standardization) and featurewise_std_normalization (Normalization using mean and variance).\n",
        "Standardization is different from Normalization, the former refers to scaling the pixels(diving it by 255).\n"
      ]
    },
    {
      "cell_type": "code",
      "metadata": {
        "id": "m2qDl21ozBnW",
        "colab_type": "code",
        "colab": {}
      },
      "source": [
        "from keras.preprocessing.image import ImageDataGenerator\n",
        "datagen = ImageDataGenerator(featurewise_center=True, featurewise_std_normalization=True)"
      ],
      "execution_count": 0,
      "outputs": []
    },
    {
      "cell_type": "markdown",
      "metadata": {
        "id": "OLpk53eM1sZQ",
        "colab_type": "text"
      },
      "source": [
        "***L2 Regularization:***\n",
        "\n",
        "Regularization is a key component in preventing overfitting. Also, some techniques of regularization can be used to reduce model parameters while maintaining accuracy, for example, to drive some of the parameters to zero. This might be desirable for reducing the model size or driving down the cost of evaluation in a mobile environment where processor power is constrained.\n",
        "\n",
        "In the below step we have introduced the custom loss function for L2 Implementation. Here, we have added the loss to the total model rather than applying ffor each layer.\n"
      ]
    },
    {
      "cell_type": "code",
      "metadata": {
        "id": "1gjnM82TsMp4",
        "colab_type": "code",
        "colab": {}
      },
      "source": [
        "import keras.backend as K\n",
        "\n",
        "def custom_loss(lambd, model, batch_size):\n",
        "  \n",
        "  def loss(y_true, y_pred):\n",
        "    reg_loss = 0.0;\n",
        "    for layer in model.layers:\n",
        "      if \"Conv\" in str(layer):\n",
        "        reg_loss += K.sum(K.square(layer.weights[0]))\n",
        "    l2_loss = (lambd/(2*batch_size))*reg_loss\n",
        "    return K.categorical_crossentropy(y_true,y_pred) + l2_loss\n",
        "  return loss\n"
      ],
      "execution_count": 0,
      "outputs": []
    },
    {
      "cell_type": "code",
      "metadata": {
        "id": "rFL6nnm03NHR",
        "colab_type": "code",
        "colab": {}
      },
      "source": [
        "from keras.optimizers import Adam\n",
        "from keras.callbacks import LearningRateScheduler,ModelCheckpoint\n",
        "\n",
        "def scheduler(epoch, lr):\n",
        "  return round(0.003 * 1/(1 + 0.319 * epoch), 10)\n",
        "model.compile(loss=custom_loss(0.1, model, 512), optimizer=Adam(lr=0.003), metrics=['accuracy'])\n",
        "bestval = ModelCheckpoint('bestmodel.hdf5', save_best_only=True, monitor='val_acc', mode='max')"
      ],
      "execution_count": 0,
      "outputs": []
    },
    {
      "cell_type": "code",
      "metadata": {
        "id": "UT_a0kLR3N66",
        "colab_type": "code",
        "outputId": "0a2927a5-36ad-4477-a3fd-2849825480fa",
        "colab": {
          "base_uri": "https://localhost:8080/",
          "height": 1000
        }
      },
      "source": [
        "outputl2 = model.fit_generator(datagen.flow(X_train, Y_train, batch_size=64),validation_data=(X_test,Y_test),steps_per_epoch=200, epochs=40,callbacks=[bestval,LearningRateScheduler(scheduler, verbose=1)])\n",
        "#model.fit(X_train, Y_train,  batch_size=512, validation_data=(X_test,Y_test),epochs=15, verbose=1,callbacks=[lr_rate])"
      ],
      "execution_count": 0,
      "outputs": [
        {
          "output_type": "stream",
          "text": [
            "Epoch 1/40\n"
          ],
          "name": "stdout"
        },
        {
          "output_type": "stream",
          "text": [
            "/usr/local/lib/python3.6/dist-packages/keras_preprocessing/image/image_data_generator.py:716: UserWarning: This ImageDataGenerator specifies `featurewise_center`, but it hasn't been fit on any training data. Fit it first by calling `.fit(numpy_data)`.\n",
            "  warnings.warn('This ImageDataGenerator specifies '\n",
            "/usr/local/lib/python3.6/dist-packages/keras_preprocessing/image/image_data_generator.py:724: UserWarning: This ImageDataGenerator specifies `featurewise_std_normalization`, but it hasn't been fit on any training data. Fit it first by calling `.fit(numpy_data)`.\n",
            "  warnings.warn('This ImageDataGenerator specifies '\n"
          ],
          "name": "stderr"
        },
        {
          "output_type": "stream",
          "text": [
            "\n",
            "Epoch 00001: LearningRateScheduler setting learning rate to 0.003.\n",
            "200/200 [==============================] - 9s 44ms/step - loss: 1.0024 - acc: 0.7334 - val_loss: 0.4206 - val_acc: 0.9141\n",
            "Epoch 2/40\n",
            "\n",
            "Epoch 00002: LearningRateScheduler setting learning rate to 0.0022744503.\n",
            "200/200 [==============================] - 3s 17ms/step - loss: 0.5297 - acc: 0.8609 - val_loss: 0.2216 - val_acc: 0.9723\n",
            "Epoch 3/40\n",
            "\n",
            "Epoch 00003: LearningRateScheduler setting learning rate to 0.0018315018.\n",
            "200/200 [==============================] - 4s 18ms/step - loss: 0.4647 - acc: 0.8657 - val_loss: 0.1849 - val_acc: 0.9679\n",
            "Epoch 4/40\n",
            "\n",
            "Epoch 00004: LearningRateScheduler setting learning rate to 0.0015329586.\n",
            "200/200 [==============================] - 4s 18ms/step - loss: 0.4247 - acc: 0.8722 - val_loss: 0.1645 - val_acc: 0.9779\n",
            "Epoch 5/40\n",
            "\n",
            "Epoch 00005: LearningRateScheduler setting learning rate to 0.0013181019.\n",
            "200/200 [==============================] - 3s 17ms/step - loss: 0.4010 - acc: 0.8751 - val_loss: 0.1032 - val_acc: 0.9851\n",
            "Epoch 6/40\n",
            "\n",
            "Epoch 00006: LearningRateScheduler setting learning rate to 0.0011560694.\n",
            "200/200 [==============================] - 3s 17ms/step - loss: 0.3793 - acc: 0.8812 - val_loss: 0.1014 - val_acc: 0.9862\n",
            "Epoch 7/40\n",
            "\n",
            "Epoch 00007: LearningRateScheduler setting learning rate to 0.0010295127.\n",
            "200/200 [==============================] - 3s 17ms/step - loss: 0.3643 - acc: 0.8846 - val_loss: 0.0916 - val_acc: 0.9865\n",
            "Epoch 8/40\n",
            "\n",
            "Epoch 00008: LearningRateScheduler setting learning rate to 0.0009279307.\n",
            "200/200 [==============================] - 3s 17ms/step - loss: 0.3644 - acc: 0.8811 - val_loss: 0.0821 - val_acc: 0.9884\n",
            "Epoch 9/40\n",
            "\n",
            "Epoch 00009: LearningRateScheduler setting learning rate to 0.0008445946.\n",
            "200/200 [==============================] - 3s 17ms/step - loss: 0.3557 - acc: 0.8830 - val_loss: 0.0873 - val_acc: 0.9862\n",
            "Epoch 10/40\n",
            "\n",
            "Epoch 00010: LearningRateScheduler setting learning rate to 0.0007749935.\n",
            "200/200 [==============================] - 3s 17ms/step - loss: 0.3576 - acc: 0.8818 - val_loss: 0.0757 - val_acc: 0.9899\n",
            "Epoch 11/40\n",
            "\n",
            "Epoch 00011: LearningRateScheduler setting learning rate to 0.0007159905.\n",
            "200/200 [==============================] - 3s 17ms/step - loss: 0.3610 - acc: 0.8804 - val_loss: 0.0703 - val_acc: 0.9896\n",
            "Epoch 12/40\n",
            "\n",
            "Epoch 00012: LearningRateScheduler setting learning rate to 0.000665336.\n",
            "200/200 [==============================] - 3s 17ms/step - loss: 0.3430 - acc: 0.8851 - val_loss: 0.0696 - val_acc: 0.9898\n",
            "Epoch 13/40\n",
            "\n",
            "Epoch 00013: LearningRateScheduler setting learning rate to 0.0006213753.\n",
            "200/200 [==============================] - 3s 17ms/step - loss: 0.3463 - acc: 0.8851 - val_loss: 0.0694 - val_acc: 0.9889\n",
            "Epoch 14/40\n",
            "\n",
            "Epoch 00014: LearningRateScheduler setting learning rate to 0.0005828638.\n",
            "200/200 [==============================] - 3s 17ms/step - loss: 0.3489 - acc: 0.8827 - val_loss: 0.0657 - val_acc: 0.9911\n",
            "Epoch 15/40\n",
            "\n",
            "Epoch 00015: LearningRateScheduler setting learning rate to 0.0005488474.\n",
            "200/200 [==============================] - 4s 18ms/step - loss: 0.3249 - acc: 0.8902 - val_loss: 0.0619 - val_acc: 0.9904\n",
            "Epoch 16/40\n",
            "\n",
            "Epoch 00016: LearningRateScheduler setting learning rate to 0.0005185825.\n",
            "200/200 [==============================] - 4s 18ms/step - loss: 0.3372 - acc: 0.8864 - val_loss: 0.0658 - val_acc: 0.9898\n",
            "Epoch 17/40\n",
            "\n",
            "Epoch 00017: LearningRateScheduler setting learning rate to 0.000491481.\n",
            "200/200 [==============================] - 3s 17ms/step - loss: 0.3196 - acc: 0.8921 - val_loss: 0.0591 - val_acc: 0.9914\n",
            "Epoch 18/40\n",
            "\n",
            "Epoch 00018: LearningRateScheduler setting learning rate to 0.0004670715.\n",
            "200/200 [==============================] - 3s 17ms/step - loss: 0.3367 - acc: 0.8860 - val_loss: 0.0557 - val_acc: 0.9919\n",
            "Epoch 19/40\n",
            "\n",
            "Epoch 00019: LearningRateScheduler setting learning rate to 0.0004449718.\n",
            "200/200 [==============================] - 4s 18ms/step - loss: 0.3212 - acc: 0.8895 - val_loss: 0.0565 - val_acc: 0.9917\n",
            "Epoch 20/40\n",
            "\n",
            "Epoch 00020: LearningRateScheduler setting learning rate to 0.000424869.\n",
            "200/200 [==============================] - 3s 17ms/step - loss: 0.3271 - acc: 0.8890 - val_loss: 0.0571 - val_acc: 0.9904\n",
            "Epoch 21/40\n",
            "\n",
            "Epoch 00021: LearningRateScheduler setting learning rate to 0.0004065041.\n",
            "200/200 [==============================] - 3s 17ms/step - loss: 0.3198 - acc: 0.8891 - val_loss: 0.0552 - val_acc: 0.9914\n",
            "Epoch 22/40\n",
            "\n",
            "Epoch 00022: LearningRateScheduler setting learning rate to 0.000389661.\n",
            "200/200 [==============================] - 3s 17ms/step - loss: 0.3345 - acc: 0.8846 - val_loss: 0.0562 - val_acc: 0.9911\n",
            "Epoch 23/40\n",
            "\n",
            "Epoch 00023: LearningRateScheduler setting learning rate to 0.0003741581.\n",
            "200/200 [==============================] - 3s 17ms/step - loss: 0.3242 - acc: 0.8886 - val_loss: 0.0530 - val_acc: 0.9915\n",
            "Epoch 24/40\n",
            "\n",
            "Epoch 00024: LearningRateScheduler setting learning rate to 0.0003598417.\n",
            "200/200 [==============================] - 4s 18ms/step - loss: 0.3259 - acc: 0.8865 - val_loss: 0.0536 - val_acc: 0.9924\n",
            "Epoch 25/40\n",
            "\n",
            "Epoch 00025: LearningRateScheduler setting learning rate to 0.0003465804.\n",
            "200/200 [==============================] - 3s 17ms/step - loss: 0.3258 - acc: 0.8871 - val_loss: 0.0510 - val_acc: 0.9921\n",
            "Epoch 26/40\n",
            "\n",
            "Epoch 00026: LearningRateScheduler setting learning rate to 0.0003342618.\n",
            "200/200 [==============================] - 3s 17ms/step - loss: 0.3140 - acc: 0.8892 - val_loss: 0.0520 - val_acc: 0.9921\n",
            "Epoch 27/40\n",
            "\n",
            "Epoch 00027: LearningRateScheduler setting learning rate to 0.0003227889.\n",
            "200/200 [==============================] - 3s 17ms/step - loss: 0.3228 - acc: 0.8890 - val_loss: 0.0502 - val_acc: 0.9928\n",
            "Epoch 28/40\n",
            "\n",
            "Epoch 00028: LearningRateScheduler setting learning rate to 0.0003120774.\n",
            "200/200 [==============================] - 4s 18ms/step - loss: 0.3337 - acc: 0.8826 - val_loss: 0.0532 - val_acc: 0.9914\n",
            "Epoch 29/40\n",
            "\n",
            "Epoch 00029: LearningRateScheduler setting learning rate to 0.000302054.\n",
            "200/200 [==============================] - 4s 18ms/step - loss: 0.3345 - acc: 0.8851 - val_loss: 0.0512 - val_acc: 0.9917\n",
            "Epoch 30/40\n",
            "\n",
            "Epoch 00030: LearningRateScheduler setting learning rate to 0.0002926544.\n",
            "200/200 [==============================] - 3s 17ms/step - loss: 0.3215 - acc: 0.8887 - val_loss: 0.0493 - val_acc: 0.9925\n",
            "Epoch 31/40\n",
            "\n",
            "Epoch 00031: LearningRateScheduler setting learning rate to 0.0002838221.\n",
            "200/200 [==============================] - 3s 17ms/step - loss: 0.3216 - acc: 0.8881 - val_loss: 0.0489 - val_acc: 0.9929\n",
            "Epoch 32/40\n",
            "\n",
            "Epoch 00032: LearningRateScheduler setting learning rate to 0.0002755074.\n",
            "200/200 [==============================] - 3s 17ms/step - loss: 0.3140 - acc: 0.8888 - val_loss: 0.0498 - val_acc: 0.9924\n",
            "Epoch 33/40\n",
            "\n",
            "Epoch 00033: LearningRateScheduler setting learning rate to 0.000267666.\n",
            "200/200 [==============================] - 3s 17ms/step - loss: 0.3221 - acc: 0.8884 - val_loss: 0.0470 - val_acc: 0.9930\n",
            "Epoch 34/40\n",
            "\n",
            "Epoch 00034: LearningRateScheduler setting learning rate to 0.0002602585.\n",
            "200/200 [==============================] - 3s 17ms/step - loss: 0.3192 - acc: 0.8888 - val_loss: 0.0476 - val_acc: 0.9933\n",
            "Epoch 35/40\n",
            "\n",
            "Epoch 00035: LearningRateScheduler setting learning rate to 0.00025325.\n",
            "200/200 [==============================] - 3s 17ms/step - loss: 0.3109 - acc: 0.8913 - val_loss: 0.0477 - val_acc: 0.9930\n",
            "Epoch 36/40\n",
            "\n",
            "Epoch 00036: LearningRateScheduler setting learning rate to 0.0002466091.\n",
            "200/200 [==============================] - 3s 17ms/step - loss: 0.3091 - acc: 0.8927 - val_loss: 0.0469 - val_acc: 0.9925\n",
            "Epoch 37/40\n",
            "\n",
            "Epoch 00037: LearningRateScheduler setting learning rate to 0.0002403076.\n",
            "200/200 [==============================] - 3s 17ms/step - loss: 0.3155 - acc: 0.8896 - val_loss: 0.0475 - val_acc: 0.9926\n",
            "Epoch 38/40\n",
            "\n",
            "Epoch 00038: LearningRateScheduler setting learning rate to 0.0002343201.\n",
            "200/200 [==============================] - 4s 18ms/step - loss: 0.3079 - acc: 0.8935 - val_loss: 0.0457 - val_acc: 0.9933\n",
            "Epoch 39/40\n",
            "\n",
            "Epoch 00039: LearningRateScheduler setting learning rate to 0.0002286237.\n",
            "200/200 [==============================] - 4s 18ms/step - loss: 0.3103 - acc: 0.8916 - val_loss: 0.0442 - val_acc: 0.9933\n",
            "Epoch 40/40\n",
            "\n",
            "Epoch 00040: LearningRateScheduler setting learning rate to 0.0002231977.\n",
            "200/200 [==============================] - 4s 18ms/step - loss: 0.3106 - acc: 0.8910 - val_loss: 0.0470 - val_acc: 0.9924\n"
          ],
          "name": "stdout"
        }
      ]
    },
    {
      "cell_type": "code",
      "metadata": {
        "id": "MczPqhTtZLYN",
        "colab_type": "code",
        "colab": {}
      },
      "source": [
        "prediction=model.predict(X_test)"
      ],
      "execution_count": 0,
      "outputs": []
    },
    {
      "cell_type": "markdown",
      "metadata": {
        "id": "ITnDjNVV1GfW",
        "colab_type": "text"
      },
      "source": [
        "***Misclassified Images:***\n",
        "\n",
        "We have taken top 25 misclassified images and made an image gallery out of it. "
      ]
    },
    {
      "cell_type": "code",
      "metadata": {
        "id": "g7LTQ-RmTCRt",
        "colab_type": "code",
        "outputId": "dd11261c-9196-4681-fb05-450fa92b8166",
        "colab": {
          "base_uri": "https://localhost:8080/",
          "height": 673
        }
      },
      "source": [
        "misclassified_idx = []\n",
        "\n",
        "for i in range(len(Y_test)):\n",
        "  if np.argmax(Y_test[i])!= np.argmax(prediction[i]):\n",
        "    misclassified_idx.append(i)\n",
        "\n",
        "plt_idx = np.random.choice(misclassified_idx, 25)\n",
        "fig, ax = plt.subplots(5,5,figsize = (10,10))\n",
        "fig.tight_layout()\n",
        "plt.subplots_adjust(left=None, bottom=None, right=None, top=0.92, wspace=None, hspace=None)\n",
        "k = 0\n",
        "for i in range(5):\n",
        "  for j in range(5):\n",
        "    img = X_test[plt_idx[k]].reshape(28,28)\n",
        "    pred = np.argmax(prediction[plt_idx[k]])\n",
        "    actual = np.argmax(Y_test[plt_idx[k]])\n",
        "    ax[i,j].set_xticklabels([])\n",
        "    ax[i,j].set_yticklabels([])\n",
        "    ax[i,j].imshow(img)\n",
        "    ax[i,j].set_title(\"Predicted: \" + format(pred) + \", Actual: \" + format(actual), fontsize=10)\n",
        "    k += 1"
      ],
      "execution_count": 0,
      "outputs": [
        {
          "output_type": "display_data",
          "data": {
            "image/png": "[encoded data removed]",
            "text/plain": [
              "<Figure size 720x720 with 25 Axes>"
            ]
          },
          "metadata": {
            "tags": []
          }
        }
      ]
    },
    {
      "cell_type": "markdown",
      "metadata": {
        "id": "jzv0LPoh2s1U",
        "colab_type": "text"
      },
      "source": [
        "***Summary:***\n",
        "\n",
        "So far we have learnt multiple regularization techniques : Batch norm, L2 Regularization, Data augumentation, Learning Rate, Drop-Out. \n",
        "\n",
        "*Note:* When using multiple regularization techiniques it will have cummulative effect in the model. So it is important to use these iteratively and assess the performance at each step.\n"
      ]
    }
  ]
}