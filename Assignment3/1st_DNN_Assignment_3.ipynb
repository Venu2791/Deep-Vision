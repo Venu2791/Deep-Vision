{
  "nbformat": 4,
  "nbformat_minor": 0,
  "metadata": {
    "colab": {
      "name": "1st DNN - Assignment 3.ipynb",
      "version": "0.3.2",
      "provenance": [],
      "collapsed_sections": [],
      "include_colab_link": true
    },
    "kernelspec": {
      "name": "python3",
      "display_name": "Python 3"
    },
    "accelerator": "GPU"
  },
  "cells": [
    {
      "cell_type": "markdown",
      "metadata": {
        "id": "view-in-github",
        "colab_type": "text"
      },
      "source": [
        "<a href=\"https://colab.research.google.com/github/Venu2791/Deep-Vision/blob/master/Assignment3/1st_DNN_Assignment_3.ipynb\" target=\"_parent\"><img src=\"https://colab.research.google.com/assets/colab-badge.svg\" alt=\"Open In Colab\"/></a>"
      ]
    },
    {
      "cell_type": "markdown",
      "metadata": {
        "id": "aNyZv-Ec52ot",
        "colab_type": "text"
      },
      "source": [
        "# **Import Libraries and modules**"
      ]
    },
    {
      "cell_type": "code",
      "metadata": {
        "id": "3m3w1Cw49Zkt",
        "colab_type": "code",
        "colab": {}
      },
      "source": [
        "# https://keras.io/\n",
        "!pip install -q keras\n",
        "import keras\n",
        "!pip install -q keras-vis\n",
        "import vis"
      ],
      "execution_count": 0,
      "outputs": []
    },
    {
      "cell_type": "markdown",
      "metadata": {
        "id": "HfvTxLsNnAlW",
        "colab_type": "text"
      },
      "source": [
        "Importing Different different classes in keras for building CNN"
      ]
    },
    {
      "cell_type": "code",
      "metadata": {
        "id": "Eso6UHE080D4",
        "colab_type": "code",
        "colab": {}
      },
      "source": [
        "import numpy as np\n",
        "\n",
        "from keras.models import Sequential\n",
        "from keras.layers import Dense, Dropout, Activation, Flatten, Add\n",
        "from keras.layers import Convolution2D, MaxPooling2D\n",
        "from keras.utils import np_utils\n",
        "\n",
        "from keras.datasets import mnist"
      ],
      "execution_count": 0,
      "outputs": []
    },
    {
      "cell_type": "markdown",
      "metadata": {
        "id": "zByEi95J86RD",
        "colab_type": "text"
      },
      "source": [
        "### Load pre-shuffled MNIST data into train and test sets"
      ]
    },
    {
      "cell_type": "code",
      "metadata": {
        "id": "7eRM0QWN83PV",
        "colab_type": "code",
        "colab": {}
      },
      "source": [
        "(X_train, y_train), (X_test, y_test) = mnist.load_data()"
      ],
      "execution_count": 0,
      "outputs": []
    },
    {
      "cell_type": "markdown",
      "metadata": {
        "id": "Eckyl943nF48",
        "colab_type": "text"
      },
      "source": [
        "\n",
        "Importing matplotlib and plotting a sample image from train dataset"
      ]
    },
    {
      "cell_type": "code",
      "metadata": {
        "id": "4a4Be72j8-ZC",
        "colab_type": "code",
        "outputId": "f88a088b-a704-4488-817c-5ccd402d96b0",
        "colab": {
          "base_uri": "https://localhost:8080/",
          "height": 304
        }
      },
      "source": [
        "print (X_train.shape)\n",
        "from matplotlib import pyplot as plt\n",
        "%matplotlib inline\n",
        "plt.imshow(X_train[0])"
      ],
      "execution_count": 27,
      "outputs": [
        {
          "output_type": "stream",
          "text": [
            "(60000, 28, 28)\n"
          ],
          "name": "stdout"
        },
        {
          "output_type": "execute_result",
          "data": {
            "text/plain": [
              "<matplotlib.image.AxesImage at 0x7f11907390b8>"
            ]
          },
          "metadata": {
            "tags": []
          },
          "execution_count": 27
        },
        {
          "output_type": "display_data",
          "data": {
            "image/png": "[encoded data removed]",
            "text/plain": [
              "<Figure size 432x288 with 1 Axes>"
            ]
          },
          "metadata": {
            "tags": []
          }
        }
      ]
    },
    {
      "cell_type": "markdown",
      "metadata": {
        "id": "7CsWqOIRnMCR",
        "colab_type": "text"
      },
      "source": [
        "\n",
        "Changing shape of the image to keep it in gray scale.\n"
      ]
    },
    {
      "cell_type": "code",
      "metadata": {
        "id": "dkmprriw9AnZ",
        "colab_type": "code",
        "colab": {}
      },
      "source": [
        "X_train = X_train.reshape(X_train.shape[0], 28, 28,1)\n",
        "X_test = X_test.reshape(X_test.shape[0], 28, 28,1)"
      ],
      "execution_count": 0,
      "outputs": []
    },
    {
      "cell_type": "markdown",
      "metadata": {
        "id": "uK0960eDoH4g",
        "colab_type": "text"
      },
      "source": [
        "Convert the data to float type"
      ]
    },
    {
      "cell_type": "code",
      "metadata": {
        "id": "X2m4YS4E9CRh",
        "colab_type": "code",
        "colab": {}
      },
      "source": [
        "X_train = X_train.astype('float32')\n",
        "X_test = X_test.astype('float32')\n",
        "X_train /= 255\n",
        "X_test /= 255"
      ],
      "execution_count": 0,
      "outputs": []
    },
    {
      "cell_type": "code",
      "metadata": {
        "id": "0Mn0vAYD9DvB",
        "colab_type": "code",
        "outputId": "0f9887ad-ee47-4ce2-b2fc-a71c7bc9bed3",
        "colab": {
          "base_uri": "https://localhost:8080/",
          "height": 34
        }
      },
      "source": [
        "y_train[:10]"
      ],
      "execution_count": 30,
      "outputs": [
        {
          "output_type": "execute_result",
          "data": {
            "text/plain": [
              "array([5, 0, 4, 1, 9, 2, 1, 3, 1, 4], dtype=uint8)"
            ]
          },
          "metadata": {
            "tags": []
          },
          "execution_count": 30
        }
      ]
    },
    {
      "cell_type": "markdown",
      "metadata": {
        "id": "UCtCnSGjpG78",
        "colab_type": "text"
      },
      "source": [
        "One - hot encoding of the output class."
      ]
    },
    {
      "cell_type": "code",
      "metadata": {
        "id": "ZG8JiXR39FHC",
        "colab_type": "code",
        "colab": {}
      },
      "source": [
        "# Convert 1-dimensional class arrays to 10-dimensional class matrices\n",
        "Y_train = np_utils.to_categorical(y_train, 10)\n",
        "Y_test = np_utils.to_categorical(y_test, 10)"
      ],
      "execution_count": 0,
      "outputs": []
    },
    {
      "cell_type": "code",
      "metadata": {
        "id": "fYlFRvKS9HMB",
        "colab_type": "code",
        "outputId": "6acfa8d3-2150-4df4-e827-ac4026ab2fb0",
        "colab": {
          "base_uri": "https://localhost:8080/",
          "height": 191
        }
      },
      "source": [
        "Y_train[:10]\n"
      ],
      "execution_count": 32,
      "outputs": [
        {
          "output_type": "execute_result",
          "data": {
            "text/plain": [
              "array([[0., 0., 0., 0., 0., 1., 0., 0., 0., 0.],\n",
              "       [1., 0., 0., 0., 0., 0., 0., 0., 0., 0.],\n",
              "       [0., 0., 0., 0., 1., 0., 0., 0., 0., 0.],\n",
              "       [0., 1., 0., 0., 0., 0., 0., 0., 0., 0.],\n",
              "       [0., 0., 0., 0., 0., 0., 0., 0., 0., 1.],\n",
              "       [0., 0., 1., 0., 0., 0., 0., 0., 0., 0.],\n",
              "       [0., 1., 0., 0., 0., 0., 0., 0., 0., 0.],\n",
              "       [0., 0., 0., 1., 0., 0., 0., 0., 0., 0.],\n",
              "       [0., 1., 0., 0., 0., 0., 0., 0., 0., 0.],\n",
              "       [0., 0., 0., 0., 1., 0., 0., 0., 0., 0.]], dtype=float32)"
            ]
          },
          "metadata": {
            "tags": []
          },
          "execution_count": 32
        }
      ]
    },
    {
      "cell_type": "markdown",
      "metadata": {
        "id": "lLwQOjN6pLnu",
        "colab_type": "text"
      },
      "source": [
        "This code chunk creates sequential model by stacking convolutions to build CNN\n",
        "\n",
        "Shape of channels in each layer\n",
        "\n",
        "1. 28X28X1      | 3X3X1X32            -> 26X26X32 </br>\n",
        "2. 26X26X1      | 1X1X32X10         -> 26X26X10</br> \n",
        "3. 26X26X10   | 26X26X10X10   -> 1X1X10</br>\n",
        "\n",
        "\n"
      ]
    },
    {
      "cell_type": "code",
      "metadata": {
        "id": "osKqT73Q9JJB",
        "colab_type": "code",
        "outputId": "95ad6ddd-472e-4b40-80e9-d59e184d6536",
        "colab": {
          "base_uri": "https://localhost:8080/",
          "height": 72
        }
      },
      "source": [
        "from keras.layers import Activation\n",
        "model = Sequential()\n",
        "\n",
        " \n",
        "model.add(Convolution2D(32, 3, 3, activation='relu', input_shape=(28,28,1)))\n",
        "model.add(Convolution2D(10, 1, activation='relu'))\n",
        "model.add(Convolution2D(10, 26))\n",
        "model.add(Flatten())\n",
        "model.add(Activation('softmax'))"
      ],
      "execution_count": 33,
      "outputs": [
        {
          "output_type": "stream",
          "text": [
            "/usr/local/lib/python3.6/dist-packages/ipykernel_launcher.py:5: UserWarning: Update your `Conv2D` call to the Keras 2 API: `Conv2D(32, (3, 3), activation=\"relu\", input_shape=(28, 28, 1...)`\n",
            "  \"\"\"\n"
          ],
          "name": "stderr"
        }
      ]
    },
    {
      "cell_type": "markdown",
      "metadata": {
        "id": "HEHnW04sp6FE",
        "colab_type": "text"
      },
      "source": [
        "When we see the model summary. The receptive field is 28, which is equal to  the size of the object. # of parameters is 68,000."
      ]
    },
    {
      "cell_type": "code",
      "metadata": {
        "id": "8w_1RTLw-_3b",
        "colab_type": "code",
        "outputId": "df61f3e3-ddc2-470a-beed-e391d8a340e4",
        "colab": {
          "base_uri": "https://localhost:8080/",
          "height": 312
        }
      },
      "source": [
        "model.summary()"
      ],
      "execution_count": 34,
      "outputs": [
        {
          "output_type": "stream",
          "text": [
            "_________________________________________________________________\n",
            "Layer (type)                 Output Shape              Param #   \n",
            "=================================================================\n",
            "conv2d_12 (Conv2D)           (None, 26, 26, 32)        320       \n",
            "_________________________________________________________________\n",
            "conv2d_13 (Conv2D)           (None, 26, 26, 10)        330       \n",
            "_________________________________________________________________\n",
            "conv2d_14 (Conv2D)           (None, 1, 1, 10)          67610     \n",
            "_________________________________________________________________\n",
            "flatten_3 (Flatten)          (None, 10)                0         \n",
            "_________________________________________________________________\n",
            "activation_3 (Activation)    (None, 10)                0         \n",
            "=================================================================\n",
            "Total params: 68,260\n",
            "Trainable params: 68,260\n",
            "Non-trainable params: 0\n",
            "_________________________________________________________________\n"
          ],
          "name": "stdout"
        }
      ]
    },
    {
      "cell_type": "markdown",
      "metadata": {
        "id": "nWU_TrFJqJvB",
        "colab_type": "text"
      },
      "source": [
        "Model is complied here with adam optimizer and categorical_crossentropy is set as the loss function."
      ]
    },
    {
      "cell_type": "code",
      "metadata": {
        "id": "oP7E20F1odMS",
        "colab_type": "code",
        "colab": {}
      },
      "source": [
        "model.compile(loss='categorical_crossentropy',\n",
        "             optimizer='adam',\n",
        "             metrics=['accuracy'])"
      ],
      "execution_count": 0,
      "outputs": []
    },
    {
      "cell_type": "markdown",
      "metadata": {
        "id": "BcJo2PvAqRNd",
        "colab_type": "text"
      },
      "source": [
        "**Model Fit:**\n",
        "\n",
        "*   Model for 10 Epocs (iterations on entire dataset)\n",
        "\n",
        "*  Each Epoch runs through the entire dataset once.\n",
        "\n",
        "*  Batch size 32 refers to number of images at each step. So we have (60000/32)1875 steps in each epoch\n",
        "\n",
        "\n",
        "\n",
        "\n",
        "    \n",
        "    ."
      ]
    },
    {
      "cell_type": "code",
      "metadata": {
        "id": "hXVNqVPZoeBi",
        "colab_type": "code",
        "outputId": "ba589c2d-a1f2-4a40-f654-018579ac156e",
        "colab": {
          "base_uri": "https://localhost:8080/",
          "height": 416
        }
      },
      "source": [
        "model.fit(X_train, Y_train, batch_size=64, nb_epoch=10, verbose=1)"
      ],
      "execution_count": 36,
      "outputs": [
        {
          "output_type": "stream",
          "text": [
            "/usr/local/lib/python3.6/dist-packages/ipykernel_launcher.py:1: UserWarning: The `nb_epoch` argument in `fit` has been renamed `epochs`.\n",
            "  \"\"\"Entry point for launching an IPython kernel.\n"
          ],
          "name": "stderr"
        },
        {
          "output_type": "stream",
          "text": [
            "Epoch 1/10\n",
            "60000/60000 [==============================] - 8s 138us/step - loss: 0.2608 - acc: 0.9264\n",
            "Epoch 2/10\n",
            "60000/60000 [==============================] - 8s 132us/step - loss: 0.0886 - acc: 0.9743\n",
            "Epoch 3/10\n",
            "60000/60000 [==============================] - 8s 131us/step - loss: 0.0626 - acc: 0.9815\n",
            "Epoch 4/10\n",
            "60000/60000 [==============================] - 8s 132us/step - loss: 0.0483 - acc: 0.9853\n",
            "Epoch 5/10\n",
            "60000/60000 [==============================] - 8s 132us/step - loss: 0.0388 - acc: 0.9879\n",
            "Epoch 6/10\n",
            "60000/60000 [==============================] - 8s 131us/step - loss: 0.0316 - acc: 0.9899\n",
            "Epoch 7/10\n",
            "60000/60000 [==============================] - 8s 132us/step - loss: 0.0266 - acc: 0.9915\n",
            "Epoch 8/10\n",
            "60000/60000 [==============================] - 8s 132us/step - loss: 0.0209 - acc: 0.9933\n",
            "Epoch 9/10\n",
            "60000/60000 [==============================] - 8s 132us/step - loss: 0.0176 - acc: 0.9947\n",
            "Epoch 10/10\n",
            "60000/60000 [==============================] - 8s 134us/step - loss: 0.0135 - acc: 0.9959\n"
          ],
          "name": "stdout"
        },
        {
          "output_type": "execute_result",
          "data": {
            "text/plain": [
              "<keras.callbacks.History at 0x7f1190fa1e48>"
            ]
          },
          "metadata": {
            "tags": []
          },
          "execution_count": 36
        }
      ]
    },
    {
      "cell_type": "markdown",
      "metadata": {
        "id": "V9VVMWAMsdoM",
        "colab_type": "text"
      },
      "source": [
        "\n",
        "**model.evaluate()**\n",
        "\n",
        "  Returns loss value and metrics of test data\n",
        "\n"
      ]
    },
    {
      "cell_type": "code",
      "metadata": {
        "id": "HVDiWZvcoehk",
        "colab_type": "code",
        "colab": {}
      },
      "source": [
        "score = model.evaluate(X_test, Y_test, verbose=0)"
      ],
      "execution_count": 0,
      "outputs": []
    },
    {
      "cell_type": "code",
      "metadata": {
        "id": "5Z1llEqRofAD",
        "colab_type": "code",
        "outputId": "965dd5e1-7b48-42ab-f948-b7c1b8e6396b",
        "colab": {
          "base_uri": "https://localhost:8080/",
          "height": 34
        }
      },
      "source": [
        "print(score)"
      ],
      "execution_count": 38,
      "outputs": [
        {
          "output_type": "stream",
          "text": [
            "[0.08568911729380997, 0.9791]\n"
          ],
          "name": "stdout"
        }
      ]
    },
    {
      "cell_type": "code",
      "metadata": {
        "id": "fRXsz9nMoQSj",
        "colab_type": "code",
        "colab": {}
      },
      "source": [
        "y_pred = model.predict(X_test)"
      ],
      "execution_count": 0,
      "outputs": []
    },
    {
      "cell_type": "code",
      "metadata": {
        "id": "06FqPQuFowzv",
        "colab_type": "code",
        "outputId": "abaea92a-c056-47a7-a6e8-6d6ef2e27b54",
        "colab": {
          "base_uri": "https://localhost:8080/",
          "height": 503
        }
      },
      "source": [
        "print(y_pred[:9])\n",
        "print(y_test[:9])"
      ],
      "execution_count": 40,
      "outputs": [
        {
          "output_type": "stream",
          "text": [
            "[[9.60567209e-19 1.71668101e-17 8.79819221e-13 1.06684539e-09\n",
            "  5.86821839e-21 2.00328798e-15 7.18376331e-25 1.00000000e+00\n",
            "  1.91600967e-13 4.69725214e-12]\n",
            " [9.10109401e-12 3.36501205e-09 1.00000000e+00 9.42948289e-11\n",
            "  8.29115177e-22 1.95250153e-11 1.18311601e-08 3.63435508e-23\n",
            "  8.81441323e-14 3.80413061e-20]\n",
            " [1.28448889e-07 9.99864817e-01 4.65513585e-05 1.93645588e-09\n",
            "  4.23989377e-06 1.93846091e-07 9.72598500e-08 8.03534931e-05\n",
            "  3.54604185e-06 1.22478735e-10]\n",
            " [9.99998808e-01 8.34638023e-13 1.04295043e-06 3.61432184e-13\n",
            "  3.23466907e-14 5.20375030e-13 9.63909841e-08 1.10355294e-10\n",
            "  1.43877044e-12 1.33067559e-12]\n",
            " [1.04686648e-10 8.61447112e-12 5.98737282e-09 1.66117198e-09\n",
            "  9.99999642e-01 6.23989140e-15 1.62235191e-11 3.07626769e-09\n",
            "  1.34822313e-08 2.89780132e-07]\n",
            " [3.54168450e-09 9.96649206e-01 4.24602467e-06 1.90383642e-09\n",
            "  1.82235294e-06 7.35042249e-10 1.84450144e-09 3.34083126e-03\n",
            "  3.80045412e-06 8.74437356e-10]\n",
            " [2.44420515e-16 5.90183724e-09 9.55767791e-06 4.52239329e-10\n",
            "  9.65570390e-01 3.23630047e-07 2.50936576e-12 2.75379018e-04\n",
            "  3.41378972e-02 6.50783250e-06]\n",
            " [3.67764633e-17 8.37334824e-09 3.38756330e-08 1.77515176e-08\n",
            "  3.08093540e-02 2.02956871e-05 3.35555850e-15 8.49598347e-09\n",
            "  2.46745140e-06 9.69167829e-01]\n",
            " [4.03729522e-10 1.25814888e-21 8.50591756e-15 3.97463052e-12\n",
            "  1.10250783e-15 8.53168368e-01 1.46830663e-01 1.47452208e-19\n",
            "  9.89679165e-07 2.56760000e-12]]\n",
            "[7 2 1 0 4 1 4 9 5]\n"
          ],
          "name": "stdout"
        }
      ]
    },
    {
      "cell_type": "markdown",
      "metadata": {
        "id": "_-sse120suX5",
        "colab_type": "text"
      },
      "source": [
        "***Problem Statement:***\n",
        "\n",
        "The task is to get 99.4% validation accuracy in the model.\n",
        "\n",
        "\n",
        "**Constraints:**\n",
        "\n",
        "*   Number of parameters should be less than 20000.\n",
        "*   Do not train the model for more than 15 epochs\n",
        "*   Do not use regularization techniques like Dropout or even LI, L2 regularization\n",
        "\n",
        "\n"
      ]
    },
    {
      "cell_type": "markdown",
      "metadata": {
        "id": "xHVCOvvvtHvd",
        "colab_type": "text"
      },
      "source": [
        "**Shape of channels in each layer**\n",
        "\n",
        "1.  28X28X1      | 3X3X1X8        -> 26X26X8 </br>\n",
        "2.  26X26X1      | 3X3X8X16       -> 24X24X16</br> \n",
        "3.  24X24X16     | 3X3X16X 32     -> 22X22X32</br>\n",
        "4.  22X22X32     ->maxpooling     -> 11X11X32</br>\n",
        "5.  11X11X32     | 1X1X32X10      -> 11X11X10</br>\n",
        "6.  11X11X10     | 3X3X10X16      -> 9X9X16</br>\n",
        "7.  9X9X16       | 3X3X16X16      -> 7X7X16</br>\n",
        "8.  7X7X16       | 1X1X16X10      -> 7X7X10</br>\n",
        "9.  7X7X10       | 7X7X10X10      ->1X1X10   \n",
        "\n",
        "\n"
      ]
    },
    {
      "cell_type": "code",
      "metadata": {
        "id": "Q4BGcirHAOIe",
        "colab_type": "code",
        "outputId": "8b5ac1ee-240b-4b42-b31c-a76918be08f8",
        "colab": {
          "base_uri": "https://localhost:8080/",
          "height": 211
        }
      },
      "source": [
        "model = Sequential()\n",
        "\n",
        "model.add(Convolution2D(8, 3, 3, activation='relu', input_shape=(28,28,1))) # 28X28X1 | 3X3X1X8 -> 26X26X8 | GRF - 3\n",
        "#CONVOLUTION BLOCK 1 BEGINS\n",
        "model.add(Convolution2D(16, 3,3, activation='relu')) #24X24X8 | 3X3X8X16 -> 22X22X16 | GRF - 7\n",
        "#CONVOLUTION BLOCK 1 ENDS\n",
        "model.add(Convolution2D(32, 3,3, activation='relu')) #24X24X16 | 3X3X16X32 -> 22X22X32 | GRF - 7\n",
        "#CONVOLUTION BLOCK 1 ENDS\n",
        "\n",
        "#TRANSITION BLOCK 1 BEGINS\n",
        "model.add(MaxPooling2D(pool_size=(2, 2)))            #24X24X32 ->Max Pooling -> 11X11X32 | GRF - 14\n",
        "model.add(Convolution2D(10, 1, activation='relu'))   #11X11X32 | 1X1X10 -> 11X11X10 | GRF - 14\n",
        "#TRANSITION BLOCK 1 ENDS\n",
        "\n",
        "#CONVOLUTION BLOCK 2 BEGINS\n",
        "model.add(Convolution2D(16, 3,3, activation='relu')) #11X11X10 | 3X3X10X16 -> 9X9X16 GRF -16\n",
        "model.add(Convolution2D(16, 3,3, activation='relu')) #9X9X16   | 3X3X16X16 -> 7X7X16 GRF -18\n",
        "model.add(Convolution2D(10, 1, activation='relu'))   #7X7X10   | 1X1X10X10 -> 7X7X10 GRF-18\n",
        "model.add(Convolution2D(10, 7,7))                    #7X7X10   | 3X3X10X10 -> 1X1X10 GRF-24\n",
        "#CONVOLUTION BLOCK 2 ENDS\n",
        "\n",
        "#model.add(Convolution2D(24, 3,3,activation='relu'))\n",
        "#model.add(Convolution2D(10, 3,3))\n",
        "model.add(Flatten())\n",
        "model.add(Activation('softmax'))"
      ],
      "execution_count": 41,
      "outputs": [
        {
          "output_type": "stream",
          "text": [
            "/usr/local/lib/python3.6/dist-packages/ipykernel_launcher.py:3: UserWarning: Update your `Conv2D` call to the Keras 2 API: `Conv2D(8, (3, 3), activation=\"relu\", input_shape=(28, 28, 1...)`\n",
            "  This is separate from the ipykernel package so we can avoid doing imports until\n",
            "/usr/local/lib/python3.6/dist-packages/ipykernel_launcher.py:5: UserWarning: Update your `Conv2D` call to the Keras 2 API: `Conv2D(16, (3, 3), activation=\"relu\")`\n",
            "  \"\"\"\n",
            "/usr/local/lib/python3.6/dist-packages/ipykernel_launcher.py:7: UserWarning: Update your `Conv2D` call to the Keras 2 API: `Conv2D(32, (3, 3), activation=\"relu\")`\n",
            "  import sys\n",
            "/usr/local/lib/python3.6/dist-packages/ipykernel_launcher.py:16: UserWarning: Update your `Conv2D` call to the Keras 2 API: `Conv2D(16, (3, 3), activation=\"relu\")`\n",
            "  app.launch_new_instance()\n",
            "/usr/local/lib/python3.6/dist-packages/ipykernel_launcher.py:17: UserWarning: Update your `Conv2D` call to the Keras 2 API: `Conv2D(16, (3, 3), activation=\"relu\")`\n",
            "/usr/local/lib/python3.6/dist-packages/ipykernel_launcher.py:19: UserWarning: Update your `Conv2D` call to the Keras 2 API: `Conv2D(10, (7, 7))`\n"
          ],
          "name": "stderr"
        }
      ]
    },
    {
      "cell_type": "code",
      "metadata": {
        "id": "TzdAYg1k9K7Z",
        "colab_type": "code",
        "outputId": "408423d4-cc47-4adc-b5bf-35192e455ad9",
        "colab": {
          "base_uri": "https://localhost:8080/",
          "height": 521
        }
      },
      "source": [
        "model.summary()"
      ],
      "execution_count": 42,
      "outputs": [
        {
          "output_type": "stream",
          "text": [
            "_________________________________________________________________\n",
            "Layer (type)                 Output Shape              Param #   \n",
            "=================================================================\n",
            "conv2d_15 (Conv2D)           (None, 26, 26, 8)         80        \n",
            "_________________________________________________________________\n",
            "conv2d_16 (Conv2D)           (None, 24, 24, 16)        1168      \n",
            "_________________________________________________________________\n",
            "conv2d_17 (Conv2D)           (None, 22, 22, 32)        4640      \n",
            "_________________________________________________________________\n",
            "max_pooling2d_2 (MaxPooling2 (None, 11, 11, 32)        0         \n",
            "_________________________________________________________________\n",
            "conv2d_18 (Conv2D)           (None, 11, 11, 10)        330       \n",
            "_________________________________________________________________\n",
            "conv2d_19 (Conv2D)           (None, 9, 9, 16)          1456      \n",
            "_________________________________________________________________\n",
            "conv2d_20 (Conv2D)           (None, 7, 7, 16)          2320      \n",
            "_________________________________________________________________\n",
            "conv2d_21 (Conv2D)           (None, 7, 7, 10)          170       \n",
            "_________________________________________________________________\n",
            "conv2d_22 (Conv2D)           (None, 1, 1, 10)          4910      \n",
            "_________________________________________________________________\n",
            "flatten_4 (Flatten)          (None, 10)                0         \n",
            "_________________________________________________________________\n",
            "activation_4 (Activation)    (None, 10)                0         \n",
            "=================================================================\n",
            "Total params: 15,074\n",
            "Trainable params: 15,074\n",
            "Non-trainable params: 0\n",
            "_________________________________________________________________\n"
          ],
          "name": "stdout"
        }
      ]
    },
    {
      "cell_type": "code",
      "metadata": {
        "id": "SWwW-FfBkK6o",
        "colab_type": "code",
        "colab": {}
      },
      "source": [
        "# Convert 1-dimensional class arrays to 10-dimensional class matrices\n",
        "Y_train = np_utils.to_categorical(y_train, 10)\n",
        "Y_test = np_utils.to_categorical(y_test, 10)"
      ],
      "execution_count": 0,
      "outputs": []
    },
    {
      "cell_type": "markdown",
      "metadata": {
        "id": "oxHo00T2uu__",
        "colab_type": "text"
      },
      "source": [
        "**Model.compile()**\n",
        "\n",
        "**Loss Function:** A loss function is used to optimize the parameter values in a neural network model. Loss functions map a set of parameter values for the network onto a scalar value that indicates how well those parameter accomplish the task the network is intended to do.\n",
        "\n",
        "**Optimizer:** This step selects an optimizer algorithm that manipulates the learning rate per time-step so as to update the weights in a manner that does not lead to a swinging behaviour around the minimum\n",
        "\n"
      ]
    },
    {
      "cell_type": "code",
      "metadata": {
        "id": "l4AXjloBzazy",
        "colab_type": "code",
        "colab": {}
      },
      "source": [
        "optimizer = optimizer=keras.optimizers.adam(lr=.001)\n",
        "\n",
        "model.compile(loss='categorical_crossentropy',\n",
        "             optimizer=optimizer,\n",
        "             metrics=['accuracy'])"
      ],
      "execution_count": 0,
      "outputs": []
    },
    {
      "cell_type": "code",
      "metadata": {
        "id": "4xWoKhPY9Of5",
        "colab_type": "code",
        "outputId": "f3fce3a1-ae69-4bcc-913b-c1f355437608",
        "colab": {
          "base_uri": "https://localhost:8080/",
          "height": 607
        }
      },
      "source": [
        "model.fit(X_train, Y_train,  batch_size=64, validation_data=(X_test,Y_test),nb_epoch=15, verbose=1)"
      ],
      "execution_count": 45,
      "outputs": [
        {
          "output_type": "stream",
          "text": [
            "/usr/local/lib/python3.6/dist-packages/ipykernel_launcher.py:1: UserWarning: The `nb_epoch` argument in `fit` has been renamed `epochs`.\n",
            "  \"\"\"Entry point for launching an IPython kernel.\n"
          ],
          "name": "stderr"
        },
        {
          "output_type": "stream",
          "text": [
            "Train on 60000 samples, validate on 10000 samples\n",
            "Epoch 1/15\n",
            "60000/60000 [==============================] - 14s 231us/step - loss: 0.2479 - acc: 0.9242 - val_loss: 0.0691 - val_acc: 0.9767\n",
            "Epoch 2/15\n",
            "60000/60000 [==============================] - 13s 216us/step - loss: 0.0750 - acc: 0.9774 - val_loss: 0.0424 - val_acc: 0.9856\n",
            "Epoch 3/15\n",
            "60000/60000 [==============================] - 13s 216us/step - loss: 0.0559 - acc: 0.9825 - val_loss: 0.0428 - val_acc: 0.9855\n",
            "Epoch 4/15\n",
            "60000/60000 [==============================] - 13s 216us/step - loss: 0.0445 - acc: 0.9860 - val_loss: 0.0379 - val_acc: 0.9872\n",
            "Epoch 5/15\n",
            "60000/60000 [==============================] - 13s 215us/step - loss: 0.0397 - acc: 0.9880 - val_loss: 0.0465 - val_acc: 0.9849\n",
            "Epoch 6/15\n",
            "60000/60000 [==============================] - 13s 216us/step - loss: 0.0329 - acc: 0.9899 - val_loss: 0.0410 - val_acc: 0.9872\n",
            "Epoch 7/15\n",
            "60000/60000 [==============================] - 13s 217us/step - loss: 0.0309 - acc: 0.9903 - val_loss: 0.0272 - val_acc: 0.9914\n",
            "Epoch 8/15\n",
            "60000/60000 [==============================] - 13s 214us/step - loss: 0.0261 - acc: 0.9918 - val_loss: 0.0309 - val_acc: 0.9899\n",
            "Epoch 9/15\n",
            "60000/60000 [==============================] - 13s 214us/step - loss: 0.0236 - acc: 0.9925 - val_loss: 0.0419 - val_acc: 0.9872\n",
            "Epoch 10/15\n",
            "60000/60000 [==============================] - 13s 215us/step - loss: 0.0219 - acc: 0.9926 - val_loss: 0.0376 - val_acc: 0.9887\n",
            "Epoch 11/15\n",
            "60000/60000 [==============================] - 13s 215us/step - loss: 0.0199 - acc: 0.9936 - val_loss: 0.0385 - val_acc: 0.9870\n",
            "Epoch 12/15\n",
            "60000/60000 [==============================] - 13s 214us/step - loss: 0.0191 - acc: 0.9940 - val_loss: 0.0342 - val_acc: 0.9902\n",
            "Epoch 13/15\n",
            "60000/60000 [==============================] - 13s 214us/step - loss: 0.0174 - acc: 0.9943 - val_loss: 0.0353 - val_acc: 0.9901\n",
            "Epoch 14/15\n",
            "60000/60000 [==============================] - 13s 214us/step - loss: 0.0153 - acc: 0.9949 - val_loss: 0.0396 - val_acc: 0.9896\n",
            "Epoch 15/15\n",
            "60000/60000 [==============================] - 13s 214us/step - loss: 0.0143 - acc: 0.9954 - val_loss: 0.0389 - val_acc: 0.9894\n"
          ],
          "name": "stdout"
        },
        {
          "output_type": "execute_result",
          "data": {
            "text/plain": [
              "<keras.callbacks.History at 0x7f1190303dd8>"
            ]
          },
          "metadata": {
            "tags": []
          },
          "execution_count": 45
        }
      ]
    },
    {
      "cell_type": "code",
      "metadata": {
        "id": "VMZdTV8H5WRk",
        "colab_type": "code",
        "colab": {}
      },
      "source": [
        "score = model.evaluate(X_test, Y_test, verbose=0)[1]"
      ],
      "execution_count": 0,
      "outputs": []
    },
    {
      "cell_type": "code",
      "metadata": {
        "id": "LhdZi3Ji5fhG",
        "colab_type": "code",
        "outputId": "294a5441-6549-498d-ca4c-5f723907003e",
        "colab": {
          "base_uri": "https://localhost:8080/",
          "height": 34
        }
      },
      "source": [
        "print(score)"
      ],
      "execution_count": 47,
      "outputs": [
        {
          "output_type": "stream",
          "text": [
            "0.9894\n"
          ],
          "name": "stdout"
        }
      ]
    },
    {
      "cell_type": "markdown",
      "metadata": {
        "id": "O_hUVLwnJBTH",
        "colab_type": "text"
      },
      "source": [
        "**Image Augumentation:**\n",
        "\n",
        "The simplest way to reduce overfitting is to increase the size of the training data. In machine learning, we were not able to increase the size of training data as the labeled data was too costly. \n",
        "\n",
        "Data augmentation is a technique to artificially create new training data from existing training data.Image data augmentation is perhaps the most well-known type of data augmentation and involves creating transformed versions of images in the training dataset that belong to the same class as the original image.Transforms include a range of operations from the field of image manipulation, such as shifts, flips, zooms, and much more.Example : A horizontal flip of a picture of a cat may make sense, because the photo could have been taken from the left or right.\n",
        "\n",
        "\n",
        "**Note:** *Image data augmentation is typically only applied to the training dataset, and not to the validation or test dataset.*"
      ]
    },
    {
      "cell_type": "code",
      "metadata": {
        "id": "Ypil-ikr5hh5",
        "colab_type": "code",
        "colab": {}
      },
      "source": [
        "from keras.preprocessing.image import ImageDataGenerator\n",
        "datagen = ImageDataGenerator(rotation_range=10,zoom_range=0.1,width_shift_range=0.1,height_shift_range=0.1)\n",
        "datagen.fit(X_train)"
      ],
      "execution_count": 0,
      "outputs": []
    },
    {
      "cell_type": "markdown",
      "metadata": {
        "id": "h0nALr7UPPoM",
        "colab_type": "text"
      },
      "source": [
        "**Callbacks:**\n",
        "\n",
        "The callbacks operate separately from the optimization algorithm, although they adjust the learning rate used by the optimization algorithm. Callbacks are instantiated and configured, then specified in a list to the “callbacks” argument of the fit() function when training the model.\n",
        "\n",
        "Here, we have used callbacks for two reasons:\n",
        "\n",
        "\n",
        "\n",
        "*   Early Stopping once we achieve a validation accuracy of 99.41%.\n",
        "*   Display the Validation Loss and Validation Accuracy.\n",
        "\n"
      ]
    },
    {
      "cell_type": "code",
      "metadata": {
        "id": "BhE2rpDb3f4P",
        "colab_type": "code",
        "colab": {}
      },
      "source": [
        "from keras import callbacks\n",
        "from keras.callbacks import ProgbarLogger\n",
        "class ValOnlyProgbarLogger(ProgbarLogger):\n",
        "    def __init__(self, verbose, count_mode='steps'):\n",
        "        # Ignore the `verbose` argument specified in `fit()` and pass `count_mode` upstream\n",
        "        self.verbose = verbose\n",
        "        super(ValOnlyProgbarLogger, self).__init__(count_mode)\n",
        "\n",
        "    def on_train_begin(self, logs=None):\n",
        "        # filter out the training metrics\n",
        "        self.params['metrics'] = [m for m in self.params['metrics'] if m.startswith('val_')]\n",
        "        self.epochs = self.params['epochs']\n",
        "\n",
        "class EarlyStopByacc(keras.callbacks.Callback):\n",
        "    def __init__(self, value = 0, verbose = 0):\n",
        "        super(keras.callbacks.Callback, self).__init__()\n",
        "        self.value = value\n",
        "        self.verbose = verbose\n",
        "\n",
        "\n",
        "    def on_epoch_end(self, epoch, logs={}):\n",
        "         score = model.evaluate(X_test, Y_test, verbose=0)[1]\n",
        "         if score > self.value:\n",
        "            print(\"Epoch %05d: early stopping Threshold\" % epoch)\n",
        "            self.model.stop_training = True"
      ],
      "execution_count": 0,
      "outputs": []
    },
    {
      "cell_type": "markdown",
      "metadata": {
        "id": "rJ1OVKODhhWN",
        "colab_type": "text"
      },
      "source": [
        "**Model.fit_generator:**\n",
        " \n",
        "In fit_generator we generate 750(steps_per_epoch) * 512 (batch_size) =  384,000 images for each epoch.\n",
        "\n",
        "One great advantage about fit_generator() besides saving memory is user can integrate random augmentation inside the generator, so it will always provide model with new data to train on the fly.\n",
        "\n",
        "**flow()** : The ImageDataGenerator object has a method called flow that takes three parameters - Training Images(Xs), Training Labels (Ys) and a batch size - and returns a python generator that yields batch of batch_size elements picked from the training images and therafter transformed randomly according to the parameters passed to the ImageDataGenerator object."
      ]
    },
    {
      "cell_type": "code",
      "metadata": {
        "id": "OYq0cIeA5hLP",
        "colab_type": "code",
        "outputId": "392684ee-407d-4526-f2c5-b227bc8b930c",
        "colab": {
          "base_uri": "https://localhost:8080/",
          "height": 260
        }
      },
      "source": [
        "       \n",
        "model.fit_generator(datagen.flow(X_train, Y_train, batch_size=512),validation_data=(X_test,Y_test),steps_per_epoch=750, epochs=15,verbose=0, callbacks=[ValOnlyProgbarLogger(verbose=1),EarlyStopByacc(value = .994, verbose =1)])\n"
      ],
      "execution_count": 50,
      "outputs": [
        {
          "output_type": "stream",
          "text": [
            "Epoch 1/15\n",
            "750/750 [==============================] - 113s 150ms/step - val_loss: 0.0270 - val_acc: 0.9922\n",
            "Epoch 2/15\n",
            "750/750 [==============================] - 111s 147ms/step - val_loss: 0.0213 - val_acc: 0.9936\n",
            "Epoch 3/15\n",
            "750/750 [==============================] - 111s 148ms/step - val_loss: 0.0228 - val_acc: 0.9924\n",
            "Epoch 4/15\n",
            "750/750 [==============================] - 112s 149ms/step - val_loss: 0.0204 - val_acc: 0.9939\n",
            "Epoch 5/15\n",
            "750/750 [==============================] - 112s 149ms/step - val_loss: 0.0204 - val_acc: 0.9932\n",
            "Epoch 6/15\n",
            "750/750 [==============================] - 114s 152ms/step - val_loss: 0.0193 - val_acc: 0.9941\n",
            "Epoch 00005: early stopping Threshold\n"
          ],
          "name": "stdout"
        },
        {
          "output_type": "execute_result",
          "data": {
            "text/plain": [
              "<keras.callbacks.History at 0x7f1151c2e6a0>"
            ]
          },
          "metadata": {
            "tags": []
          },
          "execution_count": 50
        }
      ]
    },
    {
      "cell_type": "code",
      "metadata": {
        "id": "AtsH-lLk-eLb",
        "colab_type": "code",
        "colab": {
          "base_uri": "https://localhost:8080/",
          "height": 34
        },
        "outputId": "3774323a-162e-45ed-a047-6d9487869a7f"
      },
      "source": [
        "score = model.evaluate(X_test, Y_test, verbose=1)"
      ],
      "execution_count": 51,
      "outputs": [
        {
          "output_type": "stream",
          "text": [
            "10000/10000 [==============================] - 1s 107us/step\n"
          ],
          "name": "stdout"
        }
      ]
    },
    {
      "cell_type": "code",
      "metadata": {
        "id": "mkX8JMv79q9r",
        "colab_type": "code",
        "colab": {
          "base_uri": "https://localhost:8080/",
          "height": 34
        },
        "outputId": "a59db19f-84f7-46a1-f087-ea68ad2dfa0f"
      },
      "source": [
        "print(score)"
      ],
      "execution_count": 52,
      "outputs": [
        {
          "output_type": "stream",
          "text": [
            "[0.019341330530797132, 0.9941]\n"
          ],
          "name": "stdout"
        }
      ]
    },
    {
      "cell_type": "code",
      "metadata": {
        "id": "OCWoJkwE9suh",
        "colab_type": "code",
        "colab": {}
      },
      "source": [
        "y_pred = model.predict(X_test)"
      ],
      "execution_count": 0,
      "outputs": []
    },
    {
      "cell_type": "code",
      "metadata": {
        "id": "Ym7iCFBm9uBs",
        "colab_type": "code",
        "colab": {}
      },
      "source": [
        "print(y_pred[:9])\n",
        "print(y_test[:9])"
      ],
      "execution_count": 0,
      "outputs": []
    },
    {
      "cell_type": "markdown",
      "metadata": {
        "id": "H65_VfDdBeBa",
        "colab_type": "text"
      },
      "source": [
        "**Kernel Extract (Feature Maps):**\n",
        "\n",
        "The below code is to visualize the extract of the kernel of each layer from the convolution layer. With this we could find when the edges are formed so that max pooling could be exactly applied at that point. "
      ]
    },
    {
      "cell_type": "code",
      "metadata": {
        "id": "2GY4Upv4dsUR",
        "colab_type": "code",
        "colab": {
          "base_uri": "https://localhost:8080/",
          "height": 778
        },
        "outputId": "f8a72245-07b4-4d1d-8177-e458a5cb3998"
      },
      "source": [
        "layer_dict = dict([(layer.name, layer) for layer in model.layers])\n",
        "print(layer_dict)\n",
        "import numpy as np\n",
        "from matplotlib import pyplot as plt\n",
        "from keras import backend as K\n",
        "\n",
        "layer_dict = dict([(layer.name, layer) for layer in model.layers])\n",
        "%matplotlib inline\n",
        "# util function to convert a tensor into a valid image\n",
        "def deprocess_image(x):\n",
        "    # normalize tensor: center on 0., ensure std is 0.1\n",
        "    x -= x.mean()\n",
        "    x /= (x.std() + 1e-5)\n",
        "    x *= 0.1\n",
        "\n",
        "    # clip to [0, 1]\n",
        "    x += 0.5\n",
        "    x = np.clip(x, 0, 1)\n",
        "\n",
        "    # convert to RGB array\n",
        "    x *= 255\n",
        "    #x = x.transpose((1, 2, 0))\n",
        "    x = np.clip(x, 0, 255).astype('uint8')\n",
        "    return x\n",
        "\n",
        "def vis_img_in_filter(img = np.array(X_train[2]).reshape((1, 28, 28, 1)).astype(np.float64), \n",
        "                      layer_name = 'conv2d_16'):\n",
        "  \n",
        "    layer_output = layer_dict[layer_name].output\n",
        "    img_ascs = list()\n",
        "    for filter_index in range(layer_output.shape[3]):\n",
        "        # build a loss function that maximizes the activation\n",
        "        # of the nth filter of the layer considered\n",
        "        loss = K.mean(layer_output[:, :, :, filter_index])\n",
        "\n",
        "        # compute the gradient of the input picture wrt this loss\n",
        "        grads = K.gradients(loss, model.input)[0]\n",
        "\n",
        "        # normalization trick: we normalize the gradient\n",
        "        grads /= (K.sqrt(K.mean(K.square(grads))) + 1e-5)\n",
        "\n",
        "        # this function returns the loss and grads given the input picture\n",
        "        iterate = K.function([model.input], [loss, grads])\n",
        "\n",
        "        # step size for gradient ascent\n",
        "        step = 5.\n",
        "\n",
        "        img_asc = np.array(img)\n",
        "        # run gradient ascent for 20 steps\n",
        "        for i in range(20):\n",
        "            loss_value, grads_value = iterate([img_asc])\n",
        "            img_asc += grads_value * step\n",
        "\n",
        "        img_asc = img_asc[0]\n",
        "        img_ascs.append(deprocess_image(img_asc).reshape((28, 28)))\n",
        "        \n",
        "    if layer_output.shape[3] >= 35:\n",
        "        plot_x, plot_y = 6, 6\n",
        "    elif layer_output.shape[3] >= 23:\n",
        "        plot_x, plot_y = 4, 6\n",
        "    elif layer_output.shape[3] >= 11:\n",
        "        plot_x, plot_y = 2, 6\n",
        "    else:\n",
        "        plot_x, plot_y = 1, 2\n",
        "    fig, ax = plt.subplots(plot_x, plot_y, figsize = (12, 12))\n",
        "    ax[0, 0].imshow(img.reshape((28, 28)), cmap = 'gray')\n",
        "    ax[0, 0].set_title('Input image')\n",
        "    fig.suptitle('Input image and %s filters' % (layer_name,))\n",
        "    fig.tight_layout(pad = 0.3, rect = [0, 0, 0.9, 0.9])\n",
        "    for (x, y) in [(i, j) for i in range(plot_x) for j in range(plot_y)]:\n",
        "        if x == 0 and y == 0:\n",
        "            continue\n",
        "        ax[x, y].imshow(img_ascs[x * plot_y + y - 1], cmap = 'gray')\n",
        "        ax[x, y].set_title('filter %d' % (x * plot_y + y - 1))\n",
        "\n",
        "vis_img_in_filter()"
      ],
      "execution_count": 53,
      "outputs": [
        {
          "output_type": "stream",
          "text": [
            "{'conv2d_15': <keras.layers.convolutional.Conv2D object at 0x7f1190353048>, 'conv2d_16': <keras.layers.convolutional.Conv2D object at 0x7f11903530b8>, 'conv2d_17': <keras.layers.convolutional.Conv2D object at 0x7f1190353198>, 'max_pooling2d_2': <keras.layers.pooling.MaxPooling2D object at 0x7f11902dcdd8>, 'conv2d_18': <keras.layers.convolutional.Conv2D object at 0x7f11903533c8>, 'conv2d_19': <keras.layers.convolutional.Conv2D object at 0x7f11902dc908>, 'conv2d_20': <keras.layers.convolutional.Conv2D object at 0x7f1190270f60>, 'conv2d_21': <keras.layers.convolutional.Conv2D object at 0x7f119028b048>, 'conv2d_22': <keras.layers.convolutional.Conv2D object at 0x7f1190222550>, 'flatten_4': <keras.layers.core.Flatten object at 0x7f119024d940>, 'activation_4': <keras.layers.core.Activation object at 0x7f119024de80>}\n"
          ],
          "name": "stdout"
        },
        {
          "output_type": "display_data",
          "data": {
            "image/png": "[encoded data removed]",
            "text/plain": [
              "<Figure size 864x864 with 12 Axes>"
            ]
          },
          "metadata": {
            "tags": []
          }
        }
      ]
    }
  ]
}