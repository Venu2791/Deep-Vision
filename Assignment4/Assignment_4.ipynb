{
  "nbformat": 4,
  "nbformat_minor": 0,
  "metadata": {
    "colab": {
      "name": "0820Assignment 4.ipynb",
      "version": "0.3.2",
      "provenance": [],
      "collapsed_sections": [],
      "include_colab_link": true
    },
    "kernelspec": {
      "name": "python3",
      "display_name": "Python 3"
    },
    "accelerator": "GPU"
  },
  "cells": [
    {
      "cell_type": "markdown",
      "metadata": {
        "id": "view-in-github",
        "colab_type": "text"
      },
      "source": [
        "<a href=\"https://colab.research.google.com/github/Venu2791/Deep-Vision/blob/master/Assignment4/Assignment_4.ipynb\" target=\"_parent\"><img src=\"https://colab.research.google.com/assets/colab-badge.svg\" alt=\"Open In Colab\"/></a>"
      ]
    },
    {
      "cell_type": "markdown",
      "metadata": {
        "id": "aNyZv-Ec52ot",
        "colab_type": "text"
      },
      "source": [
        "# **Import Libraries and modules**"
      ]
    },
    {
      "cell_type": "code",
      "metadata": {
        "id": "3m3w1Cw49Zkt",
        "colab_type": "code",
        "colab": {
          "base_uri": "https://localhost:8080/",
          "height": 34
        },
        "outputId": "ff021bcf-d1ca-45c5-cea6-b87edd4ced7b"
      },
      "source": [
        "# https://keras.io/\n",
        "!pip install -q keras\n",
        "import keras\n",
        "!pip install -q keras-vis\n",
        "import vis\n",
        "!pip install -q clr "
      ],
      "execution_count": 3,
      "outputs": [
        {
          "output_type": "stream",
          "text": [
            "Using TensorFlow backend.\n"
          ],
          "name": "stderr"
        }
      ]
    },
    {
      "cell_type": "markdown",
      "metadata": {
        "id": "HfvTxLsNnAlW",
        "colab_type": "text"
      },
      "source": [
        "Importing Different different classes in keras for building CNN"
      ]
    },
    {
      "cell_type": "code",
      "metadata": {
        "id": "Eso6UHE080D4",
        "colab_type": "code",
        "colab": {}
      },
      "source": [
        "import numpy as np\n",
        "\n",
        "from keras.models import Sequential\n",
        "from keras.layers import Dense, Dropout, Activation, Flatten, Add,BatchNormalization\n",
        "from keras.layers import Convolution2D, MaxPooling2D,GlobalAveragePooling2D\n",
        "from keras.utils import np_utils\n",
        "\n",
        "from keras.datasets import mnist"
      ],
      "execution_count": 0,
      "outputs": []
    },
    {
      "cell_type": "markdown",
      "metadata": {
        "id": "zByEi95J86RD",
        "colab_type": "text"
      },
      "source": [
        "### Load pre-shuffled MNIST data into train and test sets"
      ]
    },
    {
      "cell_type": "code",
      "metadata": {
        "id": "7eRM0QWN83PV",
        "colab_type": "code",
        "colab": {
          "base_uri": "https://localhost:8080/",
          "height": 51
        },
        "outputId": "cdf7544e-4b13-4d3b-9041-e9c563bf89ed"
      },
      "source": [
        "(X_train, y_train), (X_test, y_test) = mnist.load_data()"
      ],
      "execution_count": 5,
      "outputs": [
        {
          "output_type": "stream",
          "text": [
            "Downloading data from https://s3.amazonaws.com/img-datasets/mnist.npz\n",
            "11493376/11490434 [==============================] - 1s 0us/step\n"
          ],
          "name": "stdout"
        }
      ]
    },
    {
      "cell_type": "markdown",
      "metadata": {
        "id": "Eckyl943nF48",
        "colab_type": "text"
      },
      "source": [
        "\n",
        "Importing matplotlib and plotting a sample image from train dataset"
      ]
    },
    {
      "cell_type": "code",
      "metadata": {
        "id": "4a4Be72j8-ZC",
        "colab_type": "code",
        "outputId": "9b1a4760-07bb-43d7-dfe9-287ee674b67f",
        "colab": {
          "base_uri": "https://localhost:8080/",
          "height": 303
        }
      },
      "source": [
        "print (X_train.shape)\n",
        "from matplotlib import pyplot as plt\n",
        "%matplotlib inline\n",
        "plt.imshow(X_train[0])"
      ],
      "execution_count": 6,
      "outputs": [
        {
          "output_type": "stream",
          "text": [
            "(60000, 28, 28)\n"
          ],
          "name": "stdout"
        },
        {
          "output_type": "execute_result",
          "data": {
            "text/plain": [
              "<matplotlib.image.AxesImage at 0x7fdeae1795c0>"
            ]
          },
          "metadata": {
            "tags": []
          },
          "execution_count": 6
        },
        {
          "output_type": "display_data",
          "data": {
            "image/png": "[encoded data removed]",
            "text/plain": [
              "<Figure size 432x288 with 1 Axes>"
            ]
          },
          "metadata": {
            "tags": []
          }
        }
      ]
    },
    {
      "cell_type": "markdown",
      "metadata": {
        "id": "7CsWqOIRnMCR",
        "colab_type": "text"
      },
      "source": [
        "\n",
        "Changing shape of the image to keep it in gray scale.\n"
      ]
    },
    {
      "cell_type": "code",
      "metadata": {
        "id": "dkmprriw9AnZ",
        "colab_type": "code",
        "colab": {}
      },
      "source": [
        "X_train = X_train.reshape(X_train.shape[0], 28, 28,1)\n",
        "X_test = X_test.reshape(X_test.shape[0], 28, 28,1)"
      ],
      "execution_count": 0,
      "outputs": []
    },
    {
      "cell_type": "markdown",
      "metadata": {
        "id": "uK0960eDoH4g",
        "colab_type": "text"
      },
      "source": [
        "Convert the data to float type"
      ]
    },
    {
      "cell_type": "code",
      "metadata": {
        "id": "X2m4YS4E9CRh",
        "colab_type": "code",
        "colab": {}
      },
      "source": [
        "X_train = X_train.astype('float32')\n",
        "X_test = X_test.astype('float32')\n",
        "X_train /= 255\n",
        "X_test /= 255"
      ],
      "execution_count": 0,
      "outputs": []
    },
    {
      "cell_type": "code",
      "metadata": {
        "id": "0Mn0vAYD9DvB",
        "colab_type": "code",
        "outputId": "3314143f-6815-4714-e591-3098e75bca64",
        "colab": {
          "base_uri": "https://localhost:8080/",
          "height": 34
        }
      },
      "source": [
        "y_train[:10]"
      ],
      "execution_count": 9,
      "outputs": [
        {
          "output_type": "execute_result",
          "data": {
            "text/plain": [
              "array([5, 0, 4, 1, 9, 2, 1, 3, 1, 4], dtype=uint8)"
            ]
          },
          "metadata": {
            "tags": []
          },
          "execution_count": 9
        }
      ]
    },
    {
      "cell_type": "markdown",
      "metadata": {
        "id": "UCtCnSGjpG78",
        "colab_type": "text"
      },
      "source": [
        "One - hot encoding of the output class."
      ]
    },
    {
      "cell_type": "code",
      "metadata": {
        "id": "ZG8JiXR39FHC",
        "colab_type": "code",
        "colab": {}
      },
      "source": [
        "# Convert 1-dimensional class arrays to 10-dimensional class matrices\n",
        "Y_train = np_utils.to_categorical(y_train, 10)\n",
        "Y_test = np_utils.to_categorical(y_test, 10)"
      ],
      "execution_count": 0,
      "outputs": []
    },
    {
      "cell_type": "code",
      "metadata": {
        "id": "fYlFRvKS9HMB",
        "colab_type": "code",
        "outputId": "39d7479d-730f-45bf-e57e-74937f8a15cf",
        "colab": {
          "base_uri": "https://localhost:8080/",
          "height": 187
        }
      },
      "source": [
        "Y_train[:10]\n"
      ],
      "execution_count": 11,
      "outputs": [
        {
          "output_type": "execute_result",
          "data": {
            "text/plain": [
              "array([[0., 0., 0., 0., 0., 1., 0., 0., 0., 0.],\n",
              "       [1., 0., 0., 0., 0., 0., 0., 0., 0., 0.],\n",
              "       [0., 0., 0., 0., 1., 0., 0., 0., 0., 0.],\n",
              "       [0., 1., 0., 0., 0., 0., 0., 0., 0., 0.],\n",
              "       [0., 0., 0., 0., 0., 0., 0., 0., 0., 1.],\n",
              "       [0., 0., 1., 0., 0., 0., 0., 0., 0., 0.],\n",
              "       [0., 1., 0., 0., 0., 0., 0., 0., 0., 0.],\n",
              "       [0., 0., 0., 1., 0., 0., 0., 0., 0., 0.],\n",
              "       [0., 1., 0., 0., 0., 0., 0., 0., 0., 0.],\n",
              "       [0., 0., 0., 0., 1., 0., 0., 0., 0., 0.]], dtype=float32)"
            ]
          },
          "metadata": {
            "tags": []
          },
          "execution_count": 11
        }
      ]
    },
    {
      "cell_type": "markdown",
      "metadata": {
        "id": "_-sse120suX5",
        "colab_type": "text"
      },
      "source": [
        "***Problem Statement:***\n",
        "\n",
        "The task is to get 99.4% validation accuracy in the model.\n",
        "\n",
        "\n",
        "**Constraints:**\n",
        "\n",
        "*   Number of parameters should be less than 15000.\n",
        "*   Start from a Vanilla DNN. \n",
        "\n",
        "\n",
        "\n"
      ]
    },
    {
      "cell_type": "markdown",
      "metadata": {
        "id": "xHVCOvvvtHvd",
        "colab_type": "text"
      },
      "source": [
        "## **Step 1**\n",
        "\n",
        "First, we start with a vanilla DNN, the objective here is ro fix the archietecture for the problem statement.\n",
        "\n",
        "**Architecture:**\n",
        "\n",
        "Network has 8 Convolution layers, which inturn placed in 2 blocks and one max pooling layer (Transition layer). The network has 13,664 parameters. For each layer, the convoultion and receptive field is shown below.\n",
        "\n",
        "\n"
      ]
    },
    {
      "cell_type": "code",
      "metadata": {
        "id": "c4XhRkwM8dsF",
        "colab_type": "code",
        "outputId": "4bc3aaea-ec47-4882-bf8a-1cd21ca0f455",
        "colab": {
          "base_uri": "https://localhost:8080/",
          "height": 187
        }
      },
      "source": [
        "model = Sequential()\n",
        "\n",
        "model.add(Convolution2D(8, 3, 3, activation='relu', input_shape=(28,28,1))) # 28X28X1 | 3X3X1X8 -> 26X26X8 | GRF - 3\n",
        "\n",
        "#CONVOLUTION BLOCK 1 BEGINS\n",
        "model.add(Convolution2D(16, 3,3, activation='relu')) #26X26X8 | 3X3X8X16 -> 24X24X16 | GRF - 5\n",
        "model.add(Convolution2D(32, 3,3, activation='relu')) #24X24X16 | 3X3X16X32 -> 22X22X32 | GRF - 7\n",
        "#CONVOLUTION BLOCK 1 ENDS\n",
        "\n",
        "#TRANSITION BLOCK 1 BEGINS\n",
        "model.add(MaxPooling2D(pool_size=(2, 2)))            #22X22X32 ->Max Pooling -> 11X11X32 | GRF - 14\n",
        "model.add(Convolution2D(10, 1, activation='relu'))   #11X11X32 | 1X1X10 -> 11X11X10 | GRF - 14\n",
        "#TRANSITION BLOCK 1 ENDS\n",
        "\n",
        "#CONVOLUTION BLOCK 2 BEGINS\n",
        "model.add(Convolution2D(10, 3,3, activation='relu'))#11X11X10 | 3X3X10X10 -> 9X9X10 GRF -16\n",
        "model.add(Convolution2D(16, 3,3, activation='relu')) #9X9X10   | 3X3X10X16 -> 7X7X16 GRF -18\n",
        "model.add(Convolution2D(10, 1, activation='relu'))   #7X7X16   | 1X1X10X10 -> 7X7X10 GRF-18\n",
        "model.add(Convolution2D(10, 7,7))                    #7X7X10   | 3X3X10X10 -> 1X1X10 GRF-24\n",
        "#CONVOLUTION BLOCK 2 ENDS\n",
        "\n",
        "model.add(Flatten())\n",
        "model.add(Activation('softmax'))"
      ],
      "execution_count": 40,
      "outputs": [
        {
          "output_type": "stream",
          "text": [
            "/usr/local/lib/python3.6/dist-packages/ipykernel_launcher.py:3: UserWarning: Update your `Conv2D` call to the Keras 2 API: `Conv2D(8, (3, 3), activation=\"relu\", input_shape=(28, 28, 1...)`\n",
            "  This is separate from the ipykernel package so we can avoid doing imports until\n",
            "/usr/local/lib/python3.6/dist-packages/ipykernel_launcher.py:6: UserWarning: Update your `Conv2D` call to the Keras 2 API: `Conv2D(16, (3, 3), activation=\"relu\")`\n",
            "  \n",
            "/usr/local/lib/python3.6/dist-packages/ipykernel_launcher.py:7: UserWarning: Update your `Conv2D` call to the Keras 2 API: `Conv2D(32, (3, 3), activation=\"relu\")`\n",
            "  import sys\n",
            "/usr/local/lib/python3.6/dist-packages/ipykernel_launcher.py:16: UserWarning: Update your `Conv2D` call to the Keras 2 API: `Conv2D(10, (3, 3), activation=\"relu\")`\n",
            "  app.launch_new_instance()\n",
            "/usr/local/lib/python3.6/dist-packages/ipykernel_launcher.py:17: UserWarning: Update your `Conv2D` call to the Keras 2 API: `Conv2D(16, (3, 3), activation=\"relu\")`\n",
            "/usr/local/lib/python3.6/dist-packages/ipykernel_launcher.py:19: UserWarning: Update your `Conv2D` call to the Keras 2 API: `Conv2D(10, (7, 7))`\n"
          ],
          "name": "stderr"
        }
      ]
    },
    {
      "cell_type": "code",
      "metadata": {
        "id": "TzdAYg1k9K7Z",
        "colab_type": "code",
        "outputId": "a175365a-9269-44b4-ed0f-c741a04cc567",
        "colab": {
          "base_uri": "https://localhost:8080/",
          "height": 510
        }
      },
      "source": [
        "model.summary()"
      ],
      "execution_count": 41,
      "outputs": [
        {
          "output_type": "stream",
          "text": [
            "_________________________________________________________________\n",
            "Layer (type)                 Output Shape              Param #   \n",
            "=================================================================\n",
            "conv2d_25 (Conv2D)           (None, 26, 26, 8)         80        \n",
            "_________________________________________________________________\n",
            "conv2d_26 (Conv2D)           (None, 24, 24, 16)        1168      \n",
            "_________________________________________________________________\n",
            "conv2d_27 (Conv2D)           (None, 22, 22, 32)        4640      \n",
            "_________________________________________________________________\n",
            "max_pooling2d_4 (MaxPooling2 (None, 11, 11, 32)        0         \n",
            "_________________________________________________________________\n",
            "conv2d_28 (Conv2D)           (None, 11, 11, 10)        330       \n",
            "_________________________________________________________________\n",
            "conv2d_29 (Conv2D)           (None, 9, 9, 10)          910       \n",
            "_________________________________________________________________\n",
            "conv2d_30 (Conv2D)           (None, 7, 7, 16)          1456      \n",
            "_________________________________________________________________\n",
            "conv2d_31 (Conv2D)           (None, 7, 7, 10)          170       \n",
            "_________________________________________________________________\n",
            "conv2d_32 (Conv2D)           (None, 1, 1, 10)          4910      \n",
            "_________________________________________________________________\n",
            "flatten_4 (Flatten)          (None, 10)                0         \n",
            "_________________________________________________________________\n",
            "activation_4 (Activation)    (None, 10)                0         \n",
            "=================================================================\n",
            "Total params: 13,664\n",
            "Trainable params: 13,664\n",
            "Non-trainable params: 0\n",
            "_________________________________________________________________\n"
          ],
          "name": "stdout"
        }
      ]
    },
    {
      "cell_type": "code",
      "metadata": {
        "id": "SWwW-FfBkK6o",
        "colab_type": "code",
        "colab": {}
      },
      "source": [
        "# Convert 1-dimensional class arrays to 10-dimensional class matrices\n",
        "Y_train = np_utils.to_categorical(y_train, 10)\n",
        "Y_test = np_utils.to_categorical(y_test, 10)"
      ],
      "execution_count": 0,
      "outputs": []
    },
    {
      "cell_type": "markdown",
      "metadata": {
        "id": "oxHo00T2uu__",
        "colab_type": "text"
      },
      "source": [
        "**Model.compile()**\n",
        "\n",
        "**Loss Function:** A loss function is a mathematical function that calculates some sort of differentiable distance measure between the network's output and the actual output for each class. During training, we average out these losses and backpropagate them through the network.\n",
        "\n",
        "**Optimizer:** This step selects an optimizer algorithm that manipulates the learning rate per time-step so as to update the weights in a manner that does not lead to a swinging behaviour around the minimum.\n",
        "\n"
      ]
    },
    {
      "cell_type": "code",
      "metadata": {
        "id": "l4AXjloBzazy",
        "colab_type": "code",
        "colab": {}
      },
      "source": [
        "model.compile(loss='categorical_crossentropy',\n",
        "             optimizer=\"adam\",\n",
        "             metrics=['accuracy'])"
      ],
      "execution_count": 0,
      "outputs": []
    },
    {
      "cell_type": "markdown",
      "metadata": {
        "id": "N8chtysODRJn",
        "colab_type": "text"
      },
      "source": [
        "**Training the model:**\n",
        "\n",
        "Train data are generally sent in batches for the network ,this is called minibatch Gradient Descent instead of fullbatch Gradient Descent. Though it is ideal to to do the fullbatch gradient Descent, the memory required is humongous and not possible after certain limit. Hence, we go with a minibatch version -  it consumes less memory and does not give up too much accuracy.\n",
        "\n"
      ]
    },
    {
      "cell_type": "code",
      "metadata": {
        "id": "4xWoKhPY9Of5",
        "colab_type": "code",
        "outputId": "91f2d98a-07be-447e-81cb-67dffd2d6522",
        "colab": {
          "base_uri": "https://localhost:8080/",
          "height": 561
        }
      },
      "source": [
        "model.fit(X_train, Y_train,  batch_size=64, validation_data=(X_test,Y_test),epochs=15, verbose=1)"
      ],
      "execution_count": 44,
      "outputs": [
        {
          "output_type": "stream",
          "text": [
            "Train on 60000 samples, validate on 10000 samples\n",
            "Epoch 1/15\n",
            "60000/60000 [==============================] - 16s 269us/step - loss: 0.2548 - acc: 0.9199 - val_loss: 0.1061 - val_acc: 0.9674\n",
            "Epoch 2/15\n",
            "60000/60000 [==============================] - 13s 219us/step - loss: 0.0833 - acc: 0.9753 - val_loss: 0.0708 - val_acc: 0.9773\n",
            "Epoch 3/15\n",
            "60000/60000 [==============================] - 13s 219us/step - loss: 0.0627 - acc: 0.9807 - val_loss: 0.0568 - val_acc: 0.9820\n",
            "Epoch 4/15\n",
            "60000/60000 [==============================] - 13s 219us/step - loss: 0.0519 - acc: 0.9843 - val_loss: 0.0597 - val_acc: 0.9802\n",
            "Epoch 5/15\n",
            "60000/60000 [==============================] - 13s 218us/step - loss: 0.0457 - acc: 0.9863 - val_loss: 0.0448 - val_acc: 0.9852\n",
            "Epoch 6/15\n",
            "60000/60000 [==============================] - 13s 219us/step - loss: 0.0426 - acc: 0.9869 - val_loss: 0.0448 - val_acc: 0.9857\n",
            "Epoch 7/15\n",
            "60000/60000 [==============================] - 13s 221us/step - loss: 0.0362 - acc: 0.9889 - val_loss: 0.0451 - val_acc: 0.9858\n",
            "Epoch 8/15\n",
            "60000/60000 [==============================] - 13s 220us/step - loss: 0.0333 - acc: 0.9897 - val_loss: 0.0464 - val_acc: 0.9847\n",
            "Epoch 9/15\n",
            "60000/60000 [==============================] - 13s 219us/step - loss: 0.0295 - acc: 0.9907 - val_loss: 0.0499 - val_acc: 0.9860\n",
            "Epoch 10/15\n",
            "60000/60000 [==============================] - 13s 219us/step - loss: 0.0274 - acc: 0.9913 - val_loss: 0.0559 - val_acc: 0.9821\n",
            "Epoch 11/15\n",
            "60000/60000 [==============================] - 13s 219us/step - loss: 0.0252 - acc: 0.9923 - val_loss: 0.0537 - val_acc: 0.9824\n",
            "Epoch 12/15\n",
            "60000/60000 [==============================] - 13s 218us/step - loss: 0.0230 - acc: 0.9928 - val_loss: 0.0372 - val_acc: 0.9884\n",
            "Epoch 13/15\n",
            "60000/60000 [==============================] - 13s 218us/step - loss: 0.0222 - acc: 0.9928 - val_loss: 0.0430 - val_acc: 0.9876\n",
            "Epoch 14/15\n",
            "60000/60000 [==============================] - 13s 220us/step - loss: 0.0198 - acc: 0.9934 - val_loss: 0.0453 - val_acc: 0.9873\n",
            "Epoch 15/15\n",
            "60000/60000 [==============================] - 13s 219us/step - loss: 0.0185 - acc: 0.9938 - val_loss: 0.0417 - val_acc: 0.9875\n"
          ],
          "name": "stdout"
        },
        {
          "output_type": "execute_result",
          "data": {
            "text/plain": [
              "<keras.callbacks.History at 0x7fde559d86a0>"
            ]
          },
          "metadata": {
            "tags": []
          },
          "execution_count": 44
        }
      ]
    },
    {
      "cell_type": "code",
      "metadata": {
        "id": "VMZdTV8H5WRk",
        "colab_type": "code",
        "colab": {}
      },
      "source": [
        "score = model.evaluate(X_test, Y_test, verbose=0)"
      ],
      "execution_count": 0,
      "outputs": []
    },
    {
      "cell_type": "code",
      "metadata": {
        "id": "LhdZi3Ji5fhG",
        "colab_type": "code",
        "outputId": "f95ca29f-8f84-4c83-a6c1-df215f750285",
        "colab": {
          "base_uri": "https://localhost:8080/",
          "height": 34
        }
      },
      "source": [
        "print(score)"
      ],
      "execution_count": 46,
      "outputs": [
        {
          "output_type": "stream",
          "text": [
            "[0.04171938144539454, 0.9875]\n"
          ],
          "name": "stdout"
        }
      ]
    },
    {
      "cell_type": "code",
      "metadata": {
        "id": "OCWoJkwE9suh",
        "colab_type": "code",
        "colab": {}
      },
      "source": [
        "y_pred = model.predict(X_test)"
      ],
      "execution_count": 0,
      "outputs": []
    },
    {
      "cell_type": "code",
      "metadata": {
        "id": "Ym7iCFBm9uBs",
        "colab_type": "code",
        "outputId": "535872e4-c6a2-4faa-cf11-38fd20a58e1d",
        "colab": {
          "base_uri": "https://localhost:8080/",
          "height": 493
        }
      },
      "source": [
        "print(y_pred[:9])\n",
        "print(y_test[:9])"
      ],
      "execution_count": 48,
      "outputs": [
        {
          "output_type": "stream",
          "text": [
            "[[1.03412328e-08 1.03885155e-13 2.79623146e-06 2.99944495e-05\n",
            "  4.46636767e-17 5.17852650e-10 2.74432807e-20 9.99963999e-01\n",
            "  3.15202753e-09 3.17980630e-06]\n",
            " [1.34132560e-13 4.32162579e-13 1.00000000e+00 3.52651046e-12\n",
            "  3.96506305e-22 1.33576540e-16 3.50479958e-11 1.26039737e-21\n",
            "  8.02762568e-09 5.11992992e-22]\n",
            " [1.44289058e-09 9.99709666e-01 5.37754895e-05 2.74044766e-07\n",
            "  8.82954225e-07 4.34622161e-05 4.01412944e-06 1.72126383e-04\n",
            "  1.00245852e-05 5.69365011e-06]\n",
            " [9.99997139e-01 1.73618747e-12 1.93321736e-09 3.86289611e-10\n",
            "  4.46034008e-11 1.63849393e-07 2.46043214e-06 2.40420287e-13\n",
            "  2.31031422e-07 2.62230770e-08]\n",
            " [5.75287491e-11 1.60132663e-14 3.30513927e-09 1.02603332e-12\n",
            "  9.99999046e-01 5.70847869e-10 8.17719403e-09 8.83019786e-12\n",
            "  3.70227227e-09 9.03868340e-07]\n",
            " [3.36132129e-11 9.99708474e-01 6.58353065e-06 7.87934429e-09\n",
            "  4.26433780e-06 3.63390791e-05 5.48118919e-07 1.93839922e-04\n",
            "  1.05633499e-05 3.93404662e-05]\n",
            " [6.37528323e-18 1.71567919e-13 2.44501086e-09 1.49806001e-11\n",
            "  9.99780476e-01 4.55346091e-12 7.48875991e-14 1.36619136e-11\n",
            "  2.12913539e-04 6.63284663e-06]\n",
            " [2.08126329e-14 2.92198002e-11 1.87516420e-07 9.55769679e-07\n",
            "  7.65799487e-05 1.94231511e-08 2.28347419e-12 8.37417360e-07\n",
            "  1.15574339e-05 9.99909878e-01]\n",
            " [2.03306573e-11 1.54173632e-21 6.14589022e-12 4.33791525e-14\n",
            "  2.34050852e-11 1.28688186e-01 8.69180977e-01 8.27046212e-17\n",
            "  2.13080971e-03 1.33948674e-09]]\n",
            "[7 2 1 0 4 1 4 9 5]\n"
          ],
          "name": "stdout"
        }
      ]
    },
    {
      "cell_type": "markdown",
      "metadata": {
        "id": "zZRvIuadthdb",
        "colab_type": "text"
      },
      "source": [
        "**Observations :**\n",
        "\n",
        "*  We have achieved the basic archietecture with less than 15k parameters. \n",
        "*   The best error rate achieved was 1.16%. \n",
        "*   We have have achieved 99.38% in the training accuracy which leaves with .62% to improve the model while the validation accuracy has to go up by 1.16%. \n",
        "*   One more option is to find a possibility wherein reduce the gap between the train and test accuracy if possible as this will reduce overfitting giving us more chance to improvize the model. \n",
        "\n",
        "\n",
        "\n",
        "\n"
      ]
    },
    {
      "cell_type": "markdown",
      "metadata": {
        "id": "H65_VfDdBeBa",
        "colab_type": "text"
      },
      "source": [
        "**Kernel Extract (Feature Maps):**\n",
        "\n",
        "The below code is to visualize the extract of the kernel of each layer from the convolution layer. With this we could find when the edges are formed so that max pooling could be exactly applied at that point. "
      ]
    },
    {
      "cell_type": "code",
      "metadata": {
        "id": "2GY4Upv4dsUR",
        "colab_type": "code",
        "outputId": "8d67402c-1773-4691-e9fc-c2cbce20b5e6",
        "colab": {
          "base_uri": "https://localhost:8080/",
          "height": 778
        }
      },
      "source": [
        "layer_dict = dict([(layer.name, layer) for layer in model.layers])\n",
        "print(layer_dict)\n",
        "import numpy as np\n",
        "from matplotlib import pyplot as plt\n",
        "from keras import backend as K\n",
        "\n",
        "layer_dict = dict([(layer.name, layer) for layer in model.layers])\n",
        "%matplotlib inline\n",
        "# util function to convert a tensor into a valid image\n",
        "def deprocess_image(x):\n",
        "    # normalize tensor: center on 0., ensure std is 0.1\n",
        "    x -= x.mean()\n",
        "    x /= (x.std() + 1e-5)\n",
        "    x *= 0.1\n",
        "\n",
        "    # clip to [0, 1]\n",
        "    x += 0.5\n",
        "    x = np.clip(x, 0, 1)\n",
        "\n",
        "    # convert to RGB array\n",
        "    x *= 255\n",
        "    #x = x.transpose((1, 2, 0))\n",
        "    x = np.clip(x, 0, 255).astype('uint8')\n",
        "    return x\n",
        "\n",
        "def vis_img_in_filter(img = np.array(X_train[2]).reshape((1, 28, 28, 1)).astype(np.float64), \n",
        "                      layer_name = 'conv2d_2'):\n",
        "  \n",
        "    layer_output = layer_dict[layer_name].output\n",
        "    img_ascs = list()\n",
        "    for filter_index in range(layer_output.shape[3]):\n",
        "        # build a loss function that maximizes the activation\n",
        "        # of the nth filter of the layer considered\n",
        "        loss = K.mean(layer_output[:, :, :, filter_index])\n",
        "\n",
        "        # compute the gradient of the input picture wrt this loss\n",
        "        grads = K.gradients(loss, model.input)[0]\n",
        "\n",
        "        # normalization trick: we normalize the gradient\n",
        "        grads /= (K.sqrt(K.mean(K.square(grads))) + 1e-5)\n",
        "\n",
        "        # this function returns the loss and grads given the input picture\n",
        "        iterate = K.function([model.input], [loss, grads])\n",
        "\n",
        "        # step size for gradient ascent\n",
        "        step = 5.\n",
        "\n",
        "        img_asc = np.array(img)\n",
        "        # run gradient ascent for 20 steps\n",
        "        for i in range(20):\n",
        "            loss_value, grads_value = iterate([img_asc])\n",
        "            img_asc += grads_value * step\n",
        "\n",
        "        img_asc = img_asc[0]\n",
        "        img_ascs.append(deprocess_image(img_asc).reshape((28, 28)))\n",
        "        \n",
        "    if layer_output.shape[3] >= 35:\n",
        "        plot_x, plot_y = 6, 6\n",
        "    elif layer_output.shape[3] >= 23:\n",
        "        plot_x, plot_y = 4, 6\n",
        "    elif layer_output.shape[3] >= 11:\n",
        "        plot_x, plot_y = 2, 6\n",
        "    else:\n",
        "        plot_x, plot_y = 1, 2\n",
        "    fig, ax = plt.subplots(plot_x, plot_y, figsize = (12, 12))\n",
        "    ax[0, 0].imshow(img.reshape((28, 28)), cmap = 'gray')\n",
        "    ax[0, 0].set_title('Input image')\n",
        "    fig.suptitle('Input image and %s filters' % (layer_name,))\n",
        "    fig.tight_layout(pad = 0.3, rect = [0, 0, 0.9, 0.9])\n",
        "    for (x, y) in [(i, j) for i in range(plot_x) for j in range(plot_y)]:\n",
        "        if x == 0 and y == 0:\n",
        "            continue\n",
        "        ax[x, y].imshow(img_ascs[x * plot_y + y - 1], cmap = 'gray')\n",
        "        ax[x, y].set_title('filter %d' % (x * plot_y + y - 1))\n",
        "\n",
        "vis_img_in_filter()"
      ],
      "execution_count": 21,
      "outputs": [
        {
          "output_type": "stream",
          "text": [
            "{'conv2d_1': <keras.layers.convolutional.Conv2D object at 0x7fdeab902588>, 'conv2d_2': <keras.layers.convolutional.Conv2D object at 0x7fdeab902780>, 'conv2d_3': <keras.layers.convolutional.Conv2D object at 0x7fdeab9029e8>, 'max_pooling2d_1': <keras.layers.pooling.MaxPooling2D object at 0x7fdeab0a1a20>, 'conv2d_4': <keras.layers.convolutional.Conv2D object at 0x7fdeab902b38>, 'conv2d_5': <keras.layers.convolutional.Conv2D object at 0x7fdeab0c13c8>, 'conv2d_6': <keras.layers.convolutional.Conv2D object at 0x7fdeab059e80>, 'conv2d_7': <keras.layers.convolutional.Conv2D object at 0x7fdeab06f198>, 'conv2d_8': <keras.layers.convolutional.Conv2D object at 0x7fdeab06fe48>, 'flatten_1': <keras.layers.core.Flatten object at 0x7fdeab033978>, 'activation_1': <keras.layers.core.Activation object at 0x7fdeab048f28>}\n"
          ],
          "name": "stdout"
        },
        {
          "output_type": "display_data",
          "data": {
            "image/png": "[encoded data removed]",
            "text/plain": [
              "<Figure size 864x864 with 12 Axes>"
            ]
          },
          "metadata": {
            "tags": []
          }
        }
      ]
    },
    {
      "cell_type": "markdown",
      "metadata": {
        "id": "Q4dvxY_lug4v",
        "colab_type": "text"
      },
      "source": [
        "**After Batch Normalization:**"
      ]
    },
    {
      "cell_type": "code",
      "metadata": {
        "id": "Z8QFhxZnHftF",
        "colab_type": "code",
        "colab": {
          "base_uri": "https://localhost:8080/",
          "height": 778
        },
        "outputId": "87750476-7479-4b80-9a54-7f1fe330902f"
      },
      "source": [
        "layer_dict = dict([(layer.name, layer) for layer in model.layers])\n",
        "print(layer_dict)\n",
        "import numpy as np\n",
        "from matplotlib import pyplot as plt\n",
        "from keras import backend as K\n",
        "\n",
        "layer_dict = dict([(layer.name, layer) for layer in model.layers])\n",
        "%matplotlib inline\n",
        "# util function to convert a tensor into a valid image\n",
        "def deprocess_image(x):\n",
        "    # normalize tensor: center on 0., ensure std is 0.1\n",
        "    x -= x.mean()\n",
        "    x /= (x.std() + 1e-5)\n",
        "    x *= 0.1\n",
        "\n",
        "    # clip to [0, 1]\n",
        "    x += 0.5\n",
        "    x = np.clip(x, 0, 1)\n",
        "\n",
        "    # convert to RGB array\n",
        "    x *= 255\n",
        "    #x = x.transpose((1, 2, 0))\n",
        "    x = np.clip(x, 0, 255).astype('uint8')\n",
        "    return x\n",
        "\n",
        "def vis_img_in_filter(img = np.array(X_train[2]).reshape((1, 28, 28, 1)).astype(np.float64), \n",
        "                      layer_name = 'conv2d_10'):\n",
        "  \n",
        "    layer_output = layer_dict[layer_name].output\n",
        "    img_ascs = list()\n",
        "    for filter_index in range(layer_output.shape[3]):\n",
        "        # build a loss function that maximizes the activation\n",
        "        # of the nth filter of the layer considered\n",
        "        loss = K.mean(layer_output[:, :, :, filter_index])\n",
        "\n",
        "        # compute the gradient of the input picture wrt this loss\n",
        "        grads = K.gradients(loss, model.input)[0]\n",
        "\n",
        "        # normalization trick: we normalize the gradient\n",
        "        grads /= (K.sqrt(K.mean(K.square(grads))) + 1e-5)\n",
        "\n",
        "        # this function returns the loss and grads given the input picture\n",
        "        iterate = K.function([model.input], [loss, grads])\n",
        "\n",
        "        # step size for gradient ascent\n",
        "        step = 5.\n",
        "\n",
        "        img_asc = np.array(img)\n",
        "        # run gradient ascent for 20 steps\n",
        "        for i in range(20):\n",
        "            loss_value, grads_value = iterate([img_asc])\n",
        "            img_asc += grads_value * step\n",
        "\n",
        "        img_asc = img_asc[0]\n",
        "        img_ascs.append(deprocess_image(img_asc).reshape((28, 28)))\n",
        "        \n",
        "    if layer_output.shape[3] >= 35:\n",
        "        plot_x, plot_y = 6, 6\n",
        "    elif layer_output.shape[3] >= 23:\n",
        "        plot_x, plot_y = 4, 6\n",
        "    elif layer_output.shape[3] >= 11:\n",
        "        plot_x, plot_y = 2, 6\n",
        "    else:\n",
        "        plot_x, plot_y = 1, 2\n",
        "    fig, ax = plt.subplots(plot_x, plot_y, figsize = (12, 12))\n",
        "    ax[0, 0].imshow(img.reshape((28, 28)), cmap = 'gray')\n",
        "    ax[0, 0].set_title('Input image')\n",
        "    fig.suptitle('Input image and %s filters' % (layer_name,))\n",
        "    fig.tight_layout(pad = 0.3, rect = [0, 0, 0.9, 0.9])\n",
        "    for (x, y) in [(i, j) for i in range(plot_x) for j in range(plot_y)]:\n",
        "        if x == 0 and y == 0:\n",
        "            continue\n",
        "        ax[x, y].imshow(img_ascs[x * plot_y + y - 1], cmap = 'gray')\n",
        "        ax[x, y].set_title('filter %d' % (x * plot_y + y - 1))\n",
        "\n",
        "vis_img_in_filter()"
      ],
      "execution_count": 37,
      "outputs": [
        {
          "output_type": "stream",
          "text": [
            "{'conv2d_9': <keras.layers.convolutional.Conv2D object at 0x7fdea1a5a6a0>, 'batch_normalization_1': <keras.layers.normalization.BatchNormalization object at 0x7fdea1a5a588>, 'conv2d_10': <keras.layers.convolutional.Conv2D object at 0x7fdeae62ae48>, 'batch_normalization_2': <keras.layers.normalization.BatchNormalization object at 0x7fdea12777b8>, 'conv2d_11': <keras.layers.convolutional.Conv2D object at 0x7fdea1148a20>, 'batch_normalization_3': <keras.layers.normalization.BatchNormalization object at 0x7fdea10b9b70>, 'max_pooling2d_2': <keras.layers.pooling.MaxPooling2D object at 0x7fdea10f4cf8>, 'conv2d_12': <keras.layers.convolutional.Conv2D object at 0x7fdea10d3f98>, 'batch_normalization_4': <keras.layers.normalization.BatchNormalization object at 0x7fdea102f6a0>, 'conv2d_13': <keras.layers.convolutional.Conv2D object at 0x7fdea0f64da0>, 'batch_normalization_5': <keras.layers.normalization.BatchNormalization object at 0x7fdea0f64c18>, 'conv2d_14': <keras.layers.convolutional.Conv2D object at 0x7fdea0eef208>, 'batch_normalization_6': <keras.layers.normalization.BatchNormalization object at 0x7fdea0e8d160>, 'conv2d_15': <keras.layers.convolutional.Conv2D object at 0x7fdea0e2af28>, 'conv2d_16': <keras.layers.convolutional.Conv2D object at 0x7fdea0de6518>, 'flatten_2': <keras.layers.core.Flatten object at 0x7fdea0d025f8>, 'activation_2': <keras.layers.core.Activation object at 0x7fdea0d026d8>}\n"
          ],
          "name": "stdout"
        },
        {
          "output_type": "display_data",
          "data": {
            "image/png": "[encoded data removed]",
            "text/plain": [
              "<Figure size 864x864 with 12 Axes>"
            ]
          },
          "metadata": {
            "tags": []
          }
        }
      ]
    },
    {
      "cell_type": "markdown",
      "metadata": {
        "id": "P9TV5AvzbR7U",
        "colab_type": "text"
      },
      "source": [
        "##**Step2**\n",
        "\n",
        "\n",
        "Here we introduce the concept of batch normalization and Drop-Out. \n",
        "\n",
        "*   BN improves the perfomance of the Backpropogation by preventing the backprogated gradient getting too small or big.\n",
        "*   Dropout is a technique where randomly selected neurons are ignored during training. They are “dropped-out” randomly. This means that their contribution to the activation of downstream neurons is temporally removed on the forward pass and any weight updates are not applied to the neuron on the backward pass.\n",
        "\n"
      ]
    },
    {
      "cell_type": "code",
      "metadata": {
        "id": "-eBglDhsS4vx",
        "colab_type": "code",
        "outputId": "636e1ddf-ed0f-4b6f-f23d-36f1fee9c3e4",
        "colab": {
          "base_uri": "https://localhost:8080/",
          "height": 241
        }
      },
      "source": [
        "model = Sequential()\n",
        "\n",
        "model.add(Convolution2D(8, 3, 3, activation='relu', input_shape=(28,28,1)))  # 28X28X1 | 3X3X1X8 -> 26X26X8 | GRF - 3\n",
        "model.add(BatchNormalization())\n",
        "#CONVOLUTION BLOCK 1 BEGINS\n",
        "model.add(Convolution2D(16, 3,3, activation='relu')) #26X26X8 | 3X3X8X16 -> 24X24X16 | GRF - 5\n",
        "model.add(BatchNormalization())\n",
        "model.add(Convolution2D(32, 3,3, activation='relu')) #24X24X16 | 3X3X16X32 -> 22X22X32 | GRF - 7\n",
        "model.add(BatchNormalization())\n",
        "model.add(Dropout(0.2))\n",
        "#CONVOLUTION BLOCK 1 ENDS\n",
        "#TRANSITION BLOCK 1 BEGINS\n",
        "model.add(MaxPooling2D(pool_size=(2, 2)))            #22X22X32 ->Max Pooling -> 11X11X32 | GRF - 14\n",
        "model.add(Convolution2D(10, 1, activation='relu'))   #11X11X32 | 1X1X10 -> 11X11X10 | GRF - 14\n",
        "model.add(BatchNormalization())\n",
        "#TRANSITION BLOCK 1 ENDS\n",
        "\n",
        "#CONVOLUTION BLOCK 2 BEGINS\n",
        "model.add(Convolution2D(10, 3,3, activation='relu')) #11X11X10 | 3X3X10X10 -> 9X9X10 GRF -16\n",
        "model.add(BatchNormalization())\n",
        "model.add(Dropout(0.2))\n",
        "model.add(Convolution2D(16, 3,3, activation='relu')) #9X9X10   | 3X3X10X16 -> 7X7X16 GRF -18\n",
        "model.add(BatchNormalization())\n",
        "model.add(Convolution2D(10, 1, activation='relu'))   #7X7X16   | 1X1X10X10 -> 7X7X10 GRF-18\n",
        "model.add(Convolution2D(10, 7,7))                    #7X7X10   | 3X3X10X10 -> 1X1X10 GRF-24\n",
        "#CONVOLUTION BLOCK 2 ENDS\n",
        "\n",
        "model.add(Flatten())\n",
        "model.add(Activation('softmax'))"
      ],
      "execution_count": 54,
      "outputs": [
        {
          "output_type": "stream",
          "text": [
            "/usr/local/lib/python3.6/dist-packages/ipykernel_launcher.py:3: UserWarning: Update your `Conv2D` call to the Keras 2 API: `Conv2D(8, (3, 3), activation=\"relu\", input_shape=(28, 28, 1...)`\n",
            "  This is separate from the ipykernel package so we can avoid doing imports until\n",
            "/usr/local/lib/python3.6/dist-packages/ipykernel_launcher.py:6: UserWarning: Update your `Conv2D` call to the Keras 2 API: `Conv2D(16, (3, 3), activation=\"relu\")`\n",
            "  \n",
            "/usr/local/lib/python3.6/dist-packages/ipykernel_launcher.py:8: UserWarning: Update your `Conv2D` call to the Keras 2 API: `Conv2D(32, (3, 3), activation=\"relu\")`\n",
            "  \n",
            "W0820 09:04:39.233934 140595640870784 deprecation.py:506] From /usr/local/lib/python3.6/dist-packages/keras/backend/tensorflow_backend.py:3445: calling dropout (from tensorflow.python.ops.nn_ops) with keep_prob is deprecated and will be removed in a future version.\n",
            "Instructions for updating:\n",
            "Please use `rate` instead of `keep_prob`. Rate should be set to `rate = 1 - keep_prob`.\n",
            "/usr/local/lib/python3.6/dist-packages/ipykernel_launcher.py:19: UserWarning: Update your `Conv2D` call to the Keras 2 API: `Conv2D(10, (3, 3), activation=\"relu\")`\n",
            "/usr/local/lib/python3.6/dist-packages/ipykernel_launcher.py:22: UserWarning: Update your `Conv2D` call to the Keras 2 API: `Conv2D(16, (3, 3), activation=\"relu\")`\n",
            "/usr/local/lib/python3.6/dist-packages/ipykernel_launcher.py:25: UserWarning: Update your `Conv2D` call to the Keras 2 API: `Conv2D(10, (7, 7))`\n"
          ],
          "name": "stderr"
        }
      ]
    },
    {
      "cell_type": "code",
      "metadata": {
        "id": "zuxHEAJ7S404",
        "colab_type": "code",
        "outputId": "dac206d6-d9b1-4091-ae24-104ea43d7dae",
        "colab": {
          "base_uri": "https://localhost:8080/",
          "height": 782
        }
      },
      "source": [
        "model.summary()"
      ],
      "execution_count": 55,
      "outputs": [
        {
          "output_type": "stream",
          "text": [
            "_________________________________________________________________\n",
            "Layer (type)                 Output Shape              Param #   \n",
            "=================================================================\n",
            "conv2d_41 (Conv2D)           (None, 26, 26, 8)         80        \n",
            "_________________________________________________________________\n",
            "batch_normalization_13 (Batc (None, 26, 26, 8)         32        \n",
            "_________________________________________________________________\n",
            "conv2d_42 (Conv2D)           (None, 24, 24, 16)        1168      \n",
            "_________________________________________________________________\n",
            "batch_normalization_14 (Batc (None, 24, 24, 16)        64        \n",
            "_________________________________________________________________\n",
            "conv2d_43 (Conv2D)           (None, 22, 22, 32)        4640      \n",
            "_________________________________________________________________\n",
            "batch_normalization_15 (Batc (None, 22, 22, 32)        128       \n",
            "_________________________________________________________________\n",
            "dropout_1 (Dropout)          (None, 22, 22, 32)        0         \n",
            "_________________________________________________________________\n",
            "max_pooling2d_6 (MaxPooling2 (None, 11, 11, 32)        0         \n",
            "_________________________________________________________________\n",
            "conv2d_44 (Conv2D)           (None, 11, 11, 10)        330       \n",
            "_________________________________________________________________\n",
            "batch_normalization_16 (Batc (None, 11, 11, 10)        40        \n",
            "_________________________________________________________________\n",
            "conv2d_45 (Conv2D)           (None, 9, 9, 10)          910       \n",
            "_________________________________________________________________\n",
            "batch_normalization_17 (Batc (None, 9, 9, 10)          40        \n",
            "_________________________________________________________________\n",
            "dropout_2 (Dropout)          (None, 9, 9, 10)          0         \n",
            "_________________________________________________________________\n",
            "conv2d_46 (Conv2D)           (None, 7, 7, 16)          1456      \n",
            "_________________________________________________________________\n",
            "batch_normalization_18 (Batc (None, 7, 7, 16)          64        \n",
            "_________________________________________________________________\n",
            "conv2d_47 (Conv2D)           (None, 7, 7, 10)          170       \n",
            "_________________________________________________________________\n",
            "conv2d_48 (Conv2D)           (None, 1, 1, 10)          4910      \n",
            "_________________________________________________________________\n",
            "flatten_6 (Flatten)          (None, 10)                0         \n",
            "_________________________________________________________________\n",
            "activation_6 (Activation)    (None, 10)                0         \n",
            "=================================================================\n",
            "Total params: 14,032\n",
            "Trainable params: 13,848\n",
            "Non-trainable params: 184\n",
            "_________________________________________________________________\n"
          ],
          "name": "stdout"
        }
      ]
    },
    {
      "cell_type": "code",
      "metadata": {
        "id": "w4PrysMNS46A",
        "colab_type": "code",
        "colab": {}
      },
      "source": [
        "# Convert 1-dimensional class arrays to 10-dimensional class matrices\n",
        "Y_train = np_utils.to_categorical(y_train, 10)\n",
        "Y_test = np_utils.to_categorical(y_test, 10)"
      ],
      "execution_count": 0,
      "outputs": []
    },
    {
      "cell_type": "code",
      "metadata": {
        "id": "ZpPnxZ2lS48t",
        "colab_type": "code",
        "colab": {}
      },
      "source": [
        "model.compile(loss='categorical_crossentropy',\n",
        "             optimizer=\"adam\",\n",
        "             metrics=['accuracy'])"
      ],
      "execution_count": 0,
      "outputs": []
    },
    {
      "cell_type": "code",
      "metadata": {
        "id": "CIGPnUZXS5Bz",
        "colab_type": "code",
        "outputId": "94634379-c104-4fc9-f127-1d203bd43bfb",
        "colab": {
          "base_uri": "https://localhost:8080/",
          "height": 561
        }
      },
      "source": [
        "model.fit(X_train, Y_train,  batch_size=64, validation_data=(X_test,Y_test),epochs=15, verbose=1)"
      ],
      "execution_count": 58,
      "outputs": [
        {
          "output_type": "stream",
          "text": [
            "Train on 60000 samples, validate on 10000 samples\n",
            "Epoch 1/15\n",
            "60000/60000 [==============================] - 25s 415us/step - loss: 0.2418 - acc: 0.9245 - val_loss: 0.0644 - val_acc: 0.9781\n",
            "Epoch 2/15\n",
            "60000/60000 [==============================] - 20s 340us/step - loss: 0.0671 - acc: 0.9786 - val_loss: 0.0627 - val_acc: 0.9792\n",
            "Epoch 3/15\n",
            "60000/60000 [==============================] - 20s 341us/step - loss: 0.0513 - acc: 0.9834 - val_loss: 0.0426 - val_acc: 0.9865\n",
            "Epoch 4/15\n",
            "60000/60000 [==============================] - 20s 339us/step - loss: 0.0439 - acc: 0.9860 - val_loss: 0.0396 - val_acc: 0.9863\n",
            "Epoch 5/15\n",
            "60000/60000 [==============================] - 20s 339us/step - loss: 0.0375 - acc: 0.9880 - val_loss: 0.0360 - val_acc: 0.9891\n",
            "Epoch 6/15\n",
            "60000/60000 [==============================] - 20s 339us/step - loss: 0.0345 - acc: 0.9884 - val_loss: 0.0345 - val_acc: 0.9901\n",
            "Epoch 7/15\n",
            "60000/60000 [==============================] - 21s 343us/step - loss: 0.0315 - acc: 0.9900 - val_loss: 0.0364 - val_acc: 0.9884\n",
            "Epoch 8/15\n",
            "60000/60000 [==============================] - 20s 340us/step - loss: 0.0299 - acc: 0.9904 - val_loss: 0.0336 - val_acc: 0.9882\n",
            "Epoch 9/15\n",
            "60000/60000 [==============================] - 20s 338us/step - loss: 0.0276 - acc: 0.9912 - val_loss: 0.0307 - val_acc: 0.9902\n",
            "Epoch 10/15\n",
            "60000/60000 [==============================] - 20s 336us/step - loss: 0.0254 - acc: 0.9917 - val_loss: 0.0292 - val_acc: 0.9900\n",
            "Epoch 11/15\n",
            "60000/60000 [==============================] - 20s 336us/step - loss: 0.0244 - acc: 0.9920 - val_loss: 0.0314 - val_acc: 0.9903\n",
            "Epoch 12/15\n",
            "60000/60000 [==============================] - 20s 335us/step - loss: 0.0223 - acc: 0.9928 - val_loss: 0.0303 - val_acc: 0.9901\n",
            "Epoch 13/15\n",
            "60000/60000 [==============================] - 20s 335us/step - loss: 0.0223 - acc: 0.9925 - val_loss: 0.0276 - val_acc: 0.9913\n",
            "Epoch 14/15\n",
            "60000/60000 [==============================] - 20s 335us/step - loss: 0.0212 - acc: 0.9930 - val_loss: 0.0296 - val_acc: 0.9899\n",
            "Epoch 15/15\n",
            "60000/60000 [==============================] - 20s 335us/step - loss: 0.0199 - acc: 0.9931 - val_loss: 0.0298 - val_acc: 0.9904\n"
          ],
          "name": "stdout"
        },
        {
          "output_type": "execute_result",
          "data": {
            "text/plain": [
              "<keras.callbacks.History at 0x7fde53163a90>"
            ]
          },
          "metadata": {
            "tags": []
          },
          "execution_count": 58
        }
      ]
    },
    {
      "cell_type": "code",
      "metadata": {
        "id": "FNnhBvtyS5E6",
        "colab_type": "code",
        "outputId": "fa5ab0ea-3779-492c-9064-de29c2bb957d",
        "colab": {
          "base_uri": "https://localhost:8080/",
          "height": 34
        }
      },
      "source": [
        "score = model.evaluate(X_test, Y_test, verbose=0)\n",
        "print(score)"
      ],
      "execution_count": 59,
      "outputs": [
        {
          "output_type": "stream",
          "text": [
            "[0.029817303871913465, 0.9904]\n"
          ],
          "name": "stdout"
        }
      ]
    },
    {
      "cell_type": "code",
      "metadata": {
        "id": "ttCjqUTeS5KE",
        "colab_type": "code",
        "outputId": "c6e048eb-0a94-40be-83eb-ebe6224d37da",
        "colab": {
          "base_uri": "https://localhost:8080/",
          "height": 493
        }
      },
      "source": [
        "y_pred = model.predict(X_test)\n",
        "print(y_pred[:9])\n",
        "print(y_test[:9])"
      ],
      "execution_count": 60,
      "outputs": [
        {
          "output_type": "stream",
          "text": [
            "[[6.82581075e-12 1.40471357e-09 2.64925184e-08 4.77444351e-09\n",
            "  3.23642395e-15 8.98587980e-14 2.15745603e-20 1.00000000e+00\n",
            "  3.75270121e-14 3.58213709e-10]\n",
            " [7.52650612e-06 1.14591512e-05 9.99279678e-01 3.03433589e-09\n",
            "  9.91532374e-07 8.76076225e-11 7.00389675e-04 1.14855269e-11\n",
            "  1.29976285e-09 2.33339953e-12]\n",
            " [7.03676617e-10 9.99997139e-01 8.23476910e-07 1.03331024e-11\n",
            "  1.03509410e-06 8.96367922e-08 6.57191777e-08 8.49288767e-07\n",
            "  7.75805288e-12 4.45825243e-09]\n",
            " [9.99933243e-01 2.67430227e-11 9.66860281e-09 9.60768602e-08\n",
            "  8.19034063e-10 3.89831314e-08 6.45767359e-05 1.53932522e-09\n",
            "  3.71200670e-08 1.95475332e-06]\n",
            " [4.35455394e-10 1.07005260e-09 7.97759858e-10 1.65477517e-12\n",
            "  9.99997735e-01 5.97962013e-10 2.73273559e-09 1.63196466e-06\n",
            "  5.67278335e-10 5.81979293e-07]\n",
            " [6.04969230e-09 9.99987960e-01 2.02144133e-06 1.47024771e-11\n",
            "  4.33403693e-06 1.85089331e-08 3.43600455e-08 5.60988610e-06\n",
            "  2.81465892e-11 1.43033860e-08]\n",
            " [1.22767668e-13 3.89176790e-07 8.53462154e-08 1.74857275e-12\n",
            "  9.99983311e-01 1.96119720e-09 7.76264496e-14 3.07730193e-06\n",
            "  1.29858236e-05 1.02191834e-07]\n",
            " [2.80109106e-13 2.31863662e-09 6.25207397e-09 6.27851660e-10\n",
            "  1.00852293e-03 1.07696307e-09 7.78920548e-13 2.51521755e-07\n",
            "  3.39489290e-08 9.98991191e-01]\n",
            " [5.32890340e-07 2.91902180e-12 6.06692723e-08 5.17557837e-08\n",
            "  1.82564797e-10 9.98269558e-01 1.51550747e-03 1.81910546e-11\n",
            "  1.90422143e-04 2.39149103e-05]]\n",
            "[7 2 1 0 4 1 4 9 5]\n"
          ],
          "name": "stdout"
        }
      ]
    },
    {
      "cell_type": "markdown",
      "metadata": {
        "id": "jGLEis1KOJ2k",
        "colab_type": "text"
      },
      "source": [
        "**Observations:**\n",
        "\n",
        "*  Compared to our current iteration, we could infer that our first iteration was overfitted and with introduction of batch normalization and drop-out, we are able to reduce the gap between the train and test accuracy.\n",
        "*   The error rate is .96% (99.04% accuracy). \n",
        "*   Adding to the above, training accuracy is at 99.31%, now we have a scope of .69% improvement to achieve the target of 99.4% in validation accuracy.\n",
        "\n",
        "\n",
        "\n"
      ]
    },
    {
      "cell_type": "markdown",
      "metadata": {
        "id": "ekVjvNsTA3i7",
        "colab_type": "text"
      },
      "source": [
        "##**Step 3**\n",
        "\n",
        "**Upgrades in the step 3 :**\n",
        "\n",
        "1. **Drop-out:** \n",
        "We have introduced drop-out in each layer of the model. But one important point to understand is that we cannot retain the same value as the previous iteration. Since we are using it across all layers, it is better to start with a minimum value and then increase it. An ideal aproach is to run some epoch for multiple drop-out values in the model and then pick the ideal value.\n",
        "\n",
        "2. **Learning Rate - Step Decay :**\n",
        "High learning rate will lead to random to and fro moment of the vector around local minima while a slow learning rate results in getting stuck into false minima. Thus, knowing when to decay the learning rate can be hard to find out.We base our experiment on the principle of step decay. Here, we reduce the learning rate by a constant factor every  epochs. "
      ]
    },
    {
      "cell_type": "code",
      "metadata": {
        "id": "DEuApFOtA-TA",
        "colab_type": "code",
        "outputId": "347679df-de48-49d5-b98b-14eb5e222876",
        "colab": {
          "base_uri": "https://localhost:8080/",
          "height": 1000
        }
      },
      "source": [
        "model = Sequential()\n",
        "\n",
        "model.add(Convolution2D(8, 3, activation='relu', input_shape=(28,28,1))) # 28X28X1 | 3X3X1X8 -> 26X26X8 | GRF - 3\n",
        "model.add(BatchNormalization())\n",
        "model.add(Dropout(0.1))\n",
        "#CONVOLUTION BLOCK 1 BEGINS\n",
        "model.add(Convolution2D(16, 3,3, activation='relu')) #26X26X8 | 3X3X8X16 -> 24X24X16 | GRF - 5\n",
        "model.add(BatchNormalization())\n",
        "model.add(Dropout(0.1))\n",
        "model.add(Convolution2D(32, 3,3, activation='relu')) #24X24X16 | 3X3X16X32 -> 22X22X32 | GRF - 7\n",
        "model.add(BatchNormalization())\n",
        "#CONVOLUTION BLOCK 1 ENDS\n",
        "model.add(Dropout(0.1))\n",
        "#TRANSITION BLOCK 1 BEGINS\n",
        "model.add(MaxPooling2D(pool_size=(2, 2)))            #22X22X32 ->Max Pooling -> 11X11X32 | GRF - 14\n",
        "model.add(Convolution2D(10, 1, activation='relu'))   #11X11X32 | 1X1X10 -> 11X11X10 | GRF - 14\n",
        "model.add(BatchNormalization())\n",
        "\n",
        "#TRANSITION BLOCK 1 ENDS\n",
        "\n",
        "#CONVOLUTION BLOCK 2 BEGINS\n",
        "model.add(Convolution2D(10, 3,3, activation='relu')) #11X11X10 | 3X3X10X10 -> 9X9X10 GRF -16\n",
        "model.add(BatchNormalization())\n",
        "model.add(Dropout(0.1))\n",
        "model.add(Convolution2D(16, 3,3, activation='relu')) #9X9X10   | 3X3X10X16 -> 7X7X16 GRF -18\n",
        "model.add(BatchNormalization())\n",
        "model.add(Dropout(0.1))\n",
        "model.add(Convolution2D(10, 1, activation='relu'))   #7X7X16   | 1X1X10X10 -> 7X7X10 GRF-18\n",
        "model.add(Convolution2D(10, 7,7))                   #7X7X10   | 3X3X10X10 -> 1X1X10 GRF-24\n",
        "#CONVOLUTION BLOCK 2 ENDS\n",
        "\n",
        "model.add(Flatten())\n",
        "model.add(Activation('softmax'))\n",
        "\n",
        "model.summary()"
      ],
      "execution_count": 489,
      "outputs": [
        {
          "output_type": "stream",
          "text": [
            "/usr/local/lib/python3.6/dist-packages/ipykernel_launcher.py:7: UserWarning: Update your `Conv2D` call to the Keras 2 API: `Conv2D(16, (3, 3), activation=\"relu\")`\n",
            "  import sys\n",
            "/usr/local/lib/python3.6/dist-packages/ipykernel_launcher.py:10: UserWarning: Update your `Conv2D` call to the Keras 2 API: `Conv2D(32, (3, 3), activation=\"relu\")`\n",
            "  # Remove the CWD from sys.path while we load stuff.\n",
            "/usr/local/lib/python3.6/dist-packages/ipykernel_launcher.py:22: UserWarning: Update your `Conv2D` call to the Keras 2 API: `Conv2D(10, (3, 3), activation=\"relu\")`\n",
            "/usr/local/lib/python3.6/dist-packages/ipykernel_launcher.py:25: UserWarning: Update your `Conv2D` call to the Keras 2 API: `Conv2D(16, (3, 3), activation=\"relu\")`\n"
          ],
          "name": "stderr"
        },
        {
          "output_type": "stream",
          "text": [
            "_________________________________________________________________\n",
            "Layer (type)                 Output Shape              Param #   \n",
            "=================================================================\n",
            "conv2d_468 (Conv2D)          (None, 26, 26, 8)         80        \n",
            "_________________________________________________________________\n",
            "batch_normalization_271 (Bat (None, 26, 26, 8)         32        \n",
            "_________________________________________________________________\n",
            "dropout_158 (Dropout)        (None, 26, 26, 8)         0         \n",
            "_________________________________________________________________\n",
            "conv2d_469 (Conv2D)          (None, 24, 24, 16)        1168      \n",
            "_________________________________________________________________\n",
            "batch_normalization_272 (Bat (None, 24, 24, 16)        64        \n",
            "_________________________________________________________________\n",
            "dropout_159 (Dropout)        (None, 24, 24, 16)        0         \n",
            "_________________________________________________________________\n",
            "conv2d_470 (Conv2D)          (None, 22, 22, 32)        4640      \n",
            "_________________________________________________________________\n",
            "batch_normalization_273 (Bat (None, 22, 22, 32)        128       \n",
            "_________________________________________________________________\n",
            "dropout_160 (Dropout)        (None, 22, 22, 32)        0         \n",
            "_________________________________________________________________\n",
            "max_pooling2d_60 (MaxPooling (None, 11, 11, 32)        0         \n",
            "_________________________________________________________________\n",
            "conv2d_471 (Conv2D)          (None, 11, 11, 10)        330       \n",
            "_________________________________________________________________\n",
            "batch_normalization_274 (Bat (None, 11, 11, 10)        40        \n",
            "_________________________________________________________________\n",
            "conv2d_472 (Conv2D)          (None, 9, 9, 10)          910       \n",
            "_________________________________________________________________\n",
            "batch_normalization_275 (Bat (None, 9, 9, 10)          40        \n",
            "_________________________________________________________________\n",
            "dropout_161 (Dropout)        (None, 9, 9, 10)          0         \n",
            "_________________________________________________________________\n",
            "conv2d_473 (Conv2D)          (None, 7, 7, 16)          1456      \n",
            "_________________________________________________________________\n",
            "batch_normalization_276 (Bat (None, 7, 7, 16)          64        \n",
            "_________________________________________________________________\n",
            "dropout_162 (Dropout)        (None, 7, 7, 16)          0         \n",
            "_________________________________________________________________\n",
            "conv2d_474 (Conv2D)          (None, 7, 7, 10)          170       \n",
            "_________________________________________________________________\n",
            "conv2d_475 (Conv2D)          (None, 1, 1, 10)          4910      \n",
            "_________________________________________________________________\n",
            "flatten_59 (Flatten)         (None, 10)                0         \n",
            "_________________________________________________________________\n",
            "activation_59 (Activation)   (None, 10)                0         \n",
            "=================================================================\n",
            "Total params: 14,032\n",
            "Trainable params: 13,848\n",
            "Non-trainable params: 184\n",
            "_________________________________________________________________\n"
          ],
          "name": "stdout"
        },
        {
          "output_type": "stream",
          "text": [
            "/usr/local/lib/python3.6/dist-packages/ipykernel_launcher.py:29: UserWarning: Update your `Conv2D` call to the Keras 2 API: `Conv2D(10, (7, 7))`\n"
          ],
          "name": "stderr"
        }
      ]
    },
    {
      "cell_type": "markdown",
      "metadata": {
        "id": "gUSaN8xntrNW",
        "colab_type": "text"
      },
      "source": [
        "**Learning Rate:**\n",
        "The value of 0.78 has been reached after several manual runs.  But an alternative approach is using the cyclical learning rate and pick the right learning rate for the model. The advantage of DLR over FLR is the time taken for convergence.\n"
      ]
    },
    {
      "cell_type": "code",
      "metadata": {
        "id": "G3D6fuwHE7Sk",
        "colab_type": "code",
        "colab": {}
      },
      "source": [
        "from keras.callbacks import LearningRateScheduler\n",
        "lr_rate = LearningRateScheduler(lambda x: 3e-3 * 0.78 ** x, verbose=1)"
      ],
      "execution_count": 0,
      "outputs": []
    },
    {
      "cell_type": "code",
      "metadata": {
        "id": "kE1wX3LfvHs1",
        "colab_type": "code",
        "colab": {}
      },
      "source": [
        "optimizer=keras.optimizers.Adam(lr=0.003)                               \n",
        "model.compile(loss='categorical_crossentropy', optimizer=optimizer, metrics=['accuracy'])"
      ],
      "execution_count": 0,
      "outputs": []
    },
    {
      "cell_type": "code",
      "metadata": {
        "id": "XA7tRhhjS4s7",
        "colab_type": "code",
        "outputId": "ec58c62d-84fa-41ab-c10a-67eff3090882",
        "colab": {
          "base_uri": "https://localhost:8080/",
          "height": 1000
        }
      },
      "source": [
        "model.fit(X_train, Y_train,  batch_size=64, validation_data=(X_test,Y_test),epochs=15, verbose=1,callbacks=[lr_rate])"
      ],
      "execution_count": 492,
      "outputs": [
        {
          "output_type": "stream",
          "text": [
            "Train on 60000 samples, validate on 10000 samples\n",
            "Epoch 1/15\n",
            "\n",
            "Epoch 00001: LearningRateScheduler setting learning rate to 0.003.\n",
            "60000/60000 [==============================] - 53s 881us/step - loss: 0.1647 - acc: 0.9487 - val_loss: 0.0642 - val_acc: 0.9789\n",
            "Epoch 2/15\n",
            "\n",
            "Epoch 00002: LearningRateScheduler setting learning rate to 0.00234.\n",
            "60000/60000 [==============================] - 27s 448us/step - loss: 0.0542 - acc: 0.9825 - val_loss: 0.0451 - val_acc: 0.9851\n",
            "Epoch 3/15\n",
            "\n",
            "Epoch 00003: LearningRateScheduler setting learning rate to 0.0018252000000000001.\n",
            "60000/60000 [==============================] - 27s 449us/step - loss: 0.0431 - acc: 0.9863 - val_loss: 0.0331 - val_acc: 0.9889\n",
            "Epoch 4/15\n",
            "\n",
            "Epoch 00004: LearningRateScheduler setting learning rate to 0.0014236560000000001.\n",
            "60000/60000 [==============================] - 27s 449us/step - loss: 0.0345 - acc: 0.9892 - val_loss: 0.0268 - val_acc: 0.9908\n",
            "Epoch 5/15\n",
            "\n",
            "Epoch 00005: LearningRateScheduler setting learning rate to 0.0011104516800000002.\n",
            "60000/60000 [==============================] - 27s 450us/step - loss: 0.0307 - acc: 0.9900 - val_loss: 0.0274 - val_acc: 0.9909\n",
            "Epoch 6/15\n",
            "\n",
            "Epoch 00006: LearningRateScheduler setting learning rate to 0.0008661523104000002.\n",
            "60000/60000 [==============================] - 27s 450us/step - loss: 0.0254 - acc: 0.9915 - val_loss: 0.0231 - val_acc: 0.9929\n",
            "Epoch 7/15\n",
            "\n",
            "Epoch 00007: LearningRateScheduler setting learning rate to 0.0006755988021120002.\n",
            "60000/60000 [==============================] - 27s 450us/step - loss: 0.0227 - acc: 0.9928 - val_loss: 0.0212 - val_acc: 0.9929\n",
            "Epoch 8/15\n",
            "\n",
            "Epoch 00008: LearningRateScheduler setting learning rate to 0.0005269670656473601.\n",
            "60000/60000 [==============================] - 27s 449us/step - loss: 0.0196 - acc: 0.9936 - val_loss: 0.0200 - val_acc: 0.9937\n",
            "Epoch 9/15\n",
            "\n",
            "Epoch 00009: LearningRateScheduler setting learning rate to 0.00041103431120494095.\n",
            "60000/60000 [==============================] - 27s 450us/step - loss: 0.0182 - acc: 0.9945 - val_loss: 0.0199 - val_acc: 0.9936\n",
            "Epoch 10/15\n",
            "\n",
            "Epoch 00010: LearningRateScheduler setting learning rate to 0.0003206067627398539.\n",
            "60000/60000 [==============================] - 27s 452us/step - loss: 0.0168 - acc: 0.9948 - val_loss: 0.0209 - val_acc: 0.9933\n",
            "Epoch 11/15\n",
            "\n",
            "Epoch 00011: LearningRateScheduler setting learning rate to 0.0002500732749370861.\n",
            "60000/60000 [==============================] - 27s 448us/step - loss: 0.0153 - acc: 0.9949 - val_loss: 0.0198 - val_acc: 0.9936\n",
            "Epoch 12/15\n",
            "\n",
            "Epoch 00012: LearningRateScheduler setting learning rate to 0.00019505715445092714.\n",
            "60000/60000 [==============================] - 27s 448us/step - loss: 0.0147 - acc: 0.9955 - val_loss: 0.0194 - val_acc: 0.9938\n",
            "Epoch 13/15\n",
            "\n",
            "Epoch 00013: LearningRateScheduler setting learning rate to 0.00015214458047172318.\n",
            "60000/60000 [==============================] - 27s 449us/step - loss: 0.0138 - acc: 0.9954 - val_loss: 0.0200 - val_acc: 0.9935\n",
            "Epoch 14/15\n",
            "\n",
            "Epoch 00014: LearningRateScheduler setting learning rate to 0.00011867277276794407.\n",
            "60000/60000 [==============================] - 27s 449us/step - loss: 0.0142 - acc: 0.9952 - val_loss: 0.0197 - val_acc: 0.9937\n",
            "Epoch 15/15\n",
            "\n",
            "Epoch 00015: LearningRateScheduler setting learning rate to 9.256476275899639e-05.\n",
            "60000/60000 [==============================] - 27s 448us/step - loss: 0.0131 - acc: 0.9959 - val_loss: 0.0193 - val_acc: 0.9940\n"
          ],
          "name": "stdout"
        },
        {
          "output_type": "execute_result",
          "data": {
            "text/plain": [
              "<keras.callbacks.History at 0x7f132272b080>"
            ]
          },
          "metadata": {
            "tags": []
          },
          "execution_count": 492
        }
      ]
    },
    {
      "cell_type": "markdown",
      "metadata": {
        "id": "haeHeS1DZhlF",
        "colab_type": "text"
      },
      "source": [
        "**Observations:**\n",
        "\n",
        "* The best error rate achieved is .60%.   \n",
        "\n",
        "* Drop-out across layers has definitely help over-fitting in the model. The gap between the train and validation has reduced significantly from the previous iterations.\n",
        "\n",
        "* We see decreasing the learning rate over epochs,If we constantly keep a learning rate high, we could overshoot these areas of low loss as we’ll be taking too large of steps to descend into those series. \n"
      ]
    },
    {
      "cell_type": "markdown",
      "metadata": {
        "id": "roX7JiynkYFp",
        "colab_type": "text"
      },
      "source": [
        "##**Step 4**\n",
        "\n",
        "With the combination of drop-out and decaying LR, One extra change in the step is the increase in batch size. \n",
        "\n",
        "An ideal approach would be to give entire traning data in one shot. Since that comes with a high cost, we train in mini batches. Here, we tried to increase the batch size to better number (512). \n",
        "\n",
        "Now let's test the above statement, \"Does Batch Size impacts accuracy?\""
      ]
    },
    {
      "cell_type": "code",
      "metadata": {
        "id": "7bnQqQslNFiZ",
        "colab_type": "code",
        "colab": {
          "base_uri": "https://localhost:8080/",
          "height": 1000
        },
        "outputId": "5edaf16a-d2e2-4399-ff99-dc7da9b06505"
      },
      "source": [
        "model.fit(X_train, Y_train,  batch_size=512, validation_data=(X_test,Y_test),epochs=20, verbose=1,callbacks=[lr_rate])"
      ],
      "execution_count": 493,
      "outputs": [
        {
          "output_type": "stream",
          "text": [
            "Train on 60000 samples, validate on 10000 samples\n",
            "Epoch 1/20\n",
            "\n",
            "Epoch 00001: LearningRateScheduler setting learning rate to 0.003.\n",
            "60000/60000 [==============================] - 8s 131us/step - loss: 0.0167 - acc: 0.9945 - val_loss: 0.0188 - val_acc: 0.9935\n",
            "Epoch 2/20\n",
            "\n",
            "Epoch 00002: LearningRateScheduler setting learning rate to 0.00234.\n",
            "60000/60000 [==============================] - 8s 129us/step - loss: 0.0156 - acc: 0.9949 - val_loss: 0.0199 - val_acc: 0.9937\n",
            "Epoch 3/20\n",
            "\n",
            "Epoch 00003: LearningRateScheduler setting learning rate to 0.0018252000000000001.\n",
            "60000/60000 [==============================] - 8s 129us/step - loss: 0.0132 - acc: 0.9961 - val_loss: 0.0200 - val_acc: 0.9935\n",
            "Epoch 4/20\n",
            "\n",
            "Epoch 00004: LearningRateScheduler setting learning rate to 0.0014236560000000001.\n",
            "60000/60000 [==============================] - 8s 129us/step - loss: 0.0128 - acc: 0.9958 - val_loss: 0.0176 - val_acc: 0.9942\n",
            "Epoch 5/20\n",
            "\n",
            "Epoch 00005: LearningRateScheduler setting learning rate to 0.0011104516800000002.\n",
            "60000/60000 [==============================] - 8s 129us/step - loss: 0.0114 - acc: 0.9965 - val_loss: 0.0191 - val_acc: 0.9940\n",
            "Epoch 6/20\n",
            "\n",
            "Epoch 00006: LearningRateScheduler setting learning rate to 0.0008661523104000002.\n",
            "60000/60000 [==============================] - 8s 130us/step - loss: 0.0103 - acc: 0.9970 - val_loss: 0.0182 - val_acc: 0.9941\n",
            "Epoch 7/20\n",
            "\n",
            "Epoch 00007: LearningRateScheduler setting learning rate to 0.0006755988021120002.\n",
            "60000/60000 [==============================] - 8s 129us/step - loss: 0.0106 - acc: 0.9965 - val_loss: 0.0194 - val_acc: 0.9942\n",
            "Epoch 8/20\n",
            "\n",
            "Epoch 00008: LearningRateScheduler setting learning rate to 0.0005269670656473601.\n",
            "60000/60000 [==============================] - 8s 130us/step - loss: 0.0102 - acc: 0.9967 - val_loss: 0.0188 - val_acc: 0.9946\n",
            "Epoch 9/20\n",
            "\n",
            "Epoch 00009: LearningRateScheduler setting learning rate to 0.00041103431120494095.\n",
            "60000/60000 [==============================] - 8s 130us/step - loss: 0.0105 - acc: 0.9963 - val_loss: 0.0192 - val_acc: 0.9944\n",
            "Epoch 10/20\n",
            "\n",
            "Epoch 00010: LearningRateScheduler setting learning rate to 0.0003206067627398539.\n",
            "60000/60000 [==============================] - 8s 129us/step - loss: 0.0103 - acc: 0.9965 - val_loss: 0.0181 - val_acc: 0.9948\n",
            "Epoch 11/20\n",
            "\n",
            "Epoch 00011: LearningRateScheduler setting learning rate to 0.0002500732749370861.\n",
            "60000/60000 [==============================] - 8s 130us/step - loss: 0.0102 - acc: 0.9968 - val_loss: 0.0188 - val_acc: 0.9948\n",
            "Epoch 12/20\n",
            "\n",
            "Epoch 00012: LearningRateScheduler setting learning rate to 0.00019505715445092714.\n",
            "60000/60000 [==============================] - 8s 129us/step - loss: 0.0099 - acc: 0.9969 - val_loss: 0.0188 - val_acc: 0.9947\n",
            "Epoch 13/20\n",
            "\n",
            "Epoch 00013: LearningRateScheduler setting learning rate to 0.00015214458047172318.\n",
            "60000/60000 [==============================] - 8s 129us/step - loss: 0.0093 - acc: 0.9971 - val_loss: 0.0186 - val_acc: 0.9947\n",
            "Epoch 14/20\n",
            "\n",
            "Epoch 00014: LearningRateScheduler setting learning rate to 0.00011867277276794407.\n",
            "60000/60000 [==============================] - 8s 129us/step - loss: 0.0096 - acc: 0.9969 - val_loss: 0.0188 - val_acc: 0.9945\n",
            "Epoch 15/20\n",
            "\n",
            "Epoch 00015: LearningRateScheduler setting learning rate to 9.256476275899639e-05.\n",
            "60000/60000 [==============================] - 8s 129us/step - loss: 0.0093 - acc: 0.9969 - val_loss: 0.0184 - val_acc: 0.9949\n",
            "Epoch 16/20\n",
            "\n",
            "Epoch 00016: LearningRateScheduler setting learning rate to 7.220051495201719e-05.\n",
            "60000/60000 [==============================] - 8s 129us/step - loss: 0.0090 - acc: 0.9973 - val_loss: 0.0186 - val_acc: 0.9943\n",
            "Epoch 17/20\n",
            "\n",
            "Epoch 00017: LearningRateScheduler setting learning rate to 5.63164016625734e-05.\n",
            "60000/60000 [==============================] - 8s 129us/step - loss: 0.0092 - acc: 0.9972 - val_loss: 0.0188 - val_acc: 0.9944\n",
            "Epoch 18/20\n",
            "\n",
            "Epoch 00018: LearningRateScheduler setting learning rate to 4.392679329680726e-05.\n",
            "60000/60000 [==============================] - 8s 129us/step - loss: 0.0095 - acc: 0.9969 - val_loss: 0.0184 - val_acc: 0.9947\n",
            "Epoch 19/20\n",
            "\n",
            "Epoch 00019: LearningRateScheduler setting learning rate to 3.426289877150966e-05.\n",
            "60000/60000 [==============================] - 8s 129us/step - loss: 0.0094 - acc: 0.9968 - val_loss: 0.0186 - val_acc: 0.9949\n",
            "Epoch 20/20\n",
            "\n",
            "Epoch 00020: LearningRateScheduler setting learning rate to 2.6725061041777538e-05.\n",
            "60000/60000 [==============================] - 8s 130us/step - loss: 0.0087 - acc: 0.9971 - val_loss: 0.0188 - val_acc: 0.9946\n"
          ],
          "name": "stdout"
        },
        {
          "output_type": "execute_result",
          "data": {
            "text/plain": [
              "<keras.callbacks.History at 0x7f132272bda0>"
            ]
          },
          "metadata": {
            "tags": []
          },
          "execution_count": 493
        }
      ]
    },
    {
      "cell_type": "code",
      "metadata": {
        "id": "NLDx8M3_BHHr",
        "colab_type": "code",
        "colab": {
          "base_uri": "https://localhost:8080/",
          "height": 510
        },
        "outputId": "a28b6608-c462-4b61-a15a-a617df5f4db6"
      },
      "source": [
        "score = model.evaluate(X_test, Y_test, verbose=0)\n",
        "print(score)\n",
        "y_pred = model.predict(X_test)\n",
        "print(y_pred[:9])\n",
        "print(y_test[:9])"
      ],
      "execution_count": 494,
      "outputs": [
        {
          "output_type": "stream",
          "text": [
            "[0.01880233571697554, 0.9946]\n",
            "[[3.65195206e-14 1.11065358e-10 1.36794593e-08 3.17938706e-08\n",
            "  1.59062433e-15 4.83869943e-13 2.92459399e-20 1.00000000e+00\n",
            "  1.06680159e-11 1.04014360e-10]\n",
            " [2.39022544e-08 1.42852025e-06 9.99998569e-01 2.76578260e-10\n",
            "  4.00861033e-09 3.11732823e-12 1.96818686e-08 8.78141115e-10\n",
            "  2.80096013e-09 2.38447206e-10]\n",
            " [2.68824702e-11 9.99999523e-01 6.21679153e-09 6.45172527e-10\n",
            "  2.19384930e-07 1.71851056e-07 1.14014206e-07 2.68868199e-08\n",
            "  2.49837626e-08 9.84228588e-10]\n",
            " [9.99997854e-01 5.67192531e-15 3.58696989e-10 1.25412235e-12\n",
            "  1.96479486e-12 9.29899144e-11 2.17432580e-06 5.28705638e-12\n",
            "  1.61446068e-09 9.82752546e-10]\n",
            " [8.74387978e-14 1.38009426e-09 7.09409337e-11 2.43588279e-16\n",
            "  9.99997616e-01 6.06849477e-13 5.18523896e-12 1.99785588e-09\n",
            "  1.53182592e-10 2.43106592e-06]\n",
            " [2.40791986e-09 9.99998927e-01 1.14758329e-07 3.07053077e-10\n",
            "  5.93304605e-07 1.49963046e-08 8.93157619e-08 2.59557709e-07\n",
            "  1.63781486e-08 1.24031212e-08]\n",
            " [4.11550810e-18 1.01763380e-08 1.94818828e-08 1.05498176e-15\n",
            "  9.99999523e-01 2.61478708e-12 2.97426175e-15 3.90605520e-10\n",
            "  5.32964293e-07 1.61669444e-09]\n",
            " [3.92667371e-13 1.30841213e-10 8.37634906e-10 4.64571853e-10\n",
            "  3.29265786e-05 2.33549707e-10 1.18011205e-14 8.57593663e-10\n",
            "  2.81830936e-09 9.99967098e-01]\n",
            " [2.68533425e-11 1.07789188e-15 3.32536798e-12 1.64908034e-08\n",
            "  7.96858442e-15 9.99911070e-01 5.73996876e-05 2.55821873e-14\n",
            "  3.14611934e-05 3.90313515e-09]]\n",
            "[7 2 1 0 4 1 4 9 5]\n"
          ],
          "name": "stdout"
        }
      ]
    },
    {
      "cell_type": "markdown",
      "metadata": {
        "id": "Hp3gmCq-heD3",
        "colab_type": "text"
      },
      "source": [
        "**Observations:**\n",
        "\n",
        "\n",
        "\n",
        "*   We are able to hit validation accuracy of 99.4% constantly and with the best of 99.50% in this iteration. However, compared to the previous iteration we see a slight overfitting as the gap between train and validation has increased slightly.\n"
      ]
    },
    {
      "cell_type": "markdown",
      "metadata": {
        "id": "DU5xSYxuqeM9",
        "colab_type": "text"
      },
      "source": [
        "**Summary:**\n",
        "\n",
        "The problem statement was to hit the target of 99.4% in validation with less 15k params.\n",
        "\n",
        "\n",
        "We have achieved the result in four steps:\n",
        "\n",
        "1. Started with a vanilla CNN to establish the model architecture. - 98.84%\n",
        "2. Introduced the batch normalization and Drop-out(for regularization). - 99.13%\n",
        "3. Structured the drop-out across all layers and introduced the decaying learning rate. - 99.40%\n",
        "4. In addition to the above, increased the batch size to 512 from 64. - 99.49%\n",
        "\n"
      ]
    }
  ]
}